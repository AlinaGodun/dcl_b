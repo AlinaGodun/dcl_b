{
 "cells": [
  {
   "cell_type": "code",
   "execution_count": 22,
   "id": "corporate-sherman",
   "metadata": {
    "scrolled": false
   },
   "outputs": [
    {
     "name": "stdout",
     "output_type": "stream",
     "text": [
      "The autoreload extension is already loaded. To reload it, use:\n",
      "  %reload_ext autoreload\n"
     ]
    }
   ],
   "source": [
    "# Importing all necessary libraries\n",
    "%load_ext autoreload\n",
    "%autoreload 2\n",
    "\n",
    "# internal packages\n",
    "import os\n",
    "from collections import Counter, OrderedDict\n",
    "\n",
    "# external packages\n",
    "import torch\n",
    "import torchvision\n",
    "import numpy as np\n",
    "import sklearn\n",
    "from sklearn.cluster import KMeans\n",
    "from sklearn.metrics import normalized_mutual_info_score, confusion_matrix\n",
    "from sklearn.decomposition import PCA\n",
    "import matplotlib\n",
    "from matplotlib import pyplot as plt\n",
    "import seaborn as sns\n",
    "import pandas as pd\n",
    "\n",
    "# util functions\n",
    "from util.util import *\n",
    "\n",
    "# dataset functions\n",
    "from dataset import load_util\n",
    "\n",
    "# autoencoder\n",
    "from models.autoencoder.conv_ae import ConvAE\n",
    "from models.simclr.simclr import *\n",
    "from models.simclr.transforms import *\n",
    "from models.rotnet.rotnet import *\n",
    "from models.rotnet.IDEC import *\n",
    "from models.rotnet.custom_stl10 import *\n",
    "from cluster_accuracy import cluster_accuracy"
   ]
  },
  {
   "cell_type": "code",
   "execution_count": 23,
   "id": "palestinian-harris",
   "metadata": {},
   "outputs": [
    {
     "data": {
      "application/javascript": [
       "IPython.OutputArea.prototype._should_scroll = function(lines) {\n",
       "    return false;\n",
       "}\n"
      ],
      "text/plain": [
       "<IPython.core.display.Javascript object>"
      ]
     },
     "metadata": {},
     "output_type": "display_data"
    }
   ],
   "source": [
    "%%javascript\n",
    "IPython.OutputArea.prototype._should_scroll = function(lines) {\n",
    "    return false;\n",
    "}"
   ]
  },
  {
   "cell_type": "code",
   "execution_count": 24,
   "id": "conceptual-stretch",
   "metadata": {
    "scrolled": true
   },
   "outputs": [
    {
     "name": "stdout",
     "output_type": "stream",
     "text": [
      "Versions:\n",
      "torch: 1.8.1+cu111\n",
      "torchvision: 0.9.1+cu111\n",
      "numpy: 1.19.5\n",
      "scikit-learn: 0.24.1\n",
      "Using device:  cuda\n"
     ]
    }
   ],
   "source": [
    "print(\"Versions:\")\n",
    "print(f\"torch: {torch.__version__}\")\n",
    "print(f\"torchvision: {torchvision.__version__}\")\n",
    "print(f\"numpy: {np.__version__}\",)\n",
    "print(f\"scikit-learn: {sklearn.__version__}\")\n",
    "\n",
    "device = detect_device()\n",
    "print(\"Using device: \", device)"
   ]
  },
  {
   "cell_type": "markdown",
   "id": "continuous-spice",
   "metadata": {},
   "source": [
    "## Preparation"
   ]
  },
  {
   "cell_type": "code",
   "execution_count": 18,
   "id": "sonic-operation",
   "metadata": {
    "scrolled": true
   },
   "outputs": [],
   "source": [
    "# specify learning params\n",
    "batch_size = 128\n",
    "learning_rate = 0.1\n",
    "epochs = 100\n",
    "\n",
    "# training\n",
    "\n",
    "train = True"
   ]
  },
  {
   "cell_type": "code",
   "execution_count": 19,
   "id": "industrial-accordance",
   "metadata": {
    "scrolled": true
   },
   "outputs": [],
   "source": [
    "test_data = load_util.load_custom_cifar('./data', download=False, train=False, data_percent=1.0, for_model='SimCLR', transforms=False)\n",
    "testloader = torch.utils.data.DataLoader(test_data,\n",
    "                                          batch_size=128,\n",
    "                                          shuffle=True,\n",
    "                                          drop_last=True)"
   ]
  },
  {
   "cell_type": "code",
   "execution_count": 20,
   "id": "manufactured-sleep",
   "metadata": {
    "scrolled": true
   },
   "outputs": [],
   "source": [
    "colors_classes = {i: color_class for i, color_class in zip(range(len(test_data.classes)), test_data.classes)}"
   ]
  },
  {
   "cell_type": "code",
   "execution_count": 14,
   "id": "theoretical-manufacturer",
   "metadata": {},
   "outputs": [],
   "source": [
    "def get_nmis_and_cas_10_runs(model_name, colors_classes, device):\n",
    "    nmis = {}\n",
    "    cas = {}\n",
    "\n",
    "    for i in range(10):\n",
    "        name = f'{model_name}_{i}.pth'\n",
    "        print(name)\n",
    "        \n",
    "        model = load_model(name, device, torch.rand(size=(4, 12288)))\n",
    "        nmis[i] = []\n",
    "        cas[i] = []\n",
    "\n",
    "        for k in range(10):\n",
    "            labels, kmeans, nmi, _, _ = compute_nmi_and_pca(model, name, colors_classes, device, testloader)\n",
    "            nmis[i].append(nmi)\n",
    "\n",
    "            ca = cluster_accuracy(labels, kmeans.labels_)\n",
    "            cas[i].append(ca)\n",
    "            print(f'Run: {k}\\n{name}:\\nNMI:{nmi}\\nCA:{ca}\\n')\n",
    "            del labels\n",
    "            del kmeans\n",
    "    return nmis, cas"
   ]
  },
  {
   "cell_type": "code",
   "execution_count": 15,
   "id": "recovered-conservative",
   "metadata": {},
   "outputs": [],
   "source": [
    "def get_nmis_and_cas_10_runs_1_model(model_name, colors_classes, device):\n",
    "    print(model_name)\n",
    "\n",
    "    model = load_model(model_name, device, torch.rand(size=(4, 12288)))\n",
    "    nmis = []\n",
    "    cas = []\n",
    "\n",
    "    for k in range(5):\n",
    "        labels, kmeans, nmi, _, _ = compute_nmi_and_pca(model, model_name, colors_classes, device, testloader)\n",
    "        nmis.append(nmi)\n",
    "\n",
    "        ca = cluster_accuracy(labels, kmeans.labels_)\n",
    "        cas.append(ca)\n",
    "        print(f'Run: {k}\\n{model_name}:\\nNMI:{nmi}\\nCA:{ca}\\n')\n",
    "        del labels\n",
    "        del kmeans\n",
    "    return nmis, cas"
   ]
  },
  {
   "cell_type": "code",
   "execution_count": 15,
   "id": "liquid-output",
   "metadata": {},
   "outputs": [],
   "source": [
    "def print_total_mean_and_var(metrics_name, df):\n",
    "    models_means = df.mean()\n",
    "\n",
    "    total_mean = models_means.mean()\n",
    "    total_std = models_means.std()\n",
    "    \n",
    "    print(f'{metrics_name} mean: {total_mean:.4f}')\n",
    "    print(f'{metrics_name} variance: {total_std:.4f}')"
   ]
  },
  {
   "cell_type": "markdown",
   "id": "sticky-adjustment",
   "metadata": {},
   "source": [
    "## Overall comparison"
   ]
  },
  {
   "cell_type": "code",
   "execution_count": 44,
   "id": "blind-uncertainty",
   "metadata": {},
   "outputs": [],
   "source": [
    "nmi_all = pd.read_csv('trained_models/nmis_all.csv', index_col=0, header=0)"
   ]
  },
  {
   "cell_type": "code",
   "execution_count": 45,
   "id": "brilliant-electron",
   "metadata": {},
   "outputs": [],
   "source": [
    "ca_all = pd.read_csv('trained_models/cas_all.csv', index_col=0, header=0)"
   ]
  },
  {
   "cell_type": "code",
   "execution_count": 46,
   "id": "english-bumper",
   "metadata": {},
   "outputs": [
    {
     "data": {
      "text/html": [
       "<div>\n",
       "<style scoped>\n",
       "    .dataframe tbody tr th:only-of-type {\n",
       "        vertical-align: middle;\n",
       "    }\n",
       "\n",
       "    .dataframe tbody tr th {\n",
       "        vertical-align: top;\n",
       "    }\n",
       "\n",
       "    .dataframe thead th {\n",
       "        text-align: right;\n",
       "    }\n",
       "</style>\n",
       "<table border=\"1\" class=\"dataframe\">\n",
       "  <thead>\n",
       "    <tr style=\"text-align: right;\">\n",
       "      <th></th>\n",
       "      <th>CIFAR NMI</th>\n",
       "      <th>CIFAR NMI VAR</th>\n",
       "      <th>STL10 NMI</th>\n",
       "      <th>STL10 NMI VAR</th>\n",
       "    </tr>\n",
       "    <tr>\n",
       "      <th>Model</th>\n",
       "      <th></th>\n",
       "      <th></th>\n",
       "      <th></th>\n",
       "      <th></th>\n",
       "    </tr>\n",
       "  </thead>\n",
       "  <tbody>\n",
       "    <tr>\n",
       "      <th>RotNet</th>\n",
       "      <td>0.3506</td>\n",
       "      <td>0.0017</td>\n",
       "      <td>0.3357</td>\n",
       "      <td>0.0032</td>\n",
       "    </tr>\n",
       "    <tr>\n",
       "      <th>RotNet + DEC</th>\n",
       "      <td>0.1042</td>\n",
       "      <td>0.0001</td>\n",
       "      <td>0.0000</td>\n",
       "      <td>0.0000</td>\n",
       "    </tr>\n",
       "    <tr>\n",
       "      <th>SimCLR</th>\n",
       "      <td>0.4724</td>\n",
       "      <td>0.0033</td>\n",
       "      <td>0.0000</td>\n",
       "      <td>0.0000</td>\n",
       "    </tr>\n",
       "    <tr>\n",
       "      <th>SimCLR + 100</th>\n",
       "      <td>0.4924</td>\n",
       "      <td>0.0033</td>\n",
       "      <td>0.0000</td>\n",
       "      <td>0.0000</td>\n",
       "    </tr>\n",
       "    <tr>\n",
       "      <th>SimCLR + IDEC</th>\n",
       "      <td>0.5569</td>\n",
       "      <td>0.0001</td>\n",
       "      <td>0.0000</td>\n",
       "      <td>0.0000</td>\n",
       "    </tr>\n",
       "  </tbody>\n",
       "</table>\n",
       "</div>"
      ],
      "text/plain": [
       "                CIFAR NMI   CIFAR NMI VAR   STL10 NMI   STL10 NMI VAR\n",
       "Model                                                                \n",
       "RotNet             0.3506          0.0017      0.3357          0.0032\n",
       "RotNet + DEC       0.1042          0.0001      0.0000          0.0000\n",
       "SimCLR             0.4724          0.0033      0.0000          0.0000\n",
       "SimCLR + 100       0.4924          0.0033      0.0000          0.0000\n",
       "SimCLR + IDEC      0.5569          0.0001      0.0000          0.0000"
      ]
     },
     "execution_count": 46,
     "metadata": {},
     "output_type": "execute_result"
    }
   ],
   "source": [
    "nmi_all"
   ]
  },
  {
   "cell_type": "code",
   "execution_count": 47,
   "id": "latter-vampire",
   "metadata": {},
   "outputs": [
    {
     "data": {
      "text/html": [
       "<div>\n",
       "<style scoped>\n",
       "    .dataframe tbody tr th:only-of-type {\n",
       "        vertical-align: middle;\n",
       "    }\n",
       "\n",
       "    .dataframe tbody tr th {\n",
       "        vertical-align: top;\n",
       "    }\n",
       "\n",
       "    .dataframe thead th {\n",
       "        text-align: right;\n",
       "    }\n",
       "</style>\n",
       "<table border=\"1\" class=\"dataframe\">\n",
       "  <thead>\n",
       "    <tr style=\"text-align: right;\">\n",
       "      <th></th>\n",
       "      <th>CIFAR CA</th>\n",
       "      <th>CIFAR CA VAR</th>\n",
       "      <th>STL10 CA</th>\n",
       "      <th>STL10 CA VAR</th>\n",
       "    </tr>\n",
       "    <tr>\n",
       "      <th>Model</th>\n",
       "      <th></th>\n",
       "      <th></th>\n",
       "      <th></th>\n",
       "      <th></th>\n",
       "    </tr>\n",
       "  </thead>\n",
       "  <tbody>\n",
       "    <tr>\n",
       "      <th>RotNet</th>\n",
       "      <td>0.4357</td>\n",
       "      <td>0.0051</td>\n",
       "      <td>0.3641</td>\n",
       "      <td>0.0076</td>\n",
       "    </tr>\n",
       "    <tr>\n",
       "      <th>RotNet + DEC</th>\n",
       "      <td>0.2065</td>\n",
       "      <td>0.0002</td>\n",
       "      <td>0.0000</td>\n",
       "      <td>0.0000</td>\n",
       "    </tr>\n",
       "    <tr>\n",
       "      <th>SimCLR</th>\n",
       "      <td>0.5904</td>\n",
       "      <td>0.0090</td>\n",
       "      <td>0.0000</td>\n",
       "      <td>0.0000</td>\n",
       "    </tr>\n",
       "    <tr>\n",
       "      <th>SimCLR + 100</th>\n",
       "      <td>0.5815</td>\n",
       "      <td>0.0017</td>\n",
       "      <td>0.0000</td>\n",
       "      <td>0.0000</td>\n",
       "    </tr>\n",
       "    <tr>\n",
       "      <th>SimCLR + IDEC</th>\n",
       "      <td>0.6576</td>\n",
       "      <td>0.0000</td>\n",
       "      <td>0.0000</td>\n",
       "      <td>0.0000</td>\n",
       "    </tr>\n",
       "  </tbody>\n",
       "</table>\n",
       "</div>"
      ],
      "text/plain": [
       "                CIFAR CA   CIFAR CA VAR   STL10 CA   STL10 CA VAR\n",
       "Model                                                            \n",
       "RotNet            0.4357         0.0051     0.3641         0.0076\n",
       "RotNet + DEC      0.2065         0.0002     0.0000         0.0000\n",
       "SimCLR            0.5904         0.0090     0.0000         0.0000\n",
       "SimCLR + 100      0.5815         0.0017     0.0000         0.0000\n",
       "SimCLR + IDEC     0.6576         0.0000     0.0000         0.0000"
      ]
     },
     "execution_count": 47,
     "metadata": {},
     "output_type": "execute_result"
    }
   ],
   "source": [
    "ca_all"
   ]
  },
  {
   "cell_type": "markdown",
   "id": "ignored-migration",
   "metadata": {},
   "source": [
    "## RotNet"
   ]
  },
  {
   "cell_type": "markdown",
   "id": "united-programmer",
   "metadata": {},
   "source": [
    "### CIFAR : Pretraining"
   ]
  },
  {
   "cell_type": "code",
   "execution_count": 110,
   "id": "massive-olive",
   "metadata": {},
   "outputs": [],
   "source": [
    "path_nmis = 'trained_models/RotNet/CIFAR/nmis.csv'\n",
    "path_cas = 'trained_models/RotNet/CIFAR/cas.csv'"
   ]
  },
  {
   "cell_type": "markdown",
   "id": "secondary-proposition",
   "metadata": {},
   "source": [
    "Uncomment this part to generate new NMI and cluster accuracies"
   ]
  },
  {
   "cell_type": "code",
   "execution_count": null,
   "id": "central-mapping",
   "metadata": {},
   "outputs": [],
   "source": [
    "# rotnet_nmis_cifar, rotnet_cas_cifar = get_nmis_and_cas_10_runs('RotNet\\CIFAR\\pretrained_RotNet', colors_classes, device)"
   ]
  },
  {
   "cell_type": "code",
   "execution_count": null,
   "id": "white-right",
   "metadata": {},
   "outputs": [],
   "source": [
    "# df_rotnet_nmis_cifar = pd.DataFrame(rotnet_nmis_cifar)\n",
    "# df_rotnet_cas_cifar = pd.DataFrame(rotnet_cas_cifar)"
   ]
  },
  {
   "cell_type": "code",
   "execution_count": 74,
   "id": "finished-mercy",
   "metadata": {},
   "outputs": [],
   "source": [
    "# df_rotnet_nmis_cifar.to_csv(path_nmis)\n",
    "# df_rotnet_cas_cifar.to_csv(path_cas)"
   ]
  },
  {
   "cell_type": "markdown",
   "id": "turkish-boring",
   "metadata": {},
   "source": [
    "This code loads existing dataframes from specified paths"
   ]
  },
  {
   "cell_type": "code",
   "execution_count": 111,
   "id": "streaming-cylinder",
   "metadata": {},
   "outputs": [],
   "source": [
    "df_rotnet_nmis_cifar = pd.read_csv(path_nmis, index_col=0)\n",
    "df_rotnet_cas_cifar = pd.read_csv(path_cas, index_col=0)"
   ]
  },
  {
   "cell_type": "code",
   "execution_count": 112,
   "id": "mysterious-aerospace",
   "metadata": {},
   "outputs": [
    {
     "name": "stdout",
     "output_type": "stream",
     "text": [
      "NMI mean: 0.3506\n",
      "NMI variance: 0.0017\n"
     ]
    }
   ],
   "source": [
    "print_total_mean_and_var('NMI', df_rotnet_nmis_cifar)"
   ]
  },
  {
   "cell_type": "code",
   "execution_count": 113,
   "id": "spiritual-groove",
   "metadata": {},
   "outputs": [
    {
     "name": "stdout",
     "output_type": "stream",
     "text": [
      "Cluser accuracy mean: 0.4357\n",
      "Cluser accuracy variance: 0.0051\n"
     ]
    }
   ],
   "source": [
    "print_total_mean_and_var('Cluser accuracy', df_rotnet_cas_cifar)"
   ]
  },
  {
   "cell_type": "markdown",
   "id": "affected-electric",
   "metadata": {},
   "source": [
    "### CIFAR: DEC"
   ]
  },
  {
   "cell_type": "code",
   "execution_count": 114,
   "id": "shared-disability",
   "metadata": {},
   "outputs": [],
   "source": [
    "path_nmis = 'trained_models/RotNet/CIFAR/nmis_dec.csv'\n",
    "path_cas = 'trained_models/RotNet/CIFAR/cas_dec.csv'"
   ]
  },
  {
   "cell_type": "markdown",
   "id": "alpha-assessment",
   "metadata": {},
   "source": [
    "Uncomment this part to generate new NMI and cluster accuracies"
   ]
  },
  {
   "cell_type": "code",
   "execution_count": null,
   "id": "reliable-definition",
   "metadata": {},
   "outputs": [],
   "source": [
    "# rotnet_nmis_cifar_dec, rotnet_cas_cifar_dec = get_nmis_and_cas_10_runs('RotNet\\CIFAR\\DEC_RotNet', colors_classes, device)"
   ]
  },
  {
   "cell_type": "code",
   "execution_count": null,
   "id": "tutorial-diagnosis",
   "metadata": {},
   "outputs": [],
   "source": [
    "# df_rotnet_nmis_cifar_dec = pd.DataFrame(rotnet_nmis_cifar_dec)\n",
    "# df_rotnet_cas_cifar_dec = pd.DataFrame(rotnet_cas_cifar_dec)"
   ]
  },
  {
   "cell_type": "code",
   "execution_count": 105,
   "id": "interested-assurance",
   "metadata": {},
   "outputs": [],
   "source": [
    "# df_rotnet_nmis_cifar_dec.to_csv(path_nmis)\n",
    "# df_rotnet_cas_cifar_dec.to_csv(path_cas)"
   ]
  },
  {
   "cell_type": "markdown",
   "id": "premium-basement",
   "metadata": {},
   "source": [
    "This code loads existing dataframes from specified paths"
   ]
  },
  {
   "cell_type": "code",
   "execution_count": 115,
   "id": "worst-cardiff",
   "metadata": {},
   "outputs": [],
   "source": [
    "df_rotnet_nmis_cifar_dec = pd.read_csv(path_nmis, index_col=0)\n",
    "df_rotnet_cas_cifar_dec = pd.read_csv(path_cas, index_col=0)"
   ]
  },
  {
   "cell_type": "code",
   "execution_count": 117,
   "id": "wrong-healing",
   "metadata": {},
   "outputs": [
    {
     "name": "stdout",
     "output_type": "stream",
     "text": [
      "NMI mean: 0.1042\n",
      "NMI variance: 0.0001\n"
     ]
    }
   ],
   "source": [
    "print_total_mean_and_var('NMI', df_rotnet_nmis_cifar_dec)"
   ]
  },
  {
   "cell_type": "code",
   "execution_count": 118,
   "id": "political-spanking",
   "metadata": {},
   "outputs": [
    {
     "name": "stdout",
     "output_type": "stream",
     "text": [
      "Cluser accuracy mean: 0.2065\n",
      "Cluser accuracy variance: 0.0002\n"
     ]
    }
   ],
   "source": [
    "print_total_mean_and_var('Cluser accuracy', df_rotnet_cas_cifar_dec)"
   ]
  },
  {
   "cell_type": "markdown",
   "id": "abandoned-education",
   "metadata": {},
   "source": [
    "### STL10: Pretraining"
   ]
  },
  {
   "cell_type": "code",
   "execution_count": 144,
   "id": "danish-vancouver",
   "metadata": {},
   "outputs": [],
   "source": [
    "path_nmis = 'trained_models/RotNet/STL10/nmis.csv'\n",
    "path_cas = 'trained_models/RotNet/STL10/cas.csv'"
   ]
  },
  {
   "cell_type": "markdown",
   "id": "signal-hanging",
   "metadata": {},
   "source": [
    "Uncomment this part to generate new NMI and cluster accuracies"
   ]
  },
  {
   "cell_type": "code",
   "execution_count": null,
   "id": "matched-shape",
   "metadata": {},
   "outputs": [],
   "source": [
    "# rotnet_nmis_stl10, rotnet_cas_stl10 = get_nmis_and_cas_10_runs('RotNet\\STL10\\pretrained_RotNet_STL10', colors_classes, device)"
   ]
  },
  {
   "cell_type": "code",
   "execution_count": null,
   "id": "postal-intensity",
   "metadata": {},
   "outputs": [],
   "source": [
    "# df_rotnet_nmis_stl10 = pd.DataFrame(rotnet_nmis_stl10)\n",
    "# df_rotnet_cas_stl10 = pd.DataFrame(rotnet_cas_stl10)"
   ]
  },
  {
   "cell_type": "code",
   "execution_count": 149,
   "id": "exclusive-riverside",
   "metadata": {},
   "outputs": [],
   "source": [
    "# df_rotnet_nmis_stl10.to_csv(path_nmis)\n",
    "# df_rotnet_cas_stl10.to_csv(path_cas)"
   ]
  },
  {
   "cell_type": "code",
   "execution_count": 145,
   "id": "brief-terry",
   "metadata": {},
   "outputs": [],
   "source": [
    "df_rotnet_nmis_stl10 = pd.read_csv(path_nmis, index_col=0)\n",
    "df_rotnet_cas_stl10 = pd.read_csv(path_cas, index_col=0)"
   ]
  },
  {
   "cell_type": "code",
   "execution_count": 128,
   "id": "handmade-compilation",
   "metadata": {},
   "outputs": [
    {
     "name": "stdout",
     "output_type": "stream",
     "text": [
      "NMI mean: 0.2977\n",
      "NMI variance: 0.0022\n"
     ]
    }
   ],
   "source": [
    "print_total_mean_and_var('NMI', df_rotnet_nmis_stl10)"
   ]
  },
  {
   "cell_type": "code",
   "execution_count": 129,
   "id": "funded-grain",
   "metadata": {},
   "outputs": [
    {
     "name": "stdout",
     "output_type": "stream",
     "text": [
      "Cluser accuracy mean: 0.3826\n",
      "Cluser accuracy variance: 0.0069\n"
     ]
    }
   ],
   "source": [
    "print_total_mean_and_var('Cluser accuracy', df_rotnet_cas_stl10)"
   ]
  },
  {
   "cell_type": "markdown",
   "id": "distributed-queens",
   "metadata": {},
   "source": [
    "### STL10: DEC"
   ]
  },
  {
   "cell_type": "code",
   "execution_count": 8,
   "id": "peaceful-jonathan",
   "metadata": {},
   "outputs": [],
   "source": [
    "path_nmis = 'trained_models/RotNet/STL10/nmis_dec.csv'\n",
    "path_cas = 'trained_models/RotNet/STL10/cas_dec.csv'"
   ]
  },
  {
   "cell_type": "markdown",
   "id": "copyrighted-above",
   "metadata": {},
   "source": [
    "Uncomment this part to generate new NMI and cluster accuracies"
   ]
  },
  {
   "cell_type": "code",
   "execution_count": null,
   "id": "danish-reading",
   "metadata": {},
   "outputs": [],
   "source": [
    "# rotnet_nmis_stl10_dec, rotnet_cas_stl10_dec = get_nmis_and_cas_10_runs('RotNet\\STL10\\DEC_RotNet_STL10', colors_classes, device)"
   ]
  },
  {
   "cell_type": "code",
   "execution_count": 17,
   "id": "another-begin",
   "metadata": {},
   "outputs": [],
   "source": [
    "# df_rotnet_nmis_stl10_dec = pd.DataFrame(rotnet_nmis_stl10_dec)\n",
    "# df_rotnet_cas_stl10_dec = pd.DataFrame(rotnet_cas_stl10_dec)"
   ]
  },
  {
   "cell_type": "code",
   "execution_count": 18,
   "id": "technological-cheat",
   "metadata": {},
   "outputs": [],
   "source": [
    "# df_rotnet_nmis_stl10_dec.to_csv(path_nmis)\n",
    "# df_rotnet_cas_stl10_dec.to_csv(path_cas)"
   ]
  },
  {
   "cell_type": "code",
   "execution_count": 19,
   "id": "temporal-london",
   "metadata": {},
   "outputs": [],
   "source": [
    "df_rotnet_nmis_stl10_dec = pd.read_csv(path_nmis, index_col=0)\n",
    "df_rotnet_cas_stl10_dec = pd.read_csv(path_cas, index_col=0)"
   ]
  },
  {
   "cell_type": "code",
   "execution_count": 20,
   "id": "removed-defeat",
   "metadata": {},
   "outputs": [
    {
     "name": "stdout",
     "output_type": "stream",
     "text": [
      "NMI mean: 0.1001\n",
      "NMI variance: 0.0005\n"
     ]
    }
   ],
   "source": [
    "print_total_mean_and_var('NMI', df_rotnet_nmis_stl10_dec)"
   ]
  },
  {
   "cell_type": "code",
   "execution_count": 21,
   "id": "tribal-soviet",
   "metadata": {},
   "outputs": [
    {
     "name": "stdout",
     "output_type": "stream",
     "text": [
      "Cluser accuracy mean: 0.1968\n",
      "Cluser accuracy variance: 0.0005\n"
     ]
    }
   ],
   "source": [
    "print_total_mean_and_var('Cluser accuracy', df_rotnet_cas_stl10_dec)"
   ]
  },
  {
   "cell_type": "markdown",
   "id": "functional-arthritis",
   "metadata": {},
   "source": [
    "## SimCLR"
   ]
  },
  {
   "cell_type": "markdown",
   "id": "universal-printer",
   "metadata": {},
   "source": [
    "### CIFAR: Pretraining"
   ]
  },
  {
   "cell_type": "code",
   "execution_count": 48,
   "id": "waiting-reverse",
   "metadata": {},
   "outputs": [],
   "source": [
    "path_nmis = 'trained_models/SimCLR/CIFAR/nmis.csv'\n",
    "path_cas = 'trained_models/SimCLR/CIFAR/cas.csv'"
   ]
  },
  {
   "cell_type": "markdown",
   "id": "finished-thriller",
   "metadata": {},
   "source": [
    "Uncomment this part to generate new NMI and cluster accuracies"
   ]
  },
  {
   "cell_type": "code",
   "execution_count": null,
   "id": "forbidden-meter",
   "metadata": {},
   "outputs": [],
   "source": [
    "# simclr_nmis_cifar, simclr_cas_cifar = get_nmis_and_cas_10_runs('SimCLR\\CIFAR\\pretrained_SimCLR', colors_classes, device)"
   ]
  },
  {
   "cell_type": "code",
   "execution_count": 24,
   "id": "effective-uganda",
   "metadata": {},
   "outputs": [],
   "source": [
    "# df_simclr_nmis_cifar = pd.DataFrame(simclr_nmis_cifar)\n",
    "# df_simclr_cas_cifar = pd.DataFrame(simclr_cas_cifar)"
   ]
  },
  {
   "cell_type": "code",
   "execution_count": 134,
   "id": "received-fraction",
   "metadata": {},
   "outputs": [],
   "source": [
    "# df_simclr_nmis_cifar.to_csv(path_nmis)\n",
    "# df_simclr_cas_cifar.to_csv(path_cas)"
   ]
  },
  {
   "cell_type": "code",
   "execution_count": 49,
   "id": "heavy-geneva",
   "metadata": {},
   "outputs": [],
   "source": [
    "df_simclr_nmis_cifar = pd.read_csv(path_nmis, index_col=0)\n",
    "df_simclr_cas_cifar = pd.read_csv(path_cas, index_col=0)"
   ]
  },
  {
   "cell_type": "code",
   "execution_count": 51,
   "id": "composite-india",
   "metadata": {},
   "outputs": [
    {
     "data": {
      "text/html": [
       "<div>\n",
       "<style scoped>\n",
       "    .dataframe tbody tr th:only-of-type {\n",
       "        vertical-align: middle;\n",
       "    }\n",
       "\n",
       "    .dataframe tbody tr th {\n",
       "        vertical-align: top;\n",
       "    }\n",
       "\n",
       "    .dataframe thead th {\n",
       "        text-align: right;\n",
       "    }\n",
       "</style>\n",
       "<table border=\"1\" class=\"dataframe\">\n",
       "  <thead>\n",
       "    <tr style=\"text-align: right;\">\n",
       "      <th></th>\n",
       "      <th>Run 0</th>\n",
       "      <th>Run 1</th>\n",
       "      <th>Run 2</th>\n",
       "      <th>Run 3</th>\n",
       "      <th>Run 4</th>\n",
       "      <th>Run 5</th>\n",
       "      <th>Run 6</th>\n",
       "      <th>Run 7</th>\n",
       "      <th>Run 8</th>\n",
       "      <th>Run 9</th>\n",
       "    </tr>\n",
       "  </thead>\n",
       "  <tbody>\n",
       "    <tr>\n",
       "      <th>0</th>\n",
       "      <td>0.610377</td>\n",
       "      <td>0.610978</td>\n",
       "      <td>0.588642</td>\n",
       "      <td>0.563502</td>\n",
       "      <td>0.599459</td>\n",
       "      <td>0.597356</td>\n",
       "      <td>0.625000</td>\n",
       "      <td>0.566907</td>\n",
       "      <td>0.622796</td>\n",
       "      <td>0.562200</td>\n",
       "    </tr>\n",
       "    <tr>\n",
       "      <th>1</th>\n",
       "      <td>0.609776</td>\n",
       "      <td>0.634415</td>\n",
       "      <td>0.587340</td>\n",
       "      <td>0.556090</td>\n",
       "      <td>0.599259</td>\n",
       "      <td>0.595653</td>\n",
       "      <td>0.624099</td>\n",
       "      <td>0.568710</td>\n",
       "      <td>0.576623</td>\n",
       "      <td>0.558994</td>\n",
       "    </tr>\n",
       "    <tr>\n",
       "      <th>2</th>\n",
       "      <td>0.608774</td>\n",
       "      <td>0.634615</td>\n",
       "      <td>0.590845</td>\n",
       "      <td>0.558193</td>\n",
       "      <td>0.603866</td>\n",
       "      <td>0.596955</td>\n",
       "      <td>0.626502</td>\n",
       "      <td>0.557893</td>\n",
       "      <td>0.554487</td>\n",
       "      <td>0.563001</td>\n",
       "    </tr>\n",
       "    <tr>\n",
       "      <th>3</th>\n",
       "      <td>0.610777</td>\n",
       "      <td>0.634615</td>\n",
       "      <td>0.591947</td>\n",
       "      <td>0.561398</td>\n",
       "      <td>0.596855</td>\n",
       "      <td>0.593249</td>\n",
       "      <td>0.623297</td>\n",
       "      <td>0.566506</td>\n",
       "      <td>0.578325</td>\n",
       "      <td>0.555489</td>\n",
       "    </tr>\n",
       "    <tr>\n",
       "      <th>4</th>\n",
       "      <td>0.611078</td>\n",
       "      <td>0.639022</td>\n",
       "      <td>0.589643</td>\n",
       "      <td>0.558894</td>\n",
       "      <td>0.599359</td>\n",
       "      <td>0.591647</td>\n",
       "      <td>0.620693</td>\n",
       "      <td>0.561799</td>\n",
       "      <td>0.573818</td>\n",
       "      <td>0.557091</td>\n",
       "    </tr>\n",
       "    <tr>\n",
       "      <th>5</th>\n",
       "      <td>0.611378</td>\n",
       "      <td>0.633514</td>\n",
       "      <td>0.589042</td>\n",
       "      <td>0.559195</td>\n",
       "      <td>0.593850</td>\n",
       "      <td>0.597556</td>\n",
       "      <td>0.619191</td>\n",
       "      <td>0.562600</td>\n",
       "      <td>0.580629</td>\n",
       "      <td>0.567808</td>\n",
       "    </tr>\n",
       "    <tr>\n",
       "      <th>6</th>\n",
       "      <td>0.606871</td>\n",
       "      <td>0.606971</td>\n",
       "      <td>0.492688</td>\n",
       "      <td>0.584034</td>\n",
       "      <td>0.592849</td>\n",
       "      <td>0.592548</td>\n",
       "      <td>0.616286</td>\n",
       "      <td>0.561098</td>\n",
       "      <td>0.585036</td>\n",
       "      <td>0.593850</td>\n",
       "    </tr>\n",
       "    <tr>\n",
       "      <th>7</th>\n",
       "      <td>0.606470</td>\n",
       "      <td>0.636218</td>\n",
       "      <td>0.583333</td>\n",
       "      <td>0.555389</td>\n",
       "      <td>0.586939</td>\n",
       "      <td>0.595353</td>\n",
       "      <td>0.625100</td>\n",
       "      <td>0.554788</td>\n",
       "      <td>0.577123</td>\n",
       "      <td>0.565905</td>\n",
       "    </tr>\n",
       "    <tr>\n",
       "      <th>8</th>\n",
       "      <td>0.607672</td>\n",
       "      <td>0.604167</td>\n",
       "      <td>0.588642</td>\n",
       "      <td>0.553285</td>\n",
       "      <td>0.593650</td>\n",
       "      <td>0.588041</td>\n",
       "      <td>0.624399</td>\n",
       "      <td>0.588942</td>\n",
       "      <td>0.578425</td>\n",
       "      <td>0.568309</td>\n",
       "    </tr>\n",
       "    <tr>\n",
       "      <th>9</th>\n",
       "      <td>0.610276</td>\n",
       "      <td>0.638522</td>\n",
       "      <td>0.581430</td>\n",
       "      <td>0.562400</td>\n",
       "      <td>0.592949</td>\n",
       "      <td>0.589744</td>\n",
       "      <td>0.623898</td>\n",
       "      <td>0.557792</td>\n",
       "      <td>0.621294</td>\n",
       "      <td>0.560096</td>\n",
       "    </tr>\n",
       "  </tbody>\n",
       "</table>\n",
       "</div>"
      ],
      "text/plain": [
       "      Run 0     Run 1     Run 2     Run 3     Run 4     Run 5     Run 6  \\\n",
       "0  0.610377  0.610978  0.588642  0.563502  0.599459  0.597356  0.625000   \n",
       "1  0.609776  0.634415  0.587340  0.556090  0.599259  0.595653  0.624099   \n",
       "2  0.608774  0.634615  0.590845  0.558193  0.603866  0.596955  0.626502   \n",
       "3  0.610777  0.634615  0.591947  0.561398  0.596855  0.593249  0.623297   \n",
       "4  0.611078  0.639022  0.589643  0.558894  0.599359  0.591647  0.620693   \n",
       "5  0.611378  0.633514  0.589042  0.559195  0.593850  0.597556  0.619191   \n",
       "6  0.606871  0.606971  0.492688  0.584034  0.592849  0.592548  0.616286   \n",
       "7  0.606470  0.636218  0.583333  0.555389  0.586939  0.595353  0.625100   \n",
       "8  0.607672  0.604167  0.588642  0.553285  0.593650  0.588041  0.624399   \n",
       "9  0.610276  0.638522  0.581430  0.562400  0.592949  0.589744  0.623898   \n",
       "\n",
       "      Run 7     Run 8     Run 9  \n",
       "0  0.566907  0.622796  0.562200  \n",
       "1  0.568710  0.576623  0.558994  \n",
       "2  0.557893  0.554487  0.563001  \n",
       "3  0.566506  0.578325  0.555489  \n",
       "4  0.561799  0.573818  0.557091  \n",
       "5  0.562600  0.580629  0.567808  \n",
       "6  0.561098  0.585036  0.593850  \n",
       "7  0.554788  0.577123  0.565905  \n",
       "8  0.588942  0.578425  0.568309  \n",
       "9  0.557792  0.621294  0.560096  "
      ]
     },
     "execution_count": 51,
     "metadata": {},
     "output_type": "execute_result"
    }
   ],
   "source": [
    "df_simclr_cas_cifar"
   ]
  },
  {
   "cell_type": "code",
   "execution_count": 54,
   "id": "forty-image",
   "metadata": {},
   "outputs": [
    {
     "data": {
      "text/plain": [
       "0.5903635817307691"
      ]
     },
     "execution_count": 54,
     "metadata": {},
     "output_type": "execute_result"
    }
   ],
   "source": [
    "df_simclr_cas_cifar.mean().std()"
   ]
  },
  {
   "cell_type": "code",
   "execution_count": 135,
   "id": "limited-fundamentals",
   "metadata": {},
   "outputs": [
    {
     "name": "stdout",
     "output_type": "stream",
     "text": [
      "NMI mean: 0.4724\n",
      "NMI variance: 0.0033\n"
     ]
    }
   ],
   "source": [
    "print_total_mean_and_var('NMI', df_simclr_nmis_cifar)"
   ]
  },
  {
   "cell_type": "code",
   "execution_count": 136,
   "id": "sunrise-beijing",
   "metadata": {},
   "outputs": [
    {
     "name": "stdout",
     "output_type": "stream",
     "text": [
      "Cluser accuracy mean: 0.5904\n",
      "Cluser accuracy variance: 0.0090\n"
     ]
    }
   ],
   "source": [
    "print_total_mean_and_var('Cluser accuracy', df_simclr_cas_cifar)"
   ]
  },
  {
   "cell_type": "code",
   "execution_count": 98,
   "id": "surrounded-effectiveness",
   "metadata": {},
   "outputs": [],
   "source": [
    "columns = [f'Run {i}' for i in range(10)]"
   ]
  },
  {
   "cell_type": "code",
   "execution_count": 133,
   "id": "changed-chorus",
   "metadata": {},
   "outputs": [],
   "source": [
    "df_simclr_nmis_cifar.columns = columns\n",
    "df_simclr_cas_cifar.columns = columns"
   ]
  },
  {
   "cell_type": "markdown",
   "id": "cleared-philippines",
   "metadata": {},
   "source": [
    "### CIFAR: IDEC"
   ]
  },
  {
   "cell_type": "code",
   "execution_count": 55,
   "id": "demographic-refund",
   "metadata": {},
   "outputs": [],
   "source": [
    "path_nmis = 'trained_models/SimCLR/CIFAR/nmis_idec.csv'\n",
    "path_cas = 'trained_models/SimCLR/CIFAR/cas_idec.csv'"
   ]
  },
  {
   "cell_type": "markdown",
   "id": "frank-islam",
   "metadata": {},
   "source": [
    "Uncomment this part to generate new NMI and cluster accuracies"
   ]
  },
  {
   "cell_type": "code",
   "execution_count": null,
   "id": "described-canyon",
   "metadata": {},
   "outputs": [],
   "source": [
    "# simclr_nmis_cifar_idec, simclr_cas_cifar_idec = get_nmis_and_cas_10_runs('SimCLR\\CIFAR\\IDEC_SimCLR', colors_classes, device)"
   ]
  },
  {
   "cell_type": "code",
   "execution_count": 27,
   "id": "widespread-satellite",
   "metadata": {},
   "outputs": [],
   "source": [
    "# df_simclr_nmis_cifar_idec = pd.DataFrame(simclr_nmis_cifar_idec)\n",
    "# df_simclr_cas_cifar_idec = pd.DataFrame(simclr_cas_cifar_idec)"
   ]
  },
  {
   "cell_type": "code",
   "execution_count": 141,
   "id": "robust-sphere",
   "metadata": {},
   "outputs": [],
   "source": [
    "# df_simclr_nmis_cifar_idec.to_csv(path_nmis)\n",
    "# df_simclr_cas_cifar_idec.to_csv(path_cas)"
   ]
  },
  {
   "cell_type": "code",
   "execution_count": 56,
   "id": "neither-ontario",
   "metadata": {},
   "outputs": [],
   "source": [
    "df_simclr_nmis_cifar_idec = pd.read_csv(path_nmis, index_col=0)\n",
    "df_simclr_cas_cifar_idec = pd.read_csv(path_cas, index_col=0)"
   ]
  },
  {
   "cell_type": "code",
   "execution_count": 57,
   "id": "assumed-destiny",
   "metadata": {},
   "outputs": [
    {
     "data": {
      "text/plain": [
       "0.04796861744598033"
      ]
     },
     "execution_count": 57,
     "metadata": {},
     "output_type": "execute_result"
    }
   ],
   "source": [
    "df_simclr_cas_cifar_idec.mean().std()"
   ]
  },
  {
   "cell_type": "code",
   "execution_count": 142,
   "id": "incorporated-despite",
   "metadata": {},
   "outputs": [
    {
     "name": "stdout",
     "output_type": "stream",
     "text": [
      "NMI mean: 0.5569\n",
      "NMI variance: 0.0001\n"
     ]
    }
   ],
   "source": [
    "print_total_mean_and_var('NMI', df_simclr_nmis_cifar_idec)"
   ]
  },
  {
   "cell_type": "code",
   "execution_count": 143,
   "id": "knowing-boards",
   "metadata": {},
   "outputs": [
    {
     "name": "stdout",
     "output_type": "stream",
     "text": [
      "Cluser accuracy mean: 0.6576\n",
      "Cluser accuracy variance: 0.0000\n"
     ]
    }
   ],
   "source": [
    "print_total_mean_and_var('Cluser accuracy', df_simclr_cas_cifar_idec)"
   ]
  },
  {
   "cell_type": "markdown",
   "id": "stopped-mountain",
   "metadata": {},
   "source": [
    "### STL10: Pretraining"
   ]
  },
  {
   "cell_type": "code",
   "execution_count": 22,
   "id": "brutal-flower",
   "metadata": {},
   "outputs": [],
   "source": [
    "path_nmis = 'trained_models/SimCLR/STL10/nmis.csv'\n",
    "path_cas = 'trained_models/SimCLR/STL10/cas.csv'"
   ]
  },
  {
   "cell_type": "markdown",
   "id": "stable-holmes",
   "metadata": {},
   "source": [
    "Uncomment this part to generate new NMI and cluster accuracies"
   ]
  },
  {
   "cell_type": "code",
   "execution_count": null,
   "id": "bright-primary",
   "metadata": {},
   "outputs": [],
   "source": [
    "# simclr_nmis_stl10, simclr_cas_stl10 = get_nmis_and_cas_10_runs('SimCLR\\STL10\\pretrained_SimCLR_STL10', colors_classes, device)"
   ]
  },
  {
   "cell_type": "code",
   "execution_count": 24,
   "id": "pressed-norfolk",
   "metadata": {},
   "outputs": [],
   "source": [
    "# df_simclr_nmis_stl10 = pd.DataFrame(simclr_nmis_stl10)\n",
    "# df_simclr_cas_stl0 = pd.DataFrame(simclr_cas_stl10)"
   ]
  },
  {
   "cell_type": "code",
   "execution_count": 25,
   "id": "contrary-singer",
   "metadata": {},
   "outputs": [],
   "source": [
    "# df_simclr_nmis_stl10.to_csv(path_nmis)\n",
    "# df_simclr_cas_stl0.to_csv(path_cas)"
   ]
  },
  {
   "cell_type": "code",
   "execution_count": 26,
   "id": "mature-swift",
   "metadata": {},
   "outputs": [],
   "source": [
    "df_simclr_nmis_stl10 = pd.read_csv(path_nmis, index_col=0)\n",
    "df_simclr_cas_stl0 = pd.read_csv(path_cas, index_col=0)"
   ]
  },
  {
   "cell_type": "code",
   "execution_count": 27,
   "id": "comic-criterion",
   "metadata": {},
   "outputs": [
    {
     "name": "stdout",
     "output_type": "stream",
     "text": [
      "NMI mean: 0.3215\n",
      "NMI variance: 0.0011\n"
     ]
    }
   ],
   "source": [
    "print_total_mean_and_var('NMI', df_simclr_nmis_stl10)"
   ]
  },
  {
   "cell_type": "code",
   "execution_count": 28,
   "id": "peaceful-password",
   "metadata": {},
   "outputs": [
    {
     "name": "stdout",
     "output_type": "stream",
     "text": [
      "Cluser accuracy mean: 0.4231\n",
      "Cluser accuracy variance: 0.0067\n"
     ]
    }
   ],
   "source": [
    "print_total_mean_and_var('Cluser accuracy', df_simclr_cas_stl0)"
   ]
  },
  {
   "cell_type": "markdown",
   "id": "preliminary-given",
   "metadata": {},
   "source": [
    "### STL10: IDEC"
   ]
  },
  {
   "cell_type": "code",
   "execution_count": 29,
   "id": "unusual-germany",
   "metadata": {},
   "outputs": [],
   "source": [
    "path_nmis_dec = 'trained_models/SimCLR/STL10/nmis_idec.csv'\n",
    "path_cas_dec = 'trained_models/SimCLR/STL10/cas_idec.csv'"
   ]
  },
  {
   "cell_type": "markdown",
   "id": "heavy-deadline",
   "metadata": {},
   "source": [
    "Uncomment this part to generate new NMI and cluster accuracies"
   ]
  },
  {
   "cell_type": "code",
   "execution_count": null,
   "id": "educational-penetration",
   "metadata": {},
   "outputs": [],
   "source": [
    "# simclr_nmis_stl10_idec, simclr_cas_stl10_idec = get_nmis_and_cas_10_runs('SimCLR\\STL10\\IDEC_SimCLR_STL10', colors_classes, device)"
   ]
  },
  {
   "cell_type": "code",
   "execution_count": null,
   "id": "pressed-reservation",
   "metadata": {},
   "outputs": [],
   "source": [
    "# df_simclr_nmis_stl10_idec = pd.DataFrame(simclr_nmis_stl10_idec)\n",
    "# df_simclr_cas_stl10_idec = pd.DataFrame(simclr_cas_stl10_idec)"
   ]
  },
  {
   "cell_type": "code",
   "execution_count": null,
   "id": "short-appearance",
   "metadata": {},
   "outputs": [],
   "source": [
    "# df_simclr_nmis_stl10_idec.to_csv(path_nmis)\n",
    "# df_simclr_cas_stl10_idec.to_csv(path_cas)"
   ]
  },
  {
   "cell_type": "code",
   "execution_count": null,
   "id": "satisfactory-stations",
   "metadata": {},
   "outputs": [],
   "source": [
    "df_simclr_nmis_stl10_idec = pd.read_csv(path_nmis, index_col=0)\n",
    "df_simclr_cas_stl10_idec = pd.read_csv(path_cas, index_col=0)"
   ]
  },
  {
   "cell_type": "code",
   "execution_count": null,
   "id": "arabic-silver",
   "metadata": {},
   "outputs": [],
   "source": [
    "print_total_mean_and_var('NMI', df_simclr_nmis_stl10_idec)"
   ]
  },
  {
   "cell_type": "code",
   "execution_count": null,
   "id": "infinite-certificate",
   "metadata": {},
   "outputs": [],
   "source": [
    "print_total_mean_and_var('Cluser accuracy', df_simclr_cas_stl10_idec)"
   ]
  },
  {
   "cell_type": "code",
   "execution_count": null,
   "id": "suffering-trick",
   "metadata": {},
   "outputs": [],
   "source": []
  }
 ],
 "metadata": {
  "kernelspec": {
   "display_name": "Python 3",
   "language": "python",
   "name": "python3"
  },
  "language_info": {
   "codemirror_mode": {
    "name": "ipython",
    "version": 3
   },
   "file_extension": ".py",
   "mimetype": "text/x-python",
   "name": "python",
   "nbconvert_exporter": "python",
   "pygments_lexer": "ipython3",
   "version": "3.9.1"
  }
 },
 "nbformat": 4,
 "nbformat_minor": 5
}
