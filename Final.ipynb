{
 "cells": [
  {
   "cell_type": "code",
   "execution_count": 12,
   "id": "corporate-sherman",
   "metadata": {
    "scrolled": false
   },
   "outputs": [
    {
     "name": "stdout",
     "output_type": "stream",
     "text": [
      "The autoreload extension is already loaded. To reload it, use:\n",
      "  %reload_ext autoreload\n"
     ]
    }
   ],
   "source": [
    "# Importing all necessary libraries\n",
    "%load_ext autoreload\n",
    "%autoreload 2\n",
    "\n",
    "# internal packages\n",
    "import os\n",
    "from collections import Counter, OrderedDict\n",
    "\n",
    "# external packages\n",
    "import torch\n",
    "import torchvision\n",
    "import numpy as np\n",
    "import sklearn\n",
    "from sklearn.cluster import KMeans\n",
    "from sklearn.metrics import normalized_mutual_info_score, confusion_matrix\n",
    "from sklearn.decomposition import PCA\n",
    "import matplotlib\n",
    "from matplotlib import pyplot as plt\n",
    "import seaborn as sns\n",
    "import pandas as pd\n",
    "\n",
    "# util functions\n",
    "from util.util import *\n",
    "\n",
    "# dataset functions\n",
    "from dataset import load_util\n",
    "\n",
    "# autoencoder\n",
    "from models.autoencoder.conv_ae import ConvAE\n",
    "from models.simclr.simclr import *\n",
    "from models.simclr.transforms import *\n",
    "from models.rotnet.rotnet import *\n",
    "from models.rotnet.IDEC import *\n",
    "from models.rotnet.custom_stl10 import *\n",
    "from cluster_accuracy import cluster_accuracy"
   ]
  },
  {
   "cell_type": "code",
   "execution_count": 13,
   "id": "palestinian-harris",
   "metadata": {},
   "outputs": [
    {
     "data": {
      "application/javascript": [
       "IPython.OutputArea.prototype._should_scroll = function(lines) {\n",
       "    return false;\n",
       "}\n"
      ],
      "text/plain": [
       "<IPython.core.display.Javascript object>"
      ]
     },
     "metadata": {},
     "output_type": "display_data"
    }
   ],
   "source": [
    "%%javascript\n",
    "IPython.OutputArea.prototype._should_scroll = function(lines) {\n",
    "    return false;\n",
    "}"
   ]
  },
  {
   "cell_type": "code",
   "execution_count": 14,
   "id": "conceptual-stretch",
   "metadata": {
    "scrolled": true
   },
   "outputs": [
    {
     "name": "stdout",
     "output_type": "stream",
     "text": [
      "Versions:\n",
      "torch: 1.8.1+cu111\n",
      "torchvision: 0.9.1+cu111\n",
      "numpy: 1.19.5\n",
      "scikit-learn: 0.24.1\n",
      "Using device:  cuda\n"
     ]
    }
   ],
   "source": [
    "print(\"Versions:\")\n",
    "print(f\"torch: {torch.__version__}\")\n",
    "print(f\"torchvision: {torchvision.__version__}\")\n",
    "print(f\"numpy: {np.__version__}\",)\n",
    "print(f\"scikit-learn: {sklearn.__version__}\")\n",
    "\n",
    "device = detect_device()\n",
    "print(\"Using device: \", device)"
   ]
  },
  {
   "cell_type": "markdown",
   "id": "continuous-spice",
   "metadata": {},
   "source": [
    "## Preparation"
   ]
  },
  {
   "cell_type": "code",
   "execution_count": 15,
   "id": "sonic-operation",
   "metadata": {
    "scrolled": true
   },
   "outputs": [],
   "source": [
    "# specify learning params\n",
    "batch_size = 128\n",
    "learning_rate = 0.1\n",
    "epochs = 100\n",
    "\n",
    "# training\n",
    "\n",
    "train = True"
   ]
  },
  {
   "cell_type": "code",
   "execution_count": 16,
   "id": "industrial-accordance",
   "metadata": {
    "scrolled": true
   },
   "outputs": [],
   "source": [
    "test_data = load_util.load_custom_cifar('./data', download=False, train=False, data_percent=1.0, for_model='SimCLR', transforms=False)\n",
    "testloader = torch.utils.data.DataLoader(test_data,\n",
    "                                          batch_size=128,\n",
    "                                          shuffle=True,\n",
    "                                          drop_last=True)"
   ]
  },
  {
   "cell_type": "code",
   "execution_count": 17,
   "id": "manufactured-sleep",
   "metadata": {
    "scrolled": true
   },
   "outputs": [],
   "source": [
    "colors_classes = {i: color_class for i, color_class in zip(range(len(test_data.classes)), test_data.classes)}"
   ]
  },
  {
   "cell_type": "code",
   "execution_count": 18,
   "id": "theoretical-manufacturer",
   "metadata": {},
   "outputs": [],
   "source": [
    "def get_nmis_and_cas_10_runs(model_name, colors_classes, device):\n",
    "    nmis = {}\n",
    "    cas = {}\n",
    "\n",
    "    for i in range(10):\n",
    "        name = f'{model_name}_{i}.pth'\n",
    "        print(name)\n",
    "        \n",
    "        model = load_model(name, device, torch.rand(size=(4, 12288)))\n",
    "        nmis[i] = []\n",
    "        cas[i] = []\n",
    "\n",
    "        for k in range(10):\n",
    "            labels, kmeans, nmi, _, _ = compute_nmi_and_pca(model, name, colors_classes, device, testloader)\n",
    "            nmis[i].append(nmi)\n",
    "\n",
    "            ca = cluster_accuracy(labels, kmeans.labels_)\n",
    "            cas[i].append(ca)\n",
    "            print(f'Run: {k}\\n{name}:\\nNMI:{nmi}\\nCA:{ca}\\n')\n",
    "            del labels\n",
    "            del kmeans\n",
    "    return nmis, cas"
   ]
  },
  {
   "cell_type": "code",
   "execution_count": 19,
   "id": "recovered-conservative",
   "metadata": {},
   "outputs": [],
   "source": [
    "def get_nmis_and_cas_10_runs_1_model(model_name, colors_classes, device):\n",
    "    print(model_name)\n",
    "\n",
    "    model = load_model(model_name, device, torch.rand(size=(4, 12288)))\n",
    "    nmis = []\n",
    "    cas = []\n",
    "\n",
    "    for k in range(5):\n",
    "        labels, kmeans, nmi, _, _ = compute_nmi_and_pca(model, model_name, colors_classes, device, testloader)\n",
    "        nmis.append(nmi)\n",
    "\n",
    "        ca = cluster_accuracy(labels, kmeans.labels_)\n",
    "        cas.append(ca)\n",
    "        print(f'Run: {k}\\n{model_name}:\\nNMI:{nmi}\\nCA:{ca}\\n')\n",
    "        del labels\n",
    "        del kmeans\n",
    "    return nmis, cas"
   ]
  },
  {
   "cell_type": "code",
   "execution_count": 20,
   "id": "liquid-output",
   "metadata": {},
   "outputs": [],
   "source": [
    "def print_total_mean_and_std(metrics_name, df):\n",
    "    models_means = df.mean()\n",
    "\n",
    "    total_mean = models_means.mean()\n",
    "    total_std = models_means.std()\n",
    "    \n",
    "    print(f'{metrics_name} mean: {total_mean:.4f}')\n",
    "    print(f'{metrics_name} std: {total_std:.4f}')\n",
    "    return total_mean, total_std"
   ]
  },
  {
   "cell_type": "markdown",
   "id": "sticky-adjustment",
   "metadata": {},
   "source": [
    "## Overall comparison"
   ]
  },
  {
   "cell_type": "code",
   "execution_count": 80,
   "id": "sufficient-rachel",
   "metadata": {},
   "outputs": [],
   "source": [
    "## df_final_nmi = pd.DataFrame(columns=['Model', 'CIFAR NMI', 'CIFAR NMI STD', 'STL10 NMI', 'STL10 NMI STD'])\n",
    "## df_final_ca = pd.DataFrame(columns=['Model', 'CIFAR CA', 'CIFAR CA STD', 'STL10 CA', 'STL10 CA STD'])"
   ]
  },
  {
   "cell_type": "code",
   "execution_count": 94,
   "id": "systematic-smart",
   "metadata": {},
   "outputs": [],
   "source": [
    "## df_final_nmi.to_csv('trained_models/nmis_all.csv')\n",
    "## df_final_ca.to_csv('trained_models/cas_all.csv')"
   ]
  },
  {
   "cell_type": "code",
   "execution_count": 59,
   "id": "traditional-tribe",
   "metadata": {},
   "outputs": [],
   "source": [
    "df_final_nmi = pd.read_csv('trained_models/nmis_all.csv', index_col=0, header=0)\n",
    "df_final_ca = pd.read_csv('trained_models/cas_all.csv', index_col=0, header=0)"
   ]
  },
  {
   "cell_type": "code",
   "execution_count": 172,
   "id": "peaceful-diesel",
   "metadata": {},
   "outputs": [
    {
     "data": {
      "text/html": [
       "<div>\n",
       "<style scoped>\n",
       "    .dataframe tbody tr th:only-of-type {\n",
       "        vertical-align: middle;\n",
       "    }\n",
       "\n",
       "    .dataframe tbody tr th {\n",
       "        vertical-align: top;\n",
       "    }\n",
       "\n",
       "    .dataframe thead th {\n",
       "        text-align: right;\n",
       "    }\n",
       "</style>\n",
       "<table border=\"1\" class=\"dataframe\">\n",
       "  <thead>\n",
       "    <tr style=\"text-align: right;\">\n",
       "      <th></th>\n",
       "      <th>Model</th>\n",
       "      <th>CIFAR CA</th>\n",
       "      <th>CIFAR CA STD</th>\n",
       "      <th>STL10 CA</th>\n",
       "      <th>STL10 CA STD</th>\n",
       "    </tr>\n",
       "  </thead>\n",
       "  <tbody>\n",
       "    <tr>\n",
       "      <th>0</th>\n",
       "      <td>RotNet</td>\n",
       "      <td>0.435650</td>\n",
       "      <td>0.018361</td>\n",
       "      <td>0.364128</td>\n",
       "      <td>0.014185</td>\n",
       "    </tr>\n",
       "    <tr>\n",
       "      <th>1</th>\n",
       "      <td>RotNet + DEC</td>\n",
       "      <td>0.206545</td>\n",
       "      <td>0.002399</td>\n",
       "      <td>0.196739</td>\n",
       "      <td>0.029117</td>\n",
       "    </tr>\n",
       "    <tr>\n",
       "      <th>2</th>\n",
       "      <td>SimCLR</td>\n",
       "      <td>0.590364</td>\n",
       "      <td>0.023882</td>\n",
       "      <td>0.411395</td>\n",
       "      <td>0.022278</td>\n",
       "    </tr>\n",
       "    <tr>\n",
       "      <th>3</th>\n",
       "      <td>SimCLR + IDEC</td>\n",
       "      <td>0.657623</td>\n",
       "      <td>0.047969</td>\n",
       "      <td>0.445916</td>\n",
       "      <td>0.015449</td>\n",
       "    </tr>\n",
       "    <tr>\n",
       "      <th>4</th>\n",
       "      <td>SimCLR + 100</td>\n",
       "      <td>0.581500</td>\n",
       "      <td>0.001700</td>\n",
       "      <td>0.393700</td>\n",
       "      <td>0.006011</td>\n",
       "    </tr>\n",
       "  </tbody>\n",
       "</table>\n",
       "</div>"
      ],
      "text/plain": [
       "           Model  CIFAR CA  CIFAR CA STD  STL10 CA  STL10 CA STD\n",
       "0         RotNet  0.435650      0.018361  0.364128      0.014185\n",
       "1   RotNet + DEC  0.206545      0.002399  0.196739      0.029117\n",
       "2         SimCLR  0.590364      0.023882  0.411395      0.022278\n",
       "3  SimCLR + IDEC  0.657623      0.047969  0.445916      0.015449\n",
       "4   SimCLR + 100  0.581500      0.001700  0.393700      0.006011"
      ]
     },
     "execution_count": 172,
     "metadata": {},
     "output_type": "execute_result"
    }
   ],
   "source": [
    "df_final_ca"
   ]
  },
  {
   "cell_type": "code",
   "execution_count": 173,
   "id": "second-communist",
   "metadata": {},
   "outputs": [
    {
     "data": {
      "text/html": [
       "<div>\n",
       "<style scoped>\n",
       "    .dataframe tbody tr th:only-of-type {\n",
       "        vertical-align: middle;\n",
       "    }\n",
       "\n",
       "    .dataframe tbody tr th {\n",
       "        vertical-align: top;\n",
       "    }\n",
       "\n",
       "    .dataframe thead th {\n",
       "        text-align: right;\n",
       "    }\n",
       "</style>\n",
       "<table border=\"1\" class=\"dataframe\">\n",
       "  <thead>\n",
       "    <tr style=\"text-align: right;\">\n",
       "      <th></th>\n",
       "      <th>Model</th>\n",
       "      <th>CIFAR NMI</th>\n",
       "      <th>CIFAR NMI STD</th>\n",
       "      <th>STL10 NMI</th>\n",
       "      <th>STL10 NMI STD</th>\n",
       "    </tr>\n",
       "  </thead>\n",
       "  <tbody>\n",
       "    <tr>\n",
       "      <th>0</th>\n",
       "      <td>RotNet</td>\n",
       "      <td>0.350597</td>\n",
       "      <td>0.006679</td>\n",
       "      <td>0.335731</td>\n",
       "      <td>0.006869</td>\n",
       "    </tr>\n",
       "    <tr>\n",
       "      <th>1</th>\n",
       "      <td>RotNet + DEC</td>\n",
       "      <td>0.104224</td>\n",
       "      <td>0.003862</td>\n",
       "      <td>0.129233</td>\n",
       "      <td>0.047574</td>\n",
       "    </tr>\n",
       "    <tr>\n",
       "      <th>2</th>\n",
       "      <td>SimCLR</td>\n",
       "      <td>0.472371</td>\n",
       "      <td>0.009836</td>\n",
       "      <td>0.350220</td>\n",
       "      <td>0.005799</td>\n",
       "    </tr>\n",
       "    <tr>\n",
       "      <th>3</th>\n",
       "      <td>SimCLR + IDEC</td>\n",
       "      <td>0.556923</td>\n",
       "      <td>0.020652</td>\n",
       "      <td>0.388456</td>\n",
       "      <td>0.007139</td>\n",
       "    </tr>\n",
       "    <tr>\n",
       "      <th>4</th>\n",
       "      <td>SimCLR + 100</td>\n",
       "      <td>0.492400</td>\n",
       "      <td>0.003300</td>\n",
       "      <td>0.351471</td>\n",
       "      <td>0.003135</td>\n",
       "    </tr>\n",
       "  </tbody>\n",
       "</table>\n",
       "</div>"
      ],
      "text/plain": [
       "           Model  CIFAR NMI  CIFAR NMI STD  STL10 NMI  STL10 NMI STD\n",
       "0         RotNet   0.350597       0.006679   0.335731       0.006869\n",
       "1   RotNet + DEC   0.104224       0.003862   0.129233       0.047574\n",
       "2         SimCLR   0.472371       0.009836   0.350220       0.005799\n",
       "3  SimCLR + IDEC   0.556923       0.020652   0.388456       0.007139\n",
       "4   SimCLR + 100   0.492400       0.003300   0.351471       0.003135"
      ]
     },
     "execution_count": 173,
     "metadata": {},
     "output_type": "execute_result"
    }
   ],
   "source": [
    "df_final_nmi"
   ]
  },
  {
   "cell_type": "markdown",
   "id": "ignored-migration",
   "metadata": {},
   "source": [
    "## RotNet"
   ]
  },
  {
   "cell_type": "code",
   "execution_count": 29,
   "id": "reported-juvenile",
   "metadata": {},
   "outputs": [],
   "source": [
    "rotnet_list_nmi = ['RotNet', 0, 0, 0, 0]\n",
    "rotnet_dec_list_nmi = ['RotNet + DEC', 0, 0, 0, 0]\n",
    "rotnet_list_ca = ['RotNet', 0, 0, 0, 0]\n",
    "rotnet_dec_list_ca = ['RotNet + DEC', 0, 0, 0, 0]"
   ]
  },
  {
   "cell_type": "markdown",
   "id": "united-programmer",
   "metadata": {},
   "source": [
    "### CIFAR : Pretraining"
   ]
  },
  {
   "cell_type": "code",
   "execution_count": 4,
   "id": "massive-olive",
   "metadata": {},
   "outputs": [],
   "source": [
    "path_nmis = 'trained_models/RotNet/CIFAR/nmis.csv'\n",
    "path_cas = 'trained_models/RotNet/CIFAR/cas.csv'"
   ]
  },
  {
   "cell_type": "markdown",
   "id": "secondary-proposition",
   "metadata": {},
   "source": [
    "Uncomment this part to generate new NMI and cluster accuracies"
   ]
  },
  {
   "cell_type": "code",
   "execution_count": 34,
   "id": "central-mapping",
   "metadata": {},
   "outputs": [],
   "source": [
    "# rotnet_nmis_cifar, rotnet_cas_cifar = get_nmis_and_cas_10_runs('RotNet\\CIFAR\\pretrained_RotNet', colors_classes, device)"
   ]
  },
  {
   "cell_type": "code",
   "execution_count": 35,
   "id": "white-right",
   "metadata": {},
   "outputs": [],
   "source": [
    "# df_rotnet_nmis_cifar = pd.DataFrame(rotnet_nmis_cifar)\n",
    "# df_rotnet_cas_cifar = pd.DataFrame(rotnet_cas_cifar)"
   ]
  },
  {
   "cell_type": "code",
   "execution_count": 36,
   "id": "finished-mercy",
   "metadata": {},
   "outputs": [],
   "source": [
    "# df_rotnet_nmis_cifar.to_csv(path_nmis)\n",
    "# df_rotnet_cas_cifar.to_csv(path_cas)"
   ]
  },
  {
   "cell_type": "markdown",
   "id": "turkish-boring",
   "metadata": {},
   "source": [
    "This code loads existing dataframes from specified paths"
   ]
  },
  {
   "cell_type": "code",
   "execution_count": 10,
   "id": "streaming-cylinder",
   "metadata": {},
   "outputs": [],
   "source": [
    "df_rotnet_nmis_cifar = pd.read_csv(path_nmis, index_col=0)\n",
    "df_rotnet_cas_cifar = pd.read_csv(path_cas, index_col=0)"
   ]
  },
  {
   "cell_type": "code",
   "execution_count": 21,
   "id": "mysterious-aerospace",
   "metadata": {},
   "outputs": [
    {
     "name": "stdout",
     "output_type": "stream",
     "text": [
      "NMI mean: 0.3506\n",
      "NMI std: 0.0067\n"
     ]
    }
   ],
   "source": [
    "rotnet_list_nmi[1], rotnet_list_nmi[2] = print_total_mean_and_std('NMI', df_rotnet_nmis_cifar)"
   ]
  },
  {
   "cell_type": "code",
   "execution_count": 22,
   "id": "spiritual-groove",
   "metadata": {},
   "outputs": [
    {
     "name": "stdout",
     "output_type": "stream",
     "text": [
      "Cluster accuracy mean: 0.4357\n",
      "Cluster accuracy std: 0.0184\n"
     ]
    }
   ],
   "source": [
    "rotnet_list_ca[1], rotnet_list_ca[2] = print_total_mean_and_std('Cluster accuracy', df_rotnet_cas_cifar)"
   ]
  },
  {
   "cell_type": "markdown",
   "id": "affected-electric",
   "metadata": {},
   "source": [
    "### CIFAR: DEC"
   ]
  },
  {
   "cell_type": "code",
   "execution_count": 23,
   "id": "shared-disability",
   "metadata": {},
   "outputs": [],
   "source": [
    "path_nmis = 'trained_models/RotNet/CIFAR/nmis_dec.csv'\n",
    "path_cas = 'trained_models/RotNet/CIFAR/cas_dec.csv'"
   ]
  },
  {
   "cell_type": "markdown",
   "id": "alpha-assessment",
   "metadata": {},
   "source": [
    "Uncomment this part to generate new NMI and cluster accuracies"
   ]
  },
  {
   "cell_type": "code",
   "execution_count": null,
   "id": "reliable-definition",
   "metadata": {},
   "outputs": [],
   "source": [
    "# rotnet_nmis_cifar_dec, rotnet_cas_cifar_dec = get_nmis_and_cas_10_runs('RotNet\\CIFAR\\DEC_RotNet', colors_classes, device)"
   ]
  },
  {
   "cell_type": "code",
   "execution_count": null,
   "id": "tutorial-diagnosis",
   "metadata": {},
   "outputs": [],
   "source": [
    "# df_rotnet_nmis_cifar_dec = pd.DataFrame(rotnet_nmis_cifar_dec)\n",
    "# df_rotnet_cas_cifar_dec = pd.DataFrame(rotnet_cas_cifar_dec)"
   ]
  },
  {
   "cell_type": "code",
   "execution_count": 105,
   "id": "interested-assurance",
   "metadata": {},
   "outputs": [],
   "source": [
    "# df_rotnet_nmis_cifar_dec.to_csv(path_nmis)\n",
    "# df_rotnet_cas_cifar_dec.to_csv(path_cas)"
   ]
  },
  {
   "cell_type": "markdown",
   "id": "premium-basement",
   "metadata": {},
   "source": [
    "This code loads existing dataframes from specified paths"
   ]
  },
  {
   "cell_type": "code",
   "execution_count": 24,
   "id": "worst-cardiff",
   "metadata": {},
   "outputs": [],
   "source": [
    "df_rotnet_nmis_cifar_dec = pd.read_csv(path_nmis, index_col=0)\n",
    "df_rotnet_cas_cifar_dec = pd.read_csv(path_cas, index_col=0)"
   ]
  },
  {
   "cell_type": "code",
   "execution_count": 25,
   "id": "wrong-healing",
   "metadata": {},
   "outputs": [
    {
     "name": "stdout",
     "output_type": "stream",
     "text": [
      "NMI mean: 0.1042\n",
      "NMI std: 0.0039\n"
     ]
    }
   ],
   "source": [
    "rotnet_dec_list_nmi[1], rotnet_dec_list_nmi[2] = print_total_mean_and_std('NMI', df_rotnet_nmis_cifar_dec)"
   ]
  },
  {
   "cell_type": "code",
   "execution_count": 26,
   "id": "political-spanking",
   "metadata": {},
   "outputs": [
    {
     "name": "stdout",
     "output_type": "stream",
     "text": [
      "Cluster accuracy mean: 0.2065\n",
      "Cluster accuracy std: 0.0024\n"
     ]
    }
   ],
   "source": [
    "rotnet_dec_list_ca[1], rotnet_dec_list_ca[2] = print_total_mean_and_std('Cluster accuracy', df_rotnet_cas_cifar_dec)"
   ]
  },
  {
   "cell_type": "markdown",
   "id": "abandoned-education",
   "metadata": {},
   "source": [
    "### STL10: Pretraining"
   ]
  },
  {
   "cell_type": "code",
   "execution_count": 120,
   "id": "danish-vancouver",
   "metadata": {},
   "outputs": [],
   "source": [
    "path_nmis = 'trained_models/RotNet/STL10/nmis.csv'\n",
    "path_cas = 'trained_models/RotNet/STL10/cas.csv'"
   ]
  },
  {
   "cell_type": "markdown",
   "id": "signal-hanging",
   "metadata": {},
   "source": [
    "Uncomment this part to generate new NMI and cluster accuracies"
   ]
  },
  {
   "cell_type": "code",
   "execution_count": null,
   "id": "matched-shape",
   "metadata": {},
   "outputs": [],
   "source": [
    "# rotnet_nmis_stl10, rotnet_cas_stl10 = get_nmis_and_cas_10_runs('RotNet\\STL10\\pretrained_RotNet_STL10', colors_classes, device)"
   ]
  },
  {
   "cell_type": "code",
   "execution_count": null,
   "id": "postal-intensity",
   "metadata": {},
   "outputs": [],
   "source": [
    "# df_rotnet_nmis_stl10 = pd.DataFrame(rotnet_nmis_stl10)\n",
    "# df_rotnet_cas_stl10 = pd.DataFrame(rotnet_cas_stl10)"
   ]
  },
  {
   "cell_type": "code",
   "execution_count": 149,
   "id": "exclusive-riverside",
   "metadata": {},
   "outputs": [],
   "source": [
    "# df_rotnet_nmis_stl10.to_csv(path_nmis)\n",
    "# df_rotnet_cas_stl10.to_csv(path_cas)"
   ]
  },
  {
   "cell_type": "code",
   "execution_count": 121,
   "id": "brief-terry",
   "metadata": {},
   "outputs": [],
   "source": [
    "df_rotnet_nmis_stl10 = pd.read_csv(path_nmis, index_col=0)\n",
    "df_rotnet_cas_stl10 = pd.read_csv(path_cas, index_col=0)"
   ]
  },
  {
   "cell_type": "code",
   "execution_count": 122,
   "id": "handmade-compilation",
   "metadata": {},
   "outputs": [
    {
     "name": "stdout",
     "output_type": "stream",
     "text": [
      "NMI mean: 0.3357\n",
      "NMI std: 0.0069\n"
     ]
    }
   ],
   "source": [
    "rotnet_list_nmi[3], rotnet_list_nmi[4] = print_total_mean_and_std('NMI', df_rotnet_nmis_stl10)"
   ]
  },
  {
   "cell_type": "code",
   "execution_count": 123,
   "id": "funded-grain",
   "metadata": {},
   "outputs": [
    {
     "name": "stdout",
     "output_type": "stream",
     "text": [
      "Cluster accuracy mean: 0.3641\n",
      "Cluster accuracy std: 0.0142\n"
     ]
    }
   ],
   "source": [
    "rotnet_list_ca[3], rotnet_list_ca[4] = print_total_mean_and_std('Cluster accuracy', df_rotnet_cas_stl10)"
   ]
  },
  {
   "cell_type": "markdown",
   "id": "distributed-queens",
   "metadata": {},
   "source": [
    "### STL10: DEC"
   ]
  },
  {
   "cell_type": "code",
   "execution_count": 124,
   "id": "peaceful-jonathan",
   "metadata": {},
   "outputs": [],
   "source": [
    "path_nmis = 'trained_models/RotNet/STL10/nmis_dec.csv'\n",
    "path_cas = 'trained_models/RotNet/STL10/cas_dec.csv'"
   ]
  },
  {
   "cell_type": "markdown",
   "id": "copyrighted-above",
   "metadata": {},
   "source": [
    "Uncomment this part to generate new NMI and cluster accuracies"
   ]
  },
  {
   "cell_type": "code",
   "execution_count": null,
   "id": "danish-reading",
   "metadata": {},
   "outputs": [],
   "source": [
    "# rotnet_nmis_stl10_dec, rotnet_cas_stl10_dec = get_nmis_and_cas_10_runs('RotNet\\STL10\\DEC_RotNet_STL10', colors_classes, device)"
   ]
  },
  {
   "cell_type": "code",
   "execution_count": 17,
   "id": "another-begin",
   "metadata": {},
   "outputs": [],
   "source": [
    "# df_rotnet_nmis_stl10_dec = pd.DataFrame(rotnet_nmis_stl10_dec)\n",
    "# df_rotnet_cas_stl10_dec = pd.DataFrame(rotnet_cas_stl10_dec)"
   ]
  },
  {
   "cell_type": "code",
   "execution_count": 18,
   "id": "technological-cheat",
   "metadata": {},
   "outputs": [],
   "source": [
    "# df_rotnet_nmis_stl10_dec.to_csv(path_nmis)\n",
    "# df_rotnet_cas_stl10_dec.to_csv(path_cas)"
   ]
  },
  {
   "cell_type": "code",
   "execution_count": 125,
   "id": "temporal-london",
   "metadata": {},
   "outputs": [],
   "source": [
    "df_rotnet_nmis_stl10_dec = pd.read_csv(path_nmis, index_col=0)\n",
    "df_rotnet_cas_stl10_dec = pd.read_csv(path_cas, index_col=0)"
   ]
  },
  {
   "cell_type": "code",
   "execution_count": 126,
   "id": "removed-defeat",
   "metadata": {},
   "outputs": [
    {
     "name": "stdout",
     "output_type": "stream",
     "text": [
      "NMI mean: 0.1292\n",
      "NMI std: 0.0476\n"
     ]
    }
   ],
   "source": [
    "rotnet_dec_list_nmi[3], rotnet_dec_list_nmi[4] = print_total_mean_and_std('NMI', df_rotnet_nmis_stl10_dec)"
   ]
  },
  {
   "cell_type": "code",
   "execution_count": 127,
   "id": "tribal-soviet",
   "metadata": {},
   "outputs": [
    {
     "name": "stdout",
     "output_type": "stream",
     "text": [
      "Cluster accuracy mean: 0.1967\n",
      "Cluster accuracy std: 0.0291\n"
     ]
    }
   ],
   "source": [
    "rotnet_dec_list_ca[3], rotnet_dec_list_ca[4] = print_total_mean_and_std('Cluster accuracy', df_rotnet_cas_stl10_dec)"
   ]
  },
  {
   "cell_type": "code",
   "execution_count": 156,
   "id": "tough-jesus",
   "metadata": {},
   "outputs": [],
   "source": [
    "df_final_nmi.loc[0] = rotnet_list_nmi\n",
    "df_final_nmi.loc[1] = rotnet_dec_list_nmi\n",
    "df_final_ca.loc[0] = rotnet_list_ca\n",
    "df_final_ca.loc[1] = rotnet_dec_list_ca"
   ]
  },
  {
   "cell_type": "markdown",
   "id": "functional-arthritis",
   "metadata": {},
   "source": [
    "## SimCLR"
   ]
  },
  {
   "cell_type": "code",
   "execution_count": 33,
   "id": "lesbian-cameroon",
   "metadata": {},
   "outputs": [],
   "source": [
    "simclr_list_nmi = ['SimCLR', 0, 0, 0, 0]\n",
    "simclr_idec_list_nmi = ['SimCLR + IDEC', 0, 0, 0, 0]\n",
    "simclr_list_ca = ['SimCLR', 0, 0, 0, 0]\n",
    "simclr_idec_list_ca = ['SimCLR + IDEC', 0, 0, 0, 0]\n",
    "simclr_list_100_nmi = ['SimCLR + 100', 0, 0, 0, 0]\n",
    "simclr_list_100_ca = ['SimCLR + 100', 0, 0, 0, 0]"
   ]
  },
  {
   "cell_type": "markdown",
   "id": "universal-printer",
   "metadata": {},
   "source": [
    "### CIFAR: Pretraining"
   ]
  },
  {
   "cell_type": "code",
   "execution_count": 34,
   "id": "waiting-reverse",
   "metadata": {},
   "outputs": [],
   "source": [
    "path_nmis = 'trained_models/SimCLR/CIFAR/nmis.csv'\n",
    "path_cas = 'trained_models/SimCLR/CIFAR/cas.csv'"
   ]
  },
  {
   "cell_type": "markdown",
   "id": "finished-thriller",
   "metadata": {},
   "source": [
    "Uncomment this part to generate new NMI and cluster accuracies"
   ]
  },
  {
   "cell_type": "code",
   "execution_count": null,
   "id": "forbidden-meter",
   "metadata": {},
   "outputs": [],
   "source": [
    "# simclr_nmis_cifar, simclr_cas_cifar = get_nmis_and_cas_10_runs('SimCLR\\CIFAR\\pretrained_SimCLR', colors_classes, device)"
   ]
  },
  {
   "cell_type": "code",
   "execution_count": 24,
   "id": "effective-uganda",
   "metadata": {},
   "outputs": [],
   "source": [
    "# df_simclr_nmis_cifar = pd.DataFrame(simclr_nmis_cifar)\n",
    "# df_simclr_cas_cifar = pd.DataFrame(simclr_cas_cifar)"
   ]
  },
  {
   "cell_type": "code",
   "execution_count": 134,
   "id": "received-fraction",
   "metadata": {},
   "outputs": [],
   "source": [
    "# df_simclr_nmis_cifar.to_csv(path_nmis)\n",
    "# df_simclr_cas_cifar.to_csv(path_cas)"
   ]
  },
  {
   "cell_type": "code",
   "execution_count": 35,
   "id": "heavy-geneva",
   "metadata": {},
   "outputs": [],
   "source": [
    "df_simclr_nmis_cifar = pd.read_csv(path_nmis, index_col=0)\n",
    "df_simclr_cas_cifar = pd.read_csv(path_cas, index_col=0)"
   ]
  },
  {
   "cell_type": "code",
   "execution_count": 51,
   "id": "composite-india",
   "metadata": {},
   "outputs": [
    {
     "data": {
      "text/html": [
       "<div>\n",
       "<style scoped>\n",
       "    .dataframe tbody tr th:only-of-type {\n",
       "        vertical-align: middle;\n",
       "    }\n",
       "\n",
       "    .dataframe tbody tr th {\n",
       "        vertical-align: top;\n",
       "    }\n",
       "\n",
       "    .dataframe thead th {\n",
       "        text-align: right;\n",
       "    }\n",
       "</style>\n",
       "<table border=\"1\" class=\"dataframe\">\n",
       "  <thead>\n",
       "    <tr style=\"text-align: right;\">\n",
       "      <th></th>\n",
       "      <th>Run 0</th>\n",
       "      <th>Run 1</th>\n",
       "      <th>Run 2</th>\n",
       "      <th>Run 3</th>\n",
       "      <th>Run 4</th>\n",
       "      <th>Run 5</th>\n",
       "      <th>Run 6</th>\n",
       "      <th>Run 7</th>\n",
       "      <th>Run 8</th>\n",
       "      <th>Run 9</th>\n",
       "    </tr>\n",
       "  </thead>\n",
       "  <tbody>\n",
       "    <tr>\n",
       "      <th>0</th>\n",
       "      <td>0.610377</td>\n",
       "      <td>0.610978</td>\n",
       "      <td>0.588642</td>\n",
       "      <td>0.563502</td>\n",
       "      <td>0.599459</td>\n",
       "      <td>0.597356</td>\n",
       "      <td>0.625000</td>\n",
       "      <td>0.566907</td>\n",
       "      <td>0.622796</td>\n",
       "      <td>0.562200</td>\n",
       "    </tr>\n",
       "    <tr>\n",
       "      <th>1</th>\n",
       "      <td>0.609776</td>\n",
       "      <td>0.634415</td>\n",
       "      <td>0.587340</td>\n",
       "      <td>0.556090</td>\n",
       "      <td>0.599259</td>\n",
       "      <td>0.595653</td>\n",
       "      <td>0.624099</td>\n",
       "      <td>0.568710</td>\n",
       "      <td>0.576623</td>\n",
       "      <td>0.558994</td>\n",
       "    </tr>\n",
       "    <tr>\n",
       "      <th>2</th>\n",
       "      <td>0.608774</td>\n",
       "      <td>0.634615</td>\n",
       "      <td>0.590845</td>\n",
       "      <td>0.558193</td>\n",
       "      <td>0.603866</td>\n",
       "      <td>0.596955</td>\n",
       "      <td>0.626502</td>\n",
       "      <td>0.557893</td>\n",
       "      <td>0.554487</td>\n",
       "      <td>0.563001</td>\n",
       "    </tr>\n",
       "    <tr>\n",
       "      <th>3</th>\n",
       "      <td>0.610777</td>\n",
       "      <td>0.634615</td>\n",
       "      <td>0.591947</td>\n",
       "      <td>0.561398</td>\n",
       "      <td>0.596855</td>\n",
       "      <td>0.593249</td>\n",
       "      <td>0.623297</td>\n",
       "      <td>0.566506</td>\n",
       "      <td>0.578325</td>\n",
       "      <td>0.555489</td>\n",
       "    </tr>\n",
       "    <tr>\n",
       "      <th>4</th>\n",
       "      <td>0.611078</td>\n",
       "      <td>0.639022</td>\n",
       "      <td>0.589643</td>\n",
       "      <td>0.558894</td>\n",
       "      <td>0.599359</td>\n",
       "      <td>0.591647</td>\n",
       "      <td>0.620693</td>\n",
       "      <td>0.561799</td>\n",
       "      <td>0.573818</td>\n",
       "      <td>0.557091</td>\n",
       "    </tr>\n",
       "    <tr>\n",
       "      <th>5</th>\n",
       "      <td>0.611378</td>\n",
       "      <td>0.633514</td>\n",
       "      <td>0.589042</td>\n",
       "      <td>0.559195</td>\n",
       "      <td>0.593850</td>\n",
       "      <td>0.597556</td>\n",
       "      <td>0.619191</td>\n",
       "      <td>0.562600</td>\n",
       "      <td>0.580629</td>\n",
       "      <td>0.567808</td>\n",
       "    </tr>\n",
       "    <tr>\n",
       "      <th>6</th>\n",
       "      <td>0.606871</td>\n",
       "      <td>0.606971</td>\n",
       "      <td>0.492688</td>\n",
       "      <td>0.584034</td>\n",
       "      <td>0.592849</td>\n",
       "      <td>0.592548</td>\n",
       "      <td>0.616286</td>\n",
       "      <td>0.561098</td>\n",
       "      <td>0.585036</td>\n",
       "      <td>0.593850</td>\n",
       "    </tr>\n",
       "    <tr>\n",
       "      <th>7</th>\n",
       "      <td>0.606470</td>\n",
       "      <td>0.636218</td>\n",
       "      <td>0.583333</td>\n",
       "      <td>0.555389</td>\n",
       "      <td>0.586939</td>\n",
       "      <td>0.595353</td>\n",
       "      <td>0.625100</td>\n",
       "      <td>0.554788</td>\n",
       "      <td>0.577123</td>\n",
       "      <td>0.565905</td>\n",
       "    </tr>\n",
       "    <tr>\n",
       "      <th>8</th>\n",
       "      <td>0.607672</td>\n",
       "      <td>0.604167</td>\n",
       "      <td>0.588642</td>\n",
       "      <td>0.553285</td>\n",
       "      <td>0.593650</td>\n",
       "      <td>0.588041</td>\n",
       "      <td>0.624399</td>\n",
       "      <td>0.588942</td>\n",
       "      <td>0.578425</td>\n",
       "      <td>0.568309</td>\n",
       "    </tr>\n",
       "    <tr>\n",
       "      <th>9</th>\n",
       "      <td>0.610276</td>\n",
       "      <td>0.638522</td>\n",
       "      <td>0.581430</td>\n",
       "      <td>0.562400</td>\n",
       "      <td>0.592949</td>\n",
       "      <td>0.589744</td>\n",
       "      <td>0.623898</td>\n",
       "      <td>0.557792</td>\n",
       "      <td>0.621294</td>\n",
       "      <td>0.560096</td>\n",
       "    </tr>\n",
       "  </tbody>\n",
       "</table>\n",
       "</div>"
      ],
      "text/plain": [
       "      Run 0     Run 1     Run 2     Run 3     Run 4     Run 5     Run 6  \\\n",
       "0  0.610377  0.610978  0.588642  0.563502  0.599459  0.597356  0.625000   \n",
       "1  0.609776  0.634415  0.587340  0.556090  0.599259  0.595653  0.624099   \n",
       "2  0.608774  0.634615  0.590845  0.558193  0.603866  0.596955  0.626502   \n",
       "3  0.610777  0.634615  0.591947  0.561398  0.596855  0.593249  0.623297   \n",
       "4  0.611078  0.639022  0.589643  0.558894  0.599359  0.591647  0.620693   \n",
       "5  0.611378  0.633514  0.589042  0.559195  0.593850  0.597556  0.619191   \n",
       "6  0.606871  0.606971  0.492688  0.584034  0.592849  0.592548  0.616286   \n",
       "7  0.606470  0.636218  0.583333  0.555389  0.586939  0.595353  0.625100   \n",
       "8  0.607672  0.604167  0.588642  0.553285  0.593650  0.588041  0.624399   \n",
       "9  0.610276  0.638522  0.581430  0.562400  0.592949  0.589744  0.623898   \n",
       "\n",
       "      Run 7     Run 8     Run 9  \n",
       "0  0.566907  0.622796  0.562200  \n",
       "1  0.568710  0.576623  0.558994  \n",
       "2  0.557893  0.554487  0.563001  \n",
       "3  0.566506  0.578325  0.555489  \n",
       "4  0.561799  0.573818  0.557091  \n",
       "5  0.562600  0.580629  0.567808  \n",
       "6  0.561098  0.585036  0.593850  \n",
       "7  0.554788  0.577123  0.565905  \n",
       "8  0.588942  0.578425  0.568309  \n",
       "9  0.557792  0.621294  0.560096  "
      ]
     },
     "execution_count": 51,
     "metadata": {},
     "output_type": "execute_result"
    }
   ],
   "source": [
    "df_simclr_cas_cifar"
   ]
  },
  {
   "cell_type": "code",
   "execution_count": 54,
   "id": "forty-image",
   "metadata": {},
   "outputs": [
    {
     "data": {
      "text/plain": [
       "0.5903635817307691"
      ]
     },
     "execution_count": 54,
     "metadata": {},
     "output_type": "execute_result"
    }
   ],
   "source": [
    "df_simclr_cas_cifar.mean().std()"
   ]
  },
  {
   "cell_type": "code",
   "execution_count": 36,
   "id": "limited-fundamentals",
   "metadata": {},
   "outputs": [
    {
     "name": "stdout",
     "output_type": "stream",
     "text": [
      "NMI mean: 0.4724\n",
      "NMI std: 0.0098\n"
     ]
    }
   ],
   "source": [
    "simclr_list_nmi[1], simclr_list_nmi[2] = print_total_mean_and_std('NMI', df_simclr_nmis_cifar)"
   ]
  },
  {
   "cell_type": "code",
   "execution_count": 37,
   "id": "sunrise-beijing",
   "metadata": {},
   "outputs": [
    {
     "name": "stdout",
     "output_type": "stream",
     "text": [
      "Cluser accuracy mean: 0.5904\n",
      "Cluser accuracy std: 0.0239\n"
     ]
    }
   ],
   "source": [
    "simclr_list_ca[1], simclr_list_ca[2] = print_total_mean_and_std('Cluser accuracy', df_simclr_cas_cifar)"
   ]
  },
  {
   "cell_type": "markdown",
   "id": "worthy-showcase",
   "metadata": {},
   "source": [
    "### CIFAR: Pretraining +100"
   ]
  },
  {
   "cell_type": "code",
   "execution_count": 85,
   "id": "eight-brave",
   "metadata": {},
   "outputs": [],
   "source": [
    "path_nmis = 'trained_models/SimCLR/CIFAR/nmis_100.csv'\n",
    "path_cas = 'trained_models/SimCLR/CIFAR/cas_100.csv'"
   ]
  },
  {
   "cell_type": "code",
   "execution_count": 86,
   "id": "daily-chick",
   "metadata": {},
   "outputs": [],
   "source": [
    "df_simclr_nmis_cifar_dec = pd.read_csv(path_nmis, index_col=0)\n",
    "df_simclr_cas_cifar_dec = pd.read_csv(path_cas, index_col=0)"
   ]
  },
  {
   "cell_type": "code",
   "execution_count": 89,
   "id": "minute-samba",
   "metadata": {},
   "outputs": [
    {
     "name": "stdout",
     "output_type": "stream",
     "text": [
      "NMI mean: 0.4905\n",
      "NMI std: 0.0105\n"
     ]
    }
   ],
   "source": [
    "simclr_list_100_nmi[1], simclr_list_100_nmi[2] = print_total_mean_and_std('NMI', df_simclr_nmis_cifar_dec)"
   ]
  },
  {
   "cell_type": "code",
   "execution_count": 90,
   "id": "operational-daisy",
   "metadata": {},
   "outputs": [
    {
     "name": "stdout",
     "output_type": "stream",
     "text": [
      "Cluster accuracy mean: 0.6106\n",
      "Cluster accuracy std: 0.0266\n"
     ]
    }
   ],
   "source": [
    "simclr_list_100_ca[1], simclr_list_100_ca[2] = print_total_mean_and_std('Cluster accuracy', df_simclr_cas_cifar_dec)"
   ]
  },
  {
   "cell_type": "markdown",
   "id": "cleared-philippines",
   "metadata": {},
   "source": [
    "### CIFAR: IDEC"
   ]
  },
  {
   "cell_type": "code",
   "execution_count": 42,
   "id": "demographic-refund",
   "metadata": {},
   "outputs": [],
   "source": [
    "path_nmis = 'trained_models/SimCLR/CIFAR/nmis_idec.csv'\n",
    "path_cas = 'trained_models/SimCLR/CIFAR/cas_idec.csv'"
   ]
  },
  {
   "cell_type": "markdown",
   "id": "frank-islam",
   "metadata": {},
   "source": [
    "Uncomment this part to generate new NMI and cluster accuracies"
   ]
  },
  {
   "cell_type": "code",
   "execution_count": null,
   "id": "described-canyon",
   "metadata": {},
   "outputs": [],
   "source": [
    "# simclr_nmis_cifar_idec, simclr_cas_cifar_idec = get_nmis_and_cas_10_runs('SimCLR\\CIFAR\\IDEC_SimCLR', colors_classes, device)"
   ]
  },
  {
   "cell_type": "code",
   "execution_count": 27,
   "id": "widespread-satellite",
   "metadata": {},
   "outputs": [],
   "source": [
    "# df_simclr_nmis_cifar_idec = pd.DataFrame(simclr_nmis_cifar_idec)\n",
    "# df_simclr_cas_cifar_idec = pd.DataFrame(simclr_cas_cifar_idec)"
   ]
  },
  {
   "cell_type": "code",
   "execution_count": 141,
   "id": "robust-sphere",
   "metadata": {},
   "outputs": [],
   "source": [
    "# df_simclr_nmis_cifar_idec.to_csv(path_nmis)\n",
    "# df_simclr_cas_cifar_idec.to_csv(path_cas)"
   ]
  },
  {
   "cell_type": "code",
   "execution_count": 43,
   "id": "neither-ontario",
   "metadata": {},
   "outputs": [],
   "source": [
    "df_simclr_nmis_cifar_idec = pd.read_csv(path_nmis, index_col=0)\n",
    "df_simclr_cas_cifar_idec = pd.read_csv(path_cas, index_col=0)"
   ]
  },
  {
   "cell_type": "code",
   "execution_count": 44,
   "id": "assumed-destiny",
   "metadata": {},
   "outputs": [
    {
     "data": {
      "text/plain": [
       "0.04796861744598033"
      ]
     },
     "execution_count": 44,
     "metadata": {},
     "output_type": "execute_result"
    }
   ],
   "source": [
    "df_simclr_cas_cifar_idec.mean().std()"
   ]
  },
  {
   "cell_type": "code",
   "execution_count": 45,
   "id": "incorporated-despite",
   "metadata": {},
   "outputs": [
    {
     "name": "stdout",
     "output_type": "stream",
     "text": [
      "NMI mean: 0.5569\n",
      "NMI std: 0.0207\n"
     ]
    }
   ],
   "source": [
    "simclr_idec_list_nmi[1], simclr_idec_list_nmi[2] = print_total_mean_and_std('NMI', df_simclr_nmis_cifar_idec)"
   ]
  },
  {
   "cell_type": "code",
   "execution_count": 46,
   "id": "knowing-boards",
   "metadata": {},
   "outputs": [
    {
     "name": "stdout",
     "output_type": "stream",
     "text": [
      "Cluster accuracy mean: 0.6576\n",
      "Cluster accuracy std: 0.0480\n"
     ]
    }
   ],
   "source": [
    "simclr_idec_list_ca[1], simclr_idec_list_ca[2] = print_total_mean_and_std('Cluster accuracy', df_simclr_cas_cifar_idec)"
   ]
  },
  {
   "cell_type": "markdown",
   "id": "stopped-mountain",
   "metadata": {},
   "source": [
    "### STL10: Pretraining"
   ]
  },
  {
   "cell_type": "code",
   "execution_count": 64,
   "id": "brutal-flower",
   "metadata": {},
   "outputs": [],
   "source": [
    "path_nmis = 'trained_models/SimCLR/STL10/nmis.csv'\n",
    "path_cas = 'trained_models/SimCLR/STL10/cas.csv'"
   ]
  },
  {
   "cell_type": "markdown",
   "id": "stable-holmes",
   "metadata": {},
   "source": [
    "Uncomment this part to generate new NMI and cluster accuracies"
   ]
  },
  {
   "cell_type": "code",
   "execution_count": 65,
   "id": "bright-primary",
   "metadata": {},
   "outputs": [],
   "source": [
    "# simclr_nmis_stl10, simclr_cas_stl10 = get_nmis_and_cas_10_runs('SimCLR\\STL10\\pretrained_SimCLR_STL10', colors_classes, device)"
   ]
  },
  {
   "cell_type": "code",
   "execution_count": 66,
   "id": "pressed-norfolk",
   "metadata": {},
   "outputs": [],
   "source": [
    "# df_simclr_nmis_stl10 = pd.DataFrame(simclr_nmis_stl10)\n",
    "# df_simclr_cas_stl0 = pd.DataFrame(simclr_cas_stl10)"
   ]
  },
  {
   "cell_type": "code",
   "execution_count": 67,
   "id": "contrary-singer",
   "metadata": {},
   "outputs": [],
   "source": [
    "# df_simclr_nmis_stl10.to_csv(path_nmis)\n",
    "# df_simclr_cas_stl0.to_csv(path_cas)"
   ]
  },
  {
   "cell_type": "code",
   "execution_count": 68,
   "id": "mature-swift",
   "metadata": {},
   "outputs": [],
   "source": [
    "df_simclr_nmis_stl10 = pd.read_csv(path_nmis, index_col=0)\n",
    "df_simclr_cas_stl0 = pd.read_csv(path_cas, index_col=0)"
   ]
  },
  {
   "cell_type": "code",
   "execution_count": 69,
   "id": "comic-criterion",
   "metadata": {},
   "outputs": [
    {
     "name": "stdout",
     "output_type": "stream",
     "text": [
      "NMI mean: 0.3502\n",
      "NMI std: 0.0058\n"
     ]
    }
   ],
   "source": [
    "simclr_list_nmi[3], simclr_list_nmi[4] = print_total_mean_and_std('NMI', df_simclr_nmis_stl10)"
   ]
  },
  {
   "cell_type": "code",
   "execution_count": 70,
   "id": "peaceful-password",
   "metadata": {},
   "outputs": [
    {
     "name": "stdout",
     "output_type": "stream",
     "text": [
      "Cluster accuracy mean: 0.4114\n",
      "Cluster accuracy std: 0.0223\n"
     ]
    }
   ],
   "source": [
    "simclr_list_ca[3], simclr_list_ca[4] = print_total_mean_and_std('Cluster accuracy', df_simclr_cas_stl0)"
   ]
  },
  {
   "cell_type": "markdown",
   "id": "amino-lesson",
   "metadata": {},
   "source": [
    "### STL10: Pretraining + 100"
   ]
  },
  {
   "cell_type": "code",
   "execution_count": 47,
   "id": "handled-section",
   "metadata": {},
   "outputs": [],
   "source": [
    "path_nmis = 'trained_models/SimCLR/STL10/nmis_100.csv'\n",
    "path_cas = 'trained_models/SimCLR/STL10/cas_100.csv'"
   ]
  },
  {
   "cell_type": "code",
   "execution_count": 48,
   "id": "apart-henry",
   "metadata": {},
   "outputs": [],
   "source": [
    "df_simclr_nmis_stl10 = pd.read_csv(path_nmis, index_col=0)\n",
    "df_simclr_cas_stl0 = pd.read_csv(path_cas, index_col=0)"
   ]
  },
  {
   "cell_type": "code",
   "execution_count": 49,
   "id": "solid-transportation",
   "metadata": {},
   "outputs": [
    {
     "name": "stdout",
     "output_type": "stream",
     "text": [
      "NMI mean: 0.3515\n",
      "NMI std: 0.0051\n"
     ]
    }
   ],
   "source": [
    "simclr_list_100_nmi[3], simclr_list_100_nmi[4] = print_total_mean_and_std('NMI', df_simclr_nmis_stl10)"
   ]
  },
  {
   "cell_type": "code",
   "execution_count": 50,
   "id": "anticipated-compact",
   "metadata": {},
   "outputs": [
    {
     "name": "stdout",
     "output_type": "stream",
     "text": [
      "Cluster accuracy mean: 0.4106\n",
      "Cluster accuracy std: 0.0163\n"
     ]
    }
   ],
   "source": [
    "simclr_list_100_ca[3], simclr_list_100_ca[4] = print_total_mean_and_std('Cluster accuracy', df_simclr_cas_stl0)"
   ]
  },
  {
   "cell_type": "markdown",
   "id": "preliminary-given",
   "metadata": {},
   "source": [
    "### STL10: IDEC"
   ]
  },
  {
   "cell_type": "code",
   "execution_count": 51,
   "id": "unusual-germany",
   "metadata": {},
   "outputs": [],
   "source": [
    "path_nmis = 'trained_models/SimCLR/STL10/nmis_new.csv'\n",
    "path_cas = 'trained_models/SimCLR/STL10/cas_new.csv'"
   ]
  },
  {
   "cell_type": "markdown",
   "id": "heavy-deadline",
   "metadata": {},
   "source": [
    "Uncomment this part to generate new NMI and cluster accuracies"
   ]
  },
  {
   "cell_type": "code",
   "execution_count": 52,
   "id": "educational-penetration",
   "metadata": {},
   "outputs": [],
   "source": [
    "# simclr_nmis_stl10_idec, simclr_cas_stl10_idec = get_nmis_and_cas_10_runs('SimCLR\\STL10\\IDEC_SimCLR_STL10', colors_classes, device)"
   ]
  },
  {
   "cell_type": "code",
   "execution_count": 53,
   "id": "pressed-reservation",
   "metadata": {},
   "outputs": [],
   "source": [
    "# df_simclr_nmis_stl10_idec = pd.DataFrame(simclr_nmis_stl10_idec)\n",
    "# df_simclr_cas_stl10_idec = pd.DataFrame(simclr_cas_stl10_idec)"
   ]
  },
  {
   "cell_type": "code",
   "execution_count": 54,
   "id": "short-appearance",
   "metadata": {},
   "outputs": [],
   "source": [
    "# df_simclr_nmis_stl10_idec.to_csv(path_nmis)\n",
    "# df_simclr_cas_stl10_idec.to_csv(path_cas)"
   ]
  },
  {
   "cell_type": "code",
   "execution_count": 55,
   "id": "satisfactory-stations",
   "metadata": {},
   "outputs": [],
   "source": [
    "df_simclr_nmis_stl10_idec = pd.read_csv(path_nmis, index_col=0)\n",
    "df_simclr_cas_stl10_idec = pd.read_csv(path_cas, index_col=0)"
   ]
  },
  {
   "cell_type": "code",
   "execution_count": 56,
   "id": "arabic-silver",
   "metadata": {},
   "outputs": [
    {
     "name": "stdout",
     "output_type": "stream",
     "text": [
      "NMI mean: 0.3595\n",
      "NMI std: 0.0173\n"
     ]
    }
   ],
   "source": [
    "simclr_idec_list_nmi[3], simclr_idec_list_nmi[4] = print_total_mean_and_std('NMI', df_simclr_nmis_stl10_idec)"
   ]
  },
  {
   "cell_type": "code",
   "execution_count": 57,
   "id": "infinite-certificate",
   "metadata": {},
   "outputs": [
    {
     "name": "stdout",
     "output_type": "stream",
     "text": [
      "Cluster accuracy mean: 0.4026\n",
      "Cluster accuracy std: 0.0220\n"
     ]
    }
   ],
   "source": [
    "simclr_idec_list_ca[3], simclr_idec_list_ca[4] = print_total_mean_and_std('Cluster accuracy', df_simclr_cas_stl10_idec)"
   ]
  },
  {
   "cell_type": "code",
   "execution_count": 91,
   "id": "loving-front",
   "metadata": {},
   "outputs": [],
   "source": [
    "df_final_nmi.loc[2] = simclr_list_nmi\n",
    "df_final_nmi.loc[3] = simclr_idec_list_nmi\n",
    "df_final_ca.loc[2] = simclr_list_ca\n",
    "df_final_ca.loc[3] = simclr_idec_list_ca\n",
    "df_final_nmi.loc[4] = simclr_list_100_nmi\n",
    "df_final_ca.loc[4] = simclr_list_100_ca"
   ]
  },
  {
   "cell_type": "code",
   "execution_count": 96,
   "id": "material-difference",
   "metadata": {},
   "outputs": [
    {
     "data": {
      "text/html": [
       "<div>\n",
       "<style scoped>\n",
       "    .dataframe tbody tr th:only-of-type {\n",
       "        vertical-align: middle;\n",
       "    }\n",
       "\n",
       "    .dataframe tbody tr th {\n",
       "        vertical-align: top;\n",
       "    }\n",
       "\n",
       "    .dataframe thead th {\n",
       "        text-align: right;\n",
       "    }\n",
       "</style>\n",
       "<table border=\"1\" class=\"dataframe\">\n",
       "  <thead>\n",
       "    <tr style=\"text-align: right;\">\n",
       "      <th></th>\n",
       "      <th>Model</th>\n",
       "      <th>CIFAR CA</th>\n",
       "      <th>CIFAR CA STD</th>\n",
       "      <th>STL10 CA</th>\n",
       "      <th>STL10 CA STD</th>\n",
       "    </tr>\n",
       "  </thead>\n",
       "  <tbody>\n",
       "    <tr>\n",
       "      <th>0</th>\n",
       "      <td>RotNet</td>\n",
       "      <td>0.435650</td>\n",
       "      <td>0.018361</td>\n",
       "      <td>0.364128</td>\n",
       "      <td>0.014185</td>\n",
       "    </tr>\n",
       "    <tr>\n",
       "      <th>1</th>\n",
       "      <td>RotNet + DEC</td>\n",
       "      <td>0.206545</td>\n",
       "      <td>0.002399</td>\n",
       "      <td>0.196739</td>\n",
       "      <td>0.029117</td>\n",
       "    </tr>\n",
       "    <tr>\n",
       "      <th>2</th>\n",
       "      <td>SimCLR</td>\n",
       "      <td>0.590364</td>\n",
       "      <td>0.023882</td>\n",
       "      <td>0.411395</td>\n",
       "      <td>0.022278</td>\n",
       "    </tr>\n",
       "    <tr>\n",
       "      <th>3</th>\n",
       "      <td>SimCLR + IDEC</td>\n",
       "      <td>0.657623</td>\n",
       "      <td>0.047969</td>\n",
       "      <td>0.402610</td>\n",
       "      <td>0.021980</td>\n",
       "    </tr>\n",
       "    <tr>\n",
       "      <th>4</th>\n",
       "      <td>SimCLR + 100</td>\n",
       "      <td>0.610551</td>\n",
       "      <td>0.026599</td>\n",
       "      <td>0.410620</td>\n",
       "      <td>0.016269</td>\n",
       "    </tr>\n",
       "  </tbody>\n",
       "</table>\n",
       "</div>"
      ],
      "text/plain": [
       "           Model  CIFAR CA  CIFAR CA STD  STL10 CA  STL10 CA STD\n",
       "0         RotNet  0.435650      0.018361  0.364128      0.014185\n",
       "1   RotNet + DEC  0.206545      0.002399  0.196739      0.029117\n",
       "2         SimCLR  0.590364      0.023882  0.411395      0.022278\n",
       "3  SimCLR + IDEC  0.657623      0.047969  0.402610      0.021980\n",
       "4   SimCLR + 100  0.610551      0.026599  0.410620      0.016269"
      ]
     },
     "execution_count": 96,
     "metadata": {},
     "output_type": "execute_result"
    }
   ],
   "source": [
    "df_final_ca"
   ]
  },
  {
   "cell_type": "markdown",
   "id": "further-gateway",
   "metadata": {},
   "source": [
    "TODO:\n",
    "- recompute SimCLR STL10 IDEC\n",
    "- recompute SimCLR STL10 +100"
   ]
  },
  {
   "cell_type": "code",
   "execution_count": null,
   "id": "large-solid",
   "metadata": {},
   "outputs": [],
   "source": []
  }
 ],
 "metadata": {
  "kernelspec": {
   "display_name": "Python 3",
   "language": "python",
   "name": "python3"
  },
  "language_info": {
   "codemirror_mode": {
    "name": "ipython",
    "version": 3
   },
   "file_extension": ".py",
   "mimetype": "text/x-python",
   "name": "python",
   "nbconvert_exporter": "python",
   "pygments_lexer": "ipython3",
   "version": "3.9.1"
  }
 },
 "nbformat": 4,
 "nbformat_minor": 5
}
