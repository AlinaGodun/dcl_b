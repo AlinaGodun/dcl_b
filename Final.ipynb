{
 "cells": [
  {
   "cell_type": "code",
   "execution_count": 4,
   "id": "corporate-sherman",
   "metadata": {
    "scrolled": false
   },
   "outputs": [
    {
     "name": "stdout",
     "output_type": "stream",
     "text": [
      "The autoreload extension is already loaded. To reload it, use:\n",
      "  %reload_ext autoreload\n"
     ]
    }
   ],
   "source": [
    "# Importing all necessary libraries\n",
    "%load_ext autoreload\n",
    "%autoreload 2\n",
    "\n",
    "# internal packages\n",
    "import os\n",
    "from collections import Counter, OrderedDict\n",
    "\n",
    "# external packages\n",
    "import torch\n",
    "import torchvision\n",
    "import numpy as np\n",
    "import sklearn\n",
    "from sklearn.cluster import KMeans\n",
    "from sklearn.metrics import normalized_mutual_info_score, confusion_matrix\n",
    "from sklearn.decomposition import PCA\n",
    "import matplotlib\n",
    "from matplotlib import pyplot as plt\n",
    "import seaborn as sns\n",
    "import pandas as pd\n",
    "\n",
    "# util functions\n",
    "from util.util import *\n",
    "\n",
    "# dataset functions\n",
    "from dataset import load_util\n",
    "\n",
    "# autoencoder\n",
    "from models.autoencoder.conv_ae import ConvAE\n",
    "from models.simclr.simclr import *\n",
    "from models.simclr.transforms import *\n",
    "from models.rotnet.rotnet import *\n",
    "from models.rotnet.IDEC import *\n",
    "from models.rotnet.custom_stl10 import *\n",
    "from cluster_accuracy import cluster_accuracy"
   ]
  },
  {
   "cell_type": "code",
   "execution_count": 5,
   "id": "palestinian-harris",
   "metadata": {},
   "outputs": [
    {
     "data": {
      "application/javascript": [
       "IPython.OutputArea.prototype._should_scroll = function(lines) {\n",
       "    return false;\n",
       "}\n"
      ],
      "text/plain": [
       "<IPython.core.display.Javascript object>"
      ]
     },
     "metadata": {},
     "output_type": "display_data"
    }
   ],
   "source": [
    "%%javascript\n",
    "IPython.OutputArea.prototype._should_scroll = function(lines) {\n",
    "    return false;\n",
    "}"
   ]
  },
  {
   "cell_type": "code",
   "execution_count": 10,
   "id": "conceptual-stretch",
   "metadata": {
    "scrolled": true
   },
   "outputs": [
    {
     "name": "stdout",
     "output_type": "stream",
     "text": [
      "Versions:\n",
      "torch: 1.8.1+cu111\n",
      "torchvision: 0.9.1+cu111\n",
      "numpy: 1.19.5\n",
      "scikit-learn: 0.24.1\n",
      "Using device:  cuda\n"
     ]
    }
   ],
   "source": [
    "print(\"Versions:\")\n",
    "print(f\"torch: {torch.__version__}\")\n",
    "print(f\"torchvision: {torchvision.__version__}\")\n",
    "print(f\"numpy: {np.__version__}\",)\n",
    "print(f\"scikit-learn: {sklearn.__version__}\")\n",
    "\n",
    "device = detect_device()\n",
    "print(\"Using device: \", device)"
   ]
  },
  {
   "cell_type": "markdown",
   "id": "continuous-spice",
   "metadata": {},
   "source": [
    "## Preparation"
   ]
  },
  {
   "cell_type": "code",
   "execution_count": 11,
   "id": "sonic-operation",
   "metadata": {
    "scrolled": true
   },
   "outputs": [],
   "source": [
    "# specify learning params\n",
    "batch_size = 128\n",
    "learning_rate = 0.1\n",
    "epochs = 100\n",
    "\n",
    "# training\n",
    "\n",
    "train = True"
   ]
  },
  {
   "cell_type": "code",
   "execution_count": 12,
   "id": "industrial-accordance",
   "metadata": {
    "scrolled": true
   },
   "outputs": [],
   "source": [
    "test_data = load_util.load_custom_cifar('./data', download=False, train=False, data_percent=1.0, for_model='SimCLR', transforms=False)\n",
    "testloader = torch.utils.data.DataLoader(test_data,\n",
    "                                          batch_size=128,\n",
    "                                          shuffle=True,\n",
    "                                          drop_last=True)"
   ]
  },
  {
   "cell_type": "code",
   "execution_count": 13,
   "id": "manufactured-sleep",
   "metadata": {
    "scrolled": true
   },
   "outputs": [],
   "source": [
    "colors_classes = {i: color_class for i, color_class in zip(range(len(test_data.classes)), test_data.classes)}"
   ]
  },
  {
   "cell_type": "code",
   "execution_count": 14,
   "id": "theoretical-manufacturer",
   "metadata": {},
   "outputs": [],
   "source": [
    "def get_nmis_and_cas_10_runs(model_name, colors_classes, device):\n",
    "    nmis = {}\n",
    "    cas = {}\n",
    "\n",
    "    for i in range(10):\n",
    "        name = f'{model_name}_{i}.pth'\n",
    "        print(name)\n",
    "        \n",
    "        model = load_model(name, device, torch.rand(size=(4, 12288)))\n",
    "        nmis[i] = []\n",
    "        cas[i] = []\n",
    "\n",
    "        for k in range(10):\n",
    "            labels, kmeans, nmi, _, _ = compute_nmi_and_pca(model, name, colors_classes, device, testloader)\n",
    "            nmis[i].append(nmi)\n",
    "\n",
    "            ca = cluster_accuracy(labels, kmeans.labels_)\n",
    "            cas[i].append(ca)\n",
    "            print(f'Run: {k}\\n{name}:\\nNMI:{nmi}\\nCA:{ca}\\n')\n",
    "            del labels\n",
    "            del kmeans\n",
    "    return nmis, cas"
   ]
  },
  {
   "cell_type": "code",
   "execution_count": 15,
   "id": "liquid-output",
   "metadata": {},
   "outputs": [],
   "source": [
    "def print_total_mean_and_var(metrics_name, df):\n",
    "    models_means = df.mean()\n",
    "    models_stds = df.std()\n",
    "\n",
    "    total_mean = models_means.mean()\n",
    "    total_std = models_stds.std()\n",
    "    \n",
    "    print(f'{metrics_name} mean: {total_mean:.4f}')\n",
    "    print(f'{metrics_name} variance: {total_std:.4f}')"
   ]
  },
  {
   "cell_type": "markdown",
   "id": "ignored-migration",
   "metadata": {},
   "source": [
    "## RotNet"
   ]
  },
  {
   "cell_type": "markdown",
   "id": "united-programmer",
   "metadata": {},
   "source": [
    "### CIFAR : Pretraining"
   ]
  },
  {
   "cell_type": "code",
   "execution_count": 110,
   "id": "massive-olive",
   "metadata": {},
   "outputs": [],
   "source": [
    "path_nmis = 'trained_models/RotNet/CIFAR/nmis.csv'\n",
    "path_cas = 'trained_models/RotNet/CIFAR/cas.csv'"
   ]
  },
  {
   "cell_type": "markdown",
   "id": "secondary-proposition",
   "metadata": {},
   "source": [
    "Uncomment this part to generate new NMI and cluster accuracies"
   ]
  },
  {
   "cell_type": "code",
   "execution_count": null,
   "id": "central-mapping",
   "metadata": {},
   "outputs": [],
   "source": [
    "# rotnet_nmis_cifar, rotnet_cas_cifar = get_nmis_and_cas_10_runs('RotNet\\CIFAR\\pretrained_RotNet', colors_classes, device)"
   ]
  },
  {
   "cell_type": "code",
   "execution_count": null,
   "id": "white-right",
   "metadata": {},
   "outputs": [],
   "source": [
    "# df_rotnet_nmis_cifar = pd.DataFrame(rotnet_nmis_cifar)\n",
    "# df_rotnet_cas_cifar = pd.DataFrame(rotnet_cas_cifar)"
   ]
  },
  {
   "cell_type": "code",
   "execution_count": 74,
   "id": "finished-mercy",
   "metadata": {},
   "outputs": [],
   "source": [
    "# df_rotnet_nmis_cifar.to_csv(path_nmis)\n",
    "# df_rotnet_cas_cifar.to_csv(path_cas)"
   ]
  },
  {
   "cell_type": "markdown",
   "id": "turkish-boring",
   "metadata": {},
   "source": [
    "This code loads existing dataframes from specified paths"
   ]
  },
  {
   "cell_type": "code",
   "execution_count": 111,
   "id": "streaming-cylinder",
   "metadata": {},
   "outputs": [],
   "source": [
    "df_rotnet_nmis_cifar = pd.read_csv(path_nmis, index_col=0)\n",
    "df_rotnet_cas_cifar = pd.read_csv(path_cas, index_col=0)"
   ]
  },
  {
   "cell_type": "code",
   "execution_count": 112,
   "id": "mysterious-aerospace",
   "metadata": {},
   "outputs": [
    {
     "name": "stdout",
     "output_type": "stream",
     "text": [
      "NMI mean: 0.3506\n",
      "NMI variance: 0.0017\n"
     ]
    }
   ],
   "source": [
    "print_total_mean_and_var('NMI', df_rotnet_nmis_cifar)"
   ]
  },
  {
   "cell_type": "code",
   "execution_count": 113,
   "id": "spiritual-groove",
   "metadata": {},
   "outputs": [
    {
     "name": "stdout",
     "output_type": "stream",
     "text": [
      "Cluser accuracy mean: 0.4357\n",
      "Cluser accuracy variance: 0.0051\n"
     ]
    }
   ],
   "source": [
    "print_total_mean_and_var('Cluser accuracy', df_rotnet_cas_cifar)"
   ]
  },
  {
   "cell_type": "markdown",
   "id": "affected-electric",
   "metadata": {},
   "source": [
    "### CIFAR: DEC"
   ]
  },
  {
   "cell_type": "code",
   "execution_count": 114,
   "id": "shared-disability",
   "metadata": {},
   "outputs": [],
   "source": [
    "path_nmis = 'trained_models/RotNet/CIFAR/nmis_dec.csv'\n",
    "path_cas = 'trained_models/RotNet/CIFAR/cas_dec.csv'"
   ]
  },
  {
   "cell_type": "markdown",
   "id": "alpha-assessment",
   "metadata": {},
   "source": [
    "Uncomment this part to generate new NMI and cluster accuracies"
   ]
  },
  {
   "cell_type": "code",
   "execution_count": null,
   "id": "reliable-definition",
   "metadata": {},
   "outputs": [],
   "source": [
    "# rotnet_nmis_cifar_dec, rotnet_cas_cifar_dec = get_nmis_and_cas_10_runs('RotNet\\CIFAR\\DEC_RotNet', colors_classes, device)"
   ]
  },
  {
   "cell_type": "code",
   "execution_count": null,
   "id": "tutorial-diagnosis",
   "metadata": {},
   "outputs": [],
   "source": [
    "# df_rotnet_nmis_cifar_dec = pd.DataFrame(rotnet_nmis_cifar_dec)\n",
    "# df_rotnet_cas_cifar_dec = pd.DataFrame(rotnet_cas_cifar_dec)"
   ]
  },
  {
   "cell_type": "code",
   "execution_count": 105,
   "id": "interested-assurance",
   "metadata": {},
   "outputs": [],
   "source": [
    "# df_rotnet_nmis_cifar_dec.to_csv(path_nmis)\n",
    "# df_rotnet_cas_cifar_dec.to_csv(path_cas)"
   ]
  },
  {
   "cell_type": "markdown",
   "id": "premium-basement",
   "metadata": {},
   "source": [
    "This code loads existing dataframes from specified paths"
   ]
  },
  {
   "cell_type": "code",
   "execution_count": 115,
   "id": "worst-cardiff",
   "metadata": {},
   "outputs": [],
   "source": [
    "df_rotnet_nmis_cifar_dec = pd.read_csv(path_nmis, index_col=0)\n",
    "df_rotnet_cas_cifar_dec = pd.read_csv(path_cas, index_col=0)"
   ]
  },
  {
   "cell_type": "code",
   "execution_count": 117,
   "id": "wrong-healing",
   "metadata": {},
   "outputs": [
    {
     "name": "stdout",
     "output_type": "stream",
     "text": [
      "NMI mean: 0.1042\n",
      "NMI variance: 0.0001\n"
     ]
    }
   ],
   "source": [
    "print_total_mean_and_var('NMI', df_rotnet_nmis_cifar_dec)"
   ]
  },
  {
   "cell_type": "code",
   "execution_count": 118,
   "id": "political-spanking",
   "metadata": {},
   "outputs": [
    {
     "name": "stdout",
     "output_type": "stream",
     "text": [
      "Cluser accuracy mean: 0.2065\n",
      "Cluser accuracy variance: 0.0002\n"
     ]
    }
   ],
   "source": [
    "print_total_mean_and_var('Cluser accuracy', df_rotnet_cas_cifar_dec)"
   ]
  },
  {
   "cell_type": "markdown",
   "id": "abandoned-education",
   "metadata": {},
   "source": [
    "### STL10: Pretraining"
   ]
  },
  {
   "cell_type": "code",
   "execution_count": 144,
   "id": "danish-vancouver",
   "metadata": {},
   "outputs": [],
   "source": [
    "path_nmis = 'trained_models/RotNet/STL10/nmis.csv'\n",
    "path_cas = 'trained_models/RotNet/STL10/cas.csv'"
   ]
  },
  {
   "cell_type": "markdown",
   "id": "signal-hanging",
   "metadata": {},
   "source": [
    "Uncomment this part to generate new NMI and cluster accuracies"
   ]
  },
  {
   "cell_type": "code",
   "execution_count": null,
   "id": "matched-shape",
   "metadata": {},
   "outputs": [],
   "source": [
    "# rotnet_nmis_stl10, rotnet_cas_stl10 = get_nmis_and_cas_10_runs('RotNet\\STL10\\pretrained_RotNet_STL10', colors_classes, device)"
   ]
  },
  {
   "cell_type": "code",
   "execution_count": null,
   "id": "postal-intensity",
   "metadata": {},
   "outputs": [],
   "source": [
    "# df_rotnet_nmis_stl10 = pd.DataFrame(rotnet_nmis_stl10)\n",
    "# df_rotnet_cas_stl10 = pd.DataFrame(rotnet_cas_stl10)"
   ]
  },
  {
   "cell_type": "code",
   "execution_count": 149,
   "id": "exclusive-riverside",
   "metadata": {},
   "outputs": [],
   "source": [
    "# df_rotnet_nmis_stl10.to_csv(path_nmis)\n",
    "# df_rotnet_cas_stl10.to_csv(path_cas)"
   ]
  },
  {
   "cell_type": "code",
   "execution_count": 145,
   "id": "brief-terry",
   "metadata": {},
   "outputs": [],
   "source": [
    "df_rotnet_nmis_stl10 = pd.read_csv(path_nmis, index_col=0)\n",
    "df_rotnet_cas_stl10 = pd.read_csv(path_cas, index_col=0)"
   ]
  },
  {
   "cell_type": "code",
   "execution_count": 128,
   "id": "handmade-compilation",
   "metadata": {},
   "outputs": [
    {
     "name": "stdout",
     "output_type": "stream",
     "text": [
      "NMI mean: 0.2977\n",
      "NMI variance: 0.0022\n"
     ]
    }
   ],
   "source": [
    "print_total_mean_and_var('NMI', df_rotnet_nmis_stl10)"
   ]
  },
  {
   "cell_type": "code",
   "execution_count": 129,
   "id": "funded-grain",
   "metadata": {},
   "outputs": [
    {
     "name": "stdout",
     "output_type": "stream",
     "text": [
      "Cluser accuracy mean: 0.3826\n",
      "Cluser accuracy variance: 0.0069\n"
     ]
    }
   ],
   "source": [
    "print_total_mean_and_var('Cluser accuracy', df_rotnet_cas_stl10)"
   ]
  },
  {
   "cell_type": "markdown",
   "id": "distributed-queens",
   "metadata": {},
   "source": [
    "### STL10: DEC"
   ]
  },
  {
   "cell_type": "code",
   "execution_count": 8,
   "id": "peaceful-jonathan",
   "metadata": {},
   "outputs": [],
   "source": [
    "path_nmis = 'trained_models/RotNet/STL10/nmis_dec.csv'\n",
    "path_cas = 'trained_models/RotNet/STL10/cas_dec.csv'"
   ]
  },
  {
   "cell_type": "markdown",
   "id": "copyrighted-above",
   "metadata": {},
   "source": [
    "Uncomment this part to generate new NMI and cluster accuracies"
   ]
  },
  {
   "cell_type": "code",
   "execution_count": 16,
   "id": "danish-reading",
   "metadata": {},
   "outputs": [
    {
     "name": "stdout",
     "output_type": "stream",
     "text": [
      "RotNet\\STL10\\DEC_RotNet_STL10_0.pth\n"
     ]
    },
    {
     "name": "stderr",
     "output_type": "stream",
     "text": [
      "D:\\everything\\Studium\\WS2020\\Bachelor\\dcl_b\\models\\dec\\DEC.py:11: UserWarning: To copy construct from a tensor, it is recommended to use sourceTensor.clone().detach() or sourceTensor.clone().detach().requires_grad_(True), rather than torch.tensor(sourceTensor).\n",
      "  self.centers = torch.nn.Parameter(torch.tensor(init_np_centers), requires_grad=True)\n"
     ]
    },
    {
     "name": "stdout",
     "output_type": "stream",
     "text": [
      "Run: 0\n",
      "RotNet\\STL10\\DEC_RotNet_STL10_0.pth:\n",
      "NMI:0.12208453487474598\n",
      "CA:0.22876602564102563\n",
      "\n",
      "Run: 1\n",
      "RotNet\\STL10\\DEC_RotNet_STL10_0.pth:\n",
      "NMI:0.12155474772359603\n",
      "CA:0.22846554487179488\n",
      "\n",
      "Run: 2\n",
      "RotNet\\STL10\\DEC_RotNet_STL10_0.pth:\n",
      "NMI:0.121995399029329\n",
      "CA:0.22906650641025642\n",
      "\n",
      "Run: 3\n",
      "RotNet\\STL10\\DEC_RotNet_STL10_0.pth:\n",
      "NMI:0.12096344375228539\n",
      "CA:0.2272636217948718\n",
      "\n",
      "Run: 4\n",
      "RotNet\\STL10\\DEC_RotNet_STL10_0.pth:\n",
      "NMI:0.12348306702860942\n",
      "CA:0.2281650641025641\n",
      "\n",
      "Run: 5\n",
      "RotNet\\STL10\\DEC_RotNet_STL10_0.pth:\n",
      "NMI:0.12218242504376206\n",
      "CA:0.22876602564102563\n",
      "\n",
      "Run: 6\n",
      "RotNet\\STL10\\DEC_RotNet_STL10_0.pth:\n",
      "NMI:0.12175842687384915\n",
      "CA:0.22896634615384615\n",
      "\n",
      "Run: 7\n",
      "RotNet\\STL10\\DEC_RotNet_STL10_0.pth:\n",
      "NMI:0.12156853269391757\n",
      "CA:0.22826522435897437\n",
      "\n",
      "Run: 8\n",
      "RotNet\\STL10\\DEC_RotNet_STL10_0.pth:\n",
      "NMI:0.12202411442203921\n",
      "CA:0.22876602564102563\n",
      "\n",
      "Run: 9\n",
      "RotNet\\STL10\\DEC_RotNet_STL10_0.pth:\n",
      "NMI:0.12157784478325348\n",
      "CA:0.22846554487179488\n",
      "\n",
      "RotNet\\STL10\\DEC_RotNet_STL10_1.pth\n"
     ]
    },
    {
     "name": "stderr",
     "output_type": "stream",
     "text": [
      "D:\\everything\\Studium\\WS2020\\Bachelor\\dcl_b\\models\\dec\\DEC.py:11: UserWarning: To copy construct from a tensor, it is recommended to use sourceTensor.clone().detach() or sourceTensor.clone().detach().requires_grad_(True), rather than torch.tensor(sourceTensor).\n",
      "  self.centers = torch.nn.Parameter(torch.tensor(init_np_centers), requires_grad=True)\n"
     ]
    },
    {
     "name": "stdout",
     "output_type": "stream",
     "text": [
      "Run: 0\n",
      "RotNet\\STL10\\DEC_RotNet_STL10_1.pth:\n",
      "NMI:0.11714083535160714\n",
      "CA:0.21374198717948717\n",
      "\n",
      "Run: 1\n",
      "RotNet\\STL10\\DEC_RotNet_STL10_1.pth:\n",
      "NMI:0.11686183501592559\n",
      "CA:0.21374198717948717\n",
      "\n",
      "Run: 2\n",
      "RotNet\\STL10\\DEC_RotNet_STL10_1.pth:\n",
      "NMI:0.11708882572716388\n",
      "CA:0.21394230769230768\n",
      "\n",
      "Run: 3\n",
      "RotNet\\STL10\\DEC_RotNet_STL10_1.pth:\n",
      "NMI:0.11722081115418638\n",
      "CA:0.21564503205128205\n",
      "\n",
      "Run: 4\n",
      "RotNet\\STL10\\DEC_RotNet_STL10_1.pth:\n",
      "NMI:0.117096532542\n",
      "CA:0.21354166666666666\n",
      "\n",
      "Run: 5\n",
      "RotNet\\STL10\\DEC_RotNet_STL10_1.pth:\n",
      "NMI:0.11690777099668934\n",
      "CA:0.21374198717948717\n",
      "\n",
      "Run: 6\n",
      "RotNet\\STL10\\DEC_RotNet_STL10_1.pth:\n",
      "NMI:0.11667191082239005\n",
      "CA:0.2150440705128205\n",
      "\n",
      "Run: 7\n",
      "RotNet\\STL10\\DEC_RotNet_STL10_1.pth:\n",
      "NMI:0.11683256582667337\n",
      "CA:0.21494391025641027\n",
      "\n",
      "Run: 8\n",
      "RotNet\\STL10\\DEC_RotNet_STL10_1.pth:\n",
      "NMI:0.11718121158974824\n",
      "CA:0.21374198717948717\n",
      "\n",
      "Run: 9\n",
      "RotNet\\STL10\\DEC_RotNet_STL10_1.pth:\n",
      "NMI:0.11742802851143412\n",
      "CA:0.2153445512820513\n",
      "\n",
      "RotNet\\STL10\\DEC_RotNet_STL10_2.pth\n"
     ]
    },
    {
     "name": "stderr",
     "output_type": "stream",
     "text": [
      "D:\\everything\\Studium\\WS2020\\Bachelor\\dcl_b\\models\\dec\\DEC.py:11: UserWarning: To copy construct from a tensor, it is recommended to use sourceTensor.clone().detach() or sourceTensor.clone().detach().requires_grad_(True), rather than torch.tensor(sourceTensor).\n",
      "  self.centers = torch.nn.Parameter(torch.tensor(init_np_centers), requires_grad=True)\n"
     ]
    },
    {
     "name": "stdout",
     "output_type": "stream",
     "text": [
      "Run: 0\n",
      "RotNet\\STL10\\DEC_RotNet_STL10_2.pth:\n",
      "NMI:0.11878755577315159\n",
      "CA:0.2104366987179487\n",
      "\n",
      "Run: 1\n",
      "RotNet\\STL10\\DEC_RotNet_STL10_2.pth:\n",
      "NMI:0.11915803067001182\n",
      "CA:0.21233974358974358\n",
      "\n",
      "Run: 2\n",
      "RotNet\\STL10\\DEC_RotNet_STL10_2.pth:\n",
      "NMI:0.1181032359796965\n",
      "CA:0.2109375\n",
      "\n",
      "Run: 3\n",
      "RotNet\\STL10\\DEC_RotNet_STL10_2.pth:\n",
      "NMI:0.11902453249001482\n",
      "CA:0.2102363782051282\n",
      "\n",
      "Run: 4\n",
      "RotNet\\STL10\\DEC_RotNet_STL10_2.pth:\n",
      "NMI:0.11861027806390949\n",
      "CA:0.20943509615384615\n",
      "\n",
      "Run: 5\n",
      "RotNet\\STL10\\DEC_RotNet_STL10_2.pth:\n",
      "NMI:0.11837208304506236\n",
      "CA:0.2116386217948718\n",
      "\n",
      "Run: 6\n",
      "RotNet\\STL10\\DEC_RotNet_STL10_2.pth:\n",
      "NMI:0.12005438883814992\n",
      "CA:0.21003605769230768\n",
      "\n",
      "Run: 7\n",
      "RotNet\\STL10\\DEC_RotNet_STL10_2.pth:\n",
      "NMI:0.11892067056552408\n",
      "CA:0.2102363782051282\n",
      "\n",
      "Run: 8\n",
      "RotNet\\STL10\\DEC_RotNet_STL10_2.pth:\n",
      "NMI:0.11844823581341114\n",
      "CA:0.21153846153846154\n",
      "\n",
      "Run: 9\n",
      "RotNet\\STL10\\DEC_RotNet_STL10_2.pth:\n",
      "NMI:0.11863243315694638\n",
      "CA:0.21153846153846154\n",
      "\n",
      "RotNet\\STL10\\DEC_RotNet_STL10_3.pth\n"
     ]
    },
    {
     "name": "stderr",
     "output_type": "stream",
     "text": [
      "D:\\everything\\Studium\\WS2020\\Bachelor\\dcl_b\\models\\dec\\DEC.py:11: UserWarning: To copy construct from a tensor, it is recommended to use sourceTensor.clone().detach() or sourceTensor.clone().detach().requires_grad_(True), rather than torch.tensor(sourceTensor).\n",
      "  self.centers = torch.nn.Parameter(torch.tensor(init_np_centers), requires_grad=True)\n"
     ]
    },
    {
     "name": "stdout",
     "output_type": "stream",
     "text": [
      "Run: 0\n",
      "RotNet\\STL10\\DEC_RotNet_STL10_3.pth:\n",
      "NMI:0.11481090836530751\n",
      "CA:0.2068309294871795\n",
      "\n",
      "Run: 1\n",
      "RotNet\\STL10\\DEC_RotNet_STL10_3.pth:\n",
      "NMI:0.11490314962938558\n",
      "CA:0.20833333333333334\n",
      "\n",
      "Run: 2\n",
      "RotNet\\STL10\\DEC_RotNet_STL10_3.pth:\n",
      "NMI:0.11466961414364969\n",
      "CA:0.20833333333333334\n",
      "\n",
      "Run: 3\n",
      "RotNet\\STL10\\DEC_RotNet_STL10_3.pth:\n",
      "NMI:0.1147444918015921\n",
      "CA:0.2075320512820513\n",
      "\n",
      "Run: 4\n",
      "RotNet\\STL10\\DEC_RotNet_STL10_3.pth:\n",
      "NMI:0.11462953464023001\n",
      "CA:0.20813301282051283\n",
      "\n",
      "Run: 5\n",
      "RotNet\\STL10\\DEC_RotNet_STL10_3.pth:\n",
      "NMI:0.1147921994354148\n",
      "CA:0.20703125\n",
      "\n",
      "Run: 6\n",
      "RotNet\\STL10\\DEC_RotNet_STL10_3.pth:\n",
      "NMI:0.11463103235598757\n",
      "CA:0.20743189102564102\n",
      "\n",
      "Run: 7\n",
      "RotNet\\STL10\\DEC_RotNet_STL10_3.pth:\n",
      "NMI:0.11485224278044892\n",
      "CA:0.20793269230769232\n",
      "\n",
      "Run: 8\n",
      "RotNet\\STL10\\DEC_RotNet_STL10_3.pth:\n",
      "NMI:0.11464456767272883\n",
      "CA:0.20783253205128205\n",
      "\n",
      "Run: 9\n",
      "RotNet\\STL10\\DEC_RotNet_STL10_3.pth:\n",
      "NMI:0.11487219051556215\n",
      "CA:0.20803285256410256\n",
      "\n",
      "RotNet\\STL10\\DEC_RotNet_STL10_4.pth\n"
     ]
    },
    {
     "name": "stderr",
     "output_type": "stream",
     "text": [
      "D:\\everything\\Studium\\WS2020\\Bachelor\\dcl_b\\models\\dec\\DEC.py:11: UserWarning: To copy construct from a tensor, it is recommended to use sourceTensor.clone().detach() or sourceTensor.clone().detach().requires_grad_(True), rather than torch.tensor(sourceTensor).\n",
      "  self.centers = torch.nn.Parameter(torch.tensor(init_np_centers), requires_grad=True)\n"
     ]
    },
    {
     "name": "stdout",
     "output_type": "stream",
     "text": [
      "Run: 0\n",
      "RotNet\\STL10\\DEC_RotNet_STL10_4.pth:\n",
      "NMI:0.10984162224051433\n",
      "CA:0.21864983974358973\n",
      "\n",
      "Run: 1\n",
      "RotNet\\STL10\\DEC_RotNet_STL10_4.pth:\n",
      "NMI:0.10955392408189737\n",
      "CA:0.2180488782051282\n",
      "\n",
      "Run: 2\n",
      "RotNet\\STL10\\DEC_RotNet_STL10_4.pth:\n",
      "NMI:0.10960210831407613\n",
      "CA:0.2182491987179487\n",
      "\n",
      "Run: 3\n",
      "RotNet\\STL10\\DEC_RotNet_STL10_4.pth:\n",
      "NMI:0.10980239731816047\n",
      "CA:0.21844951923076922\n",
      "\n",
      "Run: 4\n",
      "RotNet\\STL10\\DEC_RotNet_STL10_4.pth:\n",
      "NMI:0.1065465723200158\n",
      "CA:0.21684695512820512\n",
      "\n",
      "Run: 5\n",
      "RotNet\\STL10\\DEC_RotNet_STL10_4.pth:\n",
      "NMI:0.10954781815845377\n",
      "CA:0.2180488782051282\n",
      "\n",
      "Run: 6\n",
      "RotNet\\STL10\\DEC_RotNet_STL10_4.pth:\n",
      "NMI:0.1097335309044981\n",
      "CA:0.21814903846153846\n",
      "\n",
      "Run: 7\n",
      "RotNet\\STL10\\DEC_RotNet_STL10_4.pth:\n",
      "NMI:0.10623292290041411\n",
      "CA:0.21654647435897437\n",
      "\n",
      "Run: 8\n",
      "RotNet\\STL10\\DEC_RotNet_STL10_4.pth:\n",
      "NMI:0.10966196378986925\n",
      "CA:0.21834935897435898\n",
      "\n",
      "Run: 9\n",
      "RotNet\\STL10\\DEC_RotNet_STL10_4.pth:\n",
      "NMI:0.10968061311002841\n",
      "CA:0.21814903846153846\n",
      "\n",
      "RotNet\\STL10\\DEC_RotNet_STL10_5.pth\n"
     ]
    },
    {
     "name": "stderr",
     "output_type": "stream",
     "text": [
      "D:\\everything\\Studium\\WS2020\\Bachelor\\dcl_b\\models\\dec\\DEC.py:11: UserWarning: To copy construct from a tensor, it is recommended to use sourceTensor.clone().detach() or sourceTensor.clone().detach().requires_grad_(True), rather than torch.tensor(sourceTensor).\n",
      "  self.centers = torch.nn.Parameter(torch.tensor(init_np_centers), requires_grad=True)\n"
     ]
    },
    {
     "name": "stdout",
     "output_type": "stream",
     "text": [
      "Run: 0\n",
      "RotNet\\STL10\\DEC_RotNet_STL10_5.pth:\n",
      "NMI:0.011886814589668409\n",
      "CA:0.10947516025641026\n",
      "\n",
      "Run: 1\n",
      "RotNet\\STL10\\DEC_RotNet_STL10_5.pth:\n",
      "NMI:0.012991787477077231\n",
      "CA:0.11017628205128205\n",
      "\n",
      "Run: 2\n",
      "RotNet\\STL10\\DEC_RotNet_STL10_5.pth:\n",
      "NMI:0.012430547299732643\n",
      "CA:0.10917467948717949\n",
      "\n",
      "Run: 3\n",
      "RotNet\\STL10\\DEC_RotNet_STL10_5.pth:\n",
      "NMI:0.011917582538389532\n",
      "CA:0.10897435897435898\n",
      "\n",
      "Run: 4\n",
      "RotNet\\STL10\\DEC_RotNet_STL10_5.pth:\n",
      "NMI:0.012346044006012831\n",
      "CA:0.109375\n",
      "\n",
      "Run: 5\n",
      "RotNet\\STL10\\DEC_RotNet_STL10_5.pth:\n",
      "NMI:0.012578370581424818\n",
      "CA:0.109375\n",
      "\n",
      "Run: 6\n",
      "RotNet\\STL10\\DEC_RotNet_STL10_5.pth:\n",
      "NMI:0.012582682913604253\n",
      "CA:0.10977564102564102\n",
      "\n",
      "Run: 7\n",
      "RotNet\\STL10\\DEC_RotNet_STL10_5.pth:\n",
      "NMI:0.011956522224587087\n",
      "CA:0.10927483974358974\n",
      "\n",
      "Run: 8\n",
      "RotNet\\STL10\\DEC_RotNet_STL10_5.pth:\n",
      "NMI:0.012268233235650551\n",
      "CA:0.10947516025641026\n",
      "\n",
      "Run: 9\n",
      "RotNet\\STL10\\DEC_RotNet_STL10_5.pth:\n",
      "NMI:0.012891492804493367\n",
      "CA:0.10987580128205128\n",
      "\n",
      "RotNet\\STL10\\DEC_RotNet_STL10_6.pth\n"
     ]
    },
    {
     "name": "stderr",
     "output_type": "stream",
     "text": [
      "D:\\everything\\Studium\\WS2020\\Bachelor\\dcl_b\\models\\dec\\DEC.py:11: UserWarning: To copy construct from a tensor, it is recommended to use sourceTensor.clone().detach() or sourceTensor.clone().detach().requires_grad_(True), rather than torch.tensor(sourceTensor).\n",
      "  self.centers = torch.nn.Parameter(torch.tensor(init_np_centers), requires_grad=True)\n"
     ]
    },
    {
     "name": "stdout",
     "output_type": "stream",
     "text": [
      "Run: 0\n",
      "RotNet\\STL10\\DEC_RotNet_STL10_6.pth:\n",
      "NMI:0.02777956319256333\n",
      "CA:0.1321113782051282\n",
      "\n",
      "Run: 1\n",
      "RotNet\\STL10\\DEC_RotNet_STL10_6.pth:\n",
      "NMI:0.02691674992336181\n",
      "CA:0.13191105769230768\n",
      "\n",
      "Run: 2\n",
      "RotNet\\STL10\\DEC_RotNet_STL10_6.pth:\n",
      "NMI:0.02556482113749972\n",
      "CA:0.12890625\n",
      "\n",
      "Run: 3\n",
      "RotNet\\STL10\\DEC_RotNet_STL10_6.pth:\n",
      "NMI:0.027487564256295942\n",
      "CA:0.13110977564102563\n",
      "\n",
      "Run: 4\n",
      "RotNet\\STL10\\DEC_RotNet_STL10_6.pth:\n",
      "NMI:0.025603564859462167\n",
      "CA:0.1291065705128205\n",
      "\n",
      "Run: 5\n",
      "RotNet\\STL10\\DEC_RotNet_STL10_6.pth:\n",
      "NMI:0.02551681645902679\n",
      "CA:0.12890625\n",
      "\n",
      "Run: 6\n",
      "RotNet\\STL10\\DEC_RotNet_STL10_6.pth:\n",
      "NMI:0.025709456911561908\n",
      "CA:0.12880608974358973\n",
      "\n",
      "Run: 7\n",
      "RotNet\\STL10\\DEC_RotNet_STL10_6.pth:\n",
      "NMI:0.02583086695959913\n",
      "CA:0.12850560897435898\n",
      "\n",
      "Run: 8\n",
      "RotNet\\STL10\\DEC_RotNet_STL10_6.pth:\n",
      "NMI:0.027173225760340966\n",
      "CA:0.13151041666666666\n",
      "\n",
      "Run: 9\n",
      "RotNet\\STL10\\DEC_RotNet_STL10_6.pth:\n",
      "NMI:0.02698372103611639\n",
      "CA:0.1323116987179487\n",
      "\n",
      "RotNet\\STL10\\DEC_RotNet_STL10_7.pth\n"
     ]
    },
    {
     "name": "stderr",
     "output_type": "stream",
     "text": [
      "D:\\everything\\Studium\\WS2020\\Bachelor\\dcl_b\\models\\dec\\DEC.py:11: UserWarning: To copy construct from a tensor, it is recommended to use sourceTensor.clone().detach() or sourceTensor.clone().detach().requires_grad_(True), rather than torch.tensor(sourceTensor).\n",
      "  self.centers = torch.nn.Parameter(torch.tensor(init_np_centers), requires_grad=True)\n"
     ]
    },
    {
     "name": "stdout",
     "output_type": "stream",
     "text": [
      "Run: 0\n",
      "RotNet\\STL10\\DEC_RotNet_STL10_7.pth:\n",
      "NMI:0.12926007906795292\n",
      "CA:0.22415865384615385\n",
      "\n",
      "Run: 1\n",
      "RotNet\\STL10\\DEC_RotNet_STL10_7.pth:\n",
      "NMI:0.12839192692011347\n",
      "CA:0.22155448717948717\n",
      "\n",
      "Run: 2\n",
      "RotNet\\STL10\\DEC_RotNet_STL10_7.pth:\n",
      "NMI:0.12948731435229918\n",
      "CA:0.22395833333333334\n",
      "\n",
      "Run: 3\n",
      "RotNet\\STL10\\DEC_RotNet_STL10_7.pth:\n",
      "NMI:0.12801140782245685\n",
      "CA:0.22175480769230768\n",
      "\n",
      "Run: 4\n",
      "RotNet\\STL10\\DEC_RotNet_STL10_7.pth:\n",
      "NMI:0.12832377368330014\n",
      "CA:0.22165464743589744\n",
      "\n",
      "Run: 5\n",
      "RotNet\\STL10\\DEC_RotNet_STL10_7.pth:\n",
      "NMI:0.12825159196915634\n",
      "CA:0.22155448717948717\n",
      "\n",
      "Run: 6\n",
      "RotNet\\STL10\\DEC_RotNet_STL10_7.pth:\n",
      "NMI:0.12781375720134547\n",
      "CA:0.2224559294871795\n",
      "\n",
      "Run: 7\n",
      "RotNet\\STL10\\DEC_RotNet_STL10_7.pth:\n",
      "NMI:0.12927045954023636\n",
      "CA:0.22435897435897437\n",
      "\n",
      "Run: 8\n",
      "RotNet\\STL10\\DEC_RotNet_STL10_7.pth:\n",
      "NMI:0.12770130135894825\n",
      "CA:0.21834935897435898\n",
      "\n",
      "Run: 9\n",
      "RotNet\\STL10\\DEC_RotNet_STL10_7.pth:\n",
      "NMI:0.1245613036680977\n",
      "CA:0.22355769230769232\n",
      "\n",
      "RotNet\\STL10\\DEC_RotNet_STL10_8.pth\n"
     ]
    },
    {
     "name": "stderr",
     "output_type": "stream",
     "text": [
      "D:\\everything\\Studium\\WS2020\\Bachelor\\dcl_b\\models\\dec\\DEC.py:11: UserWarning: To copy construct from a tensor, it is recommended to use sourceTensor.clone().detach() or sourceTensor.clone().detach().requires_grad_(True), rather than torch.tensor(sourceTensor).\n",
      "  self.centers = torch.nn.Parameter(torch.tensor(init_np_centers), requires_grad=True)\n"
     ]
    },
    {
     "name": "stdout",
     "output_type": "stream",
     "text": [
      "Run: 0\n",
      "RotNet\\STL10\\DEC_RotNet_STL10_8.pth:\n",
      "NMI:0.1253114629800414\n",
      "CA:0.2169471153846154\n",
      "\n",
      "Run: 1\n",
      "RotNet\\STL10\\DEC_RotNet_STL10_8.pth:\n",
      "NMI:0.12519931653552893\n",
      "CA:0.21684695512820512\n",
      "\n",
      "Run: 2\n",
      "RotNet\\STL10\\DEC_RotNet_STL10_8.pth:\n",
      "NMI:0.12497405415195449\n",
      "CA:0.21674679487179488\n",
      "\n",
      "Run: 3\n",
      "RotNet\\STL10\\DEC_RotNet_STL10_8.pth:\n",
      "NMI:0.12511579325221464\n",
      "CA:0.2166466346153846\n",
      "\n",
      "Run: 4\n",
      "RotNet\\STL10\\DEC_RotNet_STL10_8.pth:\n",
      "NMI:0.12546297231309284\n",
      "CA:0.21864983974358973\n",
      "\n",
      "Run: 5\n",
      "RotNet\\STL10\\DEC_RotNet_STL10_8.pth:\n",
      "NMI:0.12540116112335312\n",
      "CA:0.2192508012820513\n",
      "\n",
      "Run: 6\n",
      "RotNet\\STL10\\DEC_RotNet_STL10_8.pth:\n",
      "NMI:0.12514338355219828\n",
      "CA:0.2166466346153846\n",
      "\n",
      "Run: 7\n",
      "RotNet\\STL10\\DEC_RotNet_STL10_8.pth:\n",
      "NMI:0.12522213510986605\n",
      "CA:0.21684695512820512\n",
      "\n",
      "Run: 8\n",
      "RotNet\\STL10\\DEC_RotNet_STL10_8.pth:\n",
      "NMI:0.12534790208237245\n",
      "CA:0.21875\n",
      "\n",
      "Run: 9\n",
      "RotNet\\STL10\\DEC_RotNet_STL10_8.pth:\n",
      "NMI:0.12504791934050963\n",
      "CA:0.21734775641025642\n",
      "\n",
      "RotNet\\STL10\\DEC_RotNet_STL10_9.pth\n"
     ]
    },
    {
     "name": "stderr",
     "output_type": "stream",
     "text": [
      "D:\\everything\\Studium\\WS2020\\Bachelor\\dcl_b\\models\\dec\\DEC.py:11: UserWarning: To copy construct from a tensor, it is recommended to use sourceTensor.clone().detach() or sourceTensor.clone().detach().requires_grad_(True), rather than torch.tensor(sourceTensor).\n",
      "  self.centers = torch.nn.Parameter(torch.tensor(init_np_centers), requires_grad=True)\n"
     ]
    },
    {
     "name": "stdout",
     "output_type": "stream",
     "text": [
      "Run: 0\n",
      "RotNet\\STL10\\DEC_RotNet_STL10_9.pth:\n",
      "NMI:0.1274944931730199\n",
      "CA:0.20963541666666666\n",
      "\n",
      "Run: 1\n",
      "RotNet\\STL10\\DEC_RotNet_STL10_9.pth:\n",
      "NMI:0.12731539234372838\n",
      "CA:0.20973557692307693\n",
      "\n",
      "Run: 2\n",
      "RotNet\\STL10\\DEC_RotNet_STL10_9.pth:\n",
      "NMI:0.1277800022873754\n",
      "CA:0.20973557692307693\n",
      "\n",
      "Run: 3\n",
      "RotNet\\STL10\\DEC_RotNet_STL10_9.pth:\n",
      "NMI:0.12757360905858173\n",
      "CA:0.20953525641025642\n",
      "\n",
      "Run: 4\n",
      "RotNet\\STL10\\DEC_RotNet_STL10_9.pth:\n",
      "NMI:0.1273482477345077\n",
      "CA:0.20963541666666666\n",
      "\n",
      "Run: 5\n",
      "RotNet\\STL10\\DEC_RotNet_STL10_9.pth:\n",
      "NMI:0.126852790142821\n",
      "CA:0.20562900641025642\n",
      "\n",
      "Run: 6\n",
      "RotNet\\STL10\\DEC_RotNet_STL10_9.pth:\n",
      "NMI:0.12753890718129676\n",
      "CA:0.20993589743589744\n",
      "\n",
      "Run: 7\n",
      "RotNet\\STL10\\DEC_RotNet_STL10_9.pth:\n",
      "NMI:0.1273642161753056\n",
      "CA:0.21003605769230768\n",
      "\n",
      "Run: 8\n",
      "RotNet\\STL10\\DEC_RotNet_STL10_9.pth:\n",
      "NMI:0.12736290116398388\n",
      "CA:0.20963541666666666\n",
      "\n",
      "Run: 9\n",
      "RotNet\\STL10\\DEC_RotNet_STL10_9.pth:\n",
      "NMI:0.12756945764023717\n",
      "CA:0.20963541666666666\n",
      "\n"
     ]
    }
   ],
   "source": [
    "rotnet_nmis_stl10_dec, rotnet_cas_stl10_dec = get_nmis_and_cas_10_runs('RotNet\\STL10\\DEC_RotNet_STL10', colors_classes, device)"
   ]
  },
  {
   "cell_type": "code",
   "execution_count": 17,
   "id": "another-begin",
   "metadata": {},
   "outputs": [],
   "source": [
    "df_rotnet_nmis_stl10_dec = pd.DataFrame(rotnet_nmis_stl10_dec)\n",
    "df_rotnet_cas_stl10_dec = pd.DataFrame(rotnet_cas_stl10_dec)"
   ]
  },
  {
   "cell_type": "code",
   "execution_count": 18,
   "id": "technological-cheat",
   "metadata": {},
   "outputs": [],
   "source": [
    "df_rotnet_nmis_stl10_dec.to_csv(path_nmis)\n",
    "df_rotnet_cas_stl10_dec.to_csv(path_cas)"
   ]
  },
  {
   "cell_type": "code",
   "execution_count": 19,
   "id": "temporal-london",
   "metadata": {},
   "outputs": [],
   "source": [
    "df_rotnet_nmis_stl10_dec = pd.read_csv(path_nmis, index_col=0)\n",
    "df_rotnet_cas_stl10_dec = pd.read_csv(path_cas, index_col=0)"
   ]
  },
  {
   "cell_type": "code",
   "execution_count": 20,
   "id": "removed-defeat",
   "metadata": {},
   "outputs": [
    {
     "name": "stdout",
     "output_type": "stream",
     "text": [
      "NMI mean: 0.1001\n",
      "NMI variance: 0.0005\n"
     ]
    }
   ],
   "source": [
    "print_total_mean_and_var('NMI', df_rotnet_nmis_stl10_dec)"
   ]
  },
  {
   "cell_type": "code",
   "execution_count": 21,
   "id": "tribal-soviet",
   "metadata": {},
   "outputs": [
    {
     "name": "stdout",
     "output_type": "stream",
     "text": [
      "Cluser accuracy mean: 0.1968\n",
      "Cluser accuracy variance: 0.0005\n"
     ]
    }
   ],
   "source": [
    "print_total_mean_and_var('Cluser accuracy', df_rotnet_cas_stl10_dec)"
   ]
  },
  {
   "cell_type": "markdown",
   "id": "functional-arthritis",
   "metadata": {},
   "source": [
    "## SimCLR"
   ]
  },
  {
   "cell_type": "markdown",
   "id": "universal-printer",
   "metadata": {},
   "source": [
    "### CIFAR: Pretraining"
   ]
  },
  {
   "cell_type": "code",
   "execution_count": 130,
   "id": "waiting-reverse",
   "metadata": {},
   "outputs": [],
   "source": [
    "path_nmis = 'trained_models/SimCLR/CIFAR/nmis.csv'\n",
    "path_cas = 'trained_models/SimCLR/CIFAR/cas.csv'"
   ]
  },
  {
   "cell_type": "markdown",
   "id": "finished-thriller",
   "metadata": {},
   "source": [
    "Uncomment this part to generate new NMI and cluster accuracies"
   ]
  },
  {
   "cell_type": "code",
   "execution_count": null,
   "id": "forbidden-meter",
   "metadata": {},
   "outputs": [],
   "source": [
    "# simclr_nmis_cifar, simclr_cas_cifar = get_nmis_and_cas_10_runs('SimCLR\\CIFAR\\pretrained_SimCLR', colors_classes, device)"
   ]
  },
  {
   "cell_type": "code",
   "execution_count": 24,
   "id": "effective-uganda",
   "metadata": {},
   "outputs": [],
   "source": [
    "# df_simclr_nmis_cifar = pd.DataFrame(simclr_nmis_cifar)\n",
    "# df_simclr_cas_cifar = pd.DataFrame(simclr_cas_cifar)"
   ]
  },
  {
   "cell_type": "code",
   "execution_count": 134,
   "id": "received-fraction",
   "metadata": {},
   "outputs": [],
   "source": [
    "# df_simclr_nmis_cifar.to_csv(path_nmis)\n",
    "# df_simclr_cas_cifar.to_csv(path_cas)"
   ]
  },
  {
   "cell_type": "code",
   "execution_count": 132,
   "id": "heavy-geneva",
   "metadata": {},
   "outputs": [],
   "source": [
    "df_simclr_nmis_cifar = pd.read_csv(path_nmis, index_col=0)\n",
    "df_simclr_cas_cifar = pd.read_csv(path_cas, index_col=0)"
   ]
  },
  {
   "cell_type": "code",
   "execution_count": 135,
   "id": "limited-fundamentals",
   "metadata": {},
   "outputs": [
    {
     "name": "stdout",
     "output_type": "stream",
     "text": [
      "NMI mean: 0.4724\n",
      "NMI variance: 0.0033\n"
     ]
    }
   ],
   "source": [
    "print_total_mean_and_var('NMI', df_simclr_nmis_cifar)"
   ]
  },
  {
   "cell_type": "code",
   "execution_count": 136,
   "id": "sunrise-beijing",
   "metadata": {},
   "outputs": [
    {
     "name": "stdout",
     "output_type": "stream",
     "text": [
      "Cluser accuracy mean: 0.5904\n",
      "Cluser accuracy variance: 0.0090\n"
     ]
    }
   ],
   "source": [
    "print_total_mean_and_var('Cluser accuracy', df_simclr_cas_cifar)"
   ]
  },
  {
   "cell_type": "code",
   "execution_count": 98,
   "id": "surrounded-effectiveness",
   "metadata": {},
   "outputs": [],
   "source": [
    "columns = [f'Run {i}' for i in range(10)]"
   ]
  },
  {
   "cell_type": "code",
   "execution_count": 133,
   "id": "changed-chorus",
   "metadata": {},
   "outputs": [],
   "source": [
    "df_simclr_nmis_cifar.columns = columns\n",
    "df_simclr_cas_cifar.columns = columns"
   ]
  },
  {
   "cell_type": "markdown",
   "id": "cleared-philippines",
   "metadata": {},
   "source": [
    "### CIFAR: IDEC"
   ]
  },
  {
   "cell_type": "code",
   "execution_count": 137,
   "id": "demographic-refund",
   "metadata": {},
   "outputs": [],
   "source": [
    "path_nmis = 'trained_models/SimCLR/CIFAR/nmis_idec.csv'\n",
    "path_cas = 'trained_models/SimCLR/CIFAR/cas_idec.csv'"
   ]
  },
  {
   "cell_type": "markdown",
   "id": "frank-islam",
   "metadata": {},
   "source": [
    "Uncomment this part to generate new NMI and cluster accuracies"
   ]
  },
  {
   "cell_type": "code",
   "execution_count": null,
   "id": "described-canyon",
   "metadata": {},
   "outputs": [],
   "source": [
    "# simclr_nmis_cifar_idec, simclr_cas_cifar_idec = get_nmis_and_cas_10_runs('SimCLR\\CIFAR\\IDEC_SimCLR', colors_classes, device)"
   ]
  },
  {
   "cell_type": "code",
   "execution_count": 27,
   "id": "widespread-satellite",
   "metadata": {},
   "outputs": [],
   "source": [
    "# df_simclr_nmis_cifar_idec = pd.DataFrame(simclr_nmis_cifar_idec)\n",
    "# df_simclr_cas_cifar_idec = pd.DataFrame(simclr_cas_cifar_idec)"
   ]
  },
  {
   "cell_type": "code",
   "execution_count": 141,
   "id": "robust-sphere",
   "metadata": {},
   "outputs": [],
   "source": [
    "# df_simclr_nmis_cifar_idec.to_csv(path_nmis)\n",
    "# df_simclr_cas_cifar_idec.to_csv(path_cas)"
   ]
  },
  {
   "cell_type": "code",
   "execution_count": 138,
   "id": "neither-ontario",
   "metadata": {},
   "outputs": [],
   "source": [
    "df_simclr_nmis_cifar_idec = pd.read_csv(path_nmis, index_col=0)\n",
    "df_simclr_cas_cifar_idec = pd.read_csv(path_cas, index_col=0)"
   ]
  },
  {
   "cell_type": "code",
   "execution_count": 142,
   "id": "incorporated-despite",
   "metadata": {},
   "outputs": [
    {
     "name": "stdout",
     "output_type": "stream",
     "text": [
      "NMI mean: 0.5569\n",
      "NMI variance: 0.0001\n"
     ]
    }
   ],
   "source": [
    "print_total_mean_and_var('NMI', df_simclr_nmis_cifar_idec)"
   ]
  },
  {
   "cell_type": "code",
   "execution_count": 143,
   "id": "knowing-boards",
   "metadata": {},
   "outputs": [
    {
     "name": "stdout",
     "output_type": "stream",
     "text": [
      "Cluser accuracy mean: 0.6576\n",
      "Cluser accuracy variance: 0.0000\n"
     ]
    }
   ],
   "source": [
    "print_total_mean_and_var('Cluser accuracy', df_simclr_cas_cifar_idec)"
   ]
  },
  {
   "cell_type": "markdown",
   "id": "stopped-mountain",
   "metadata": {},
   "source": [
    "### STL10: Pretraining"
   ]
  },
  {
   "cell_type": "code",
   "execution_count": 22,
   "id": "brutal-flower",
   "metadata": {},
   "outputs": [],
   "source": [
    "path_nmis = 'trained_models/SimCLR/STL10/nmis_dec.csv'\n",
    "path_cas = 'trained_models/SimCLR/STL10/cas_dec.csv'"
   ]
  },
  {
   "cell_type": "markdown",
   "id": "stable-holmes",
   "metadata": {},
   "source": [
    "Uncomment this part to generate new NMI and cluster accuracies"
   ]
  },
  {
   "cell_type": "code",
   "execution_count": 23,
   "id": "bright-primary",
   "metadata": {},
   "outputs": [
    {
     "name": "stdout",
     "output_type": "stream",
     "text": [
      "SimCLR\\STL10\\pretrained_SimCLR_STL10_0.pth\n",
      "Run: 0\n",
      "SimCLR\\STL10\\pretrained_SimCLR_STL10_0.pth:\n",
      "NMI:0.31808179438875117\n",
      "CA:0.422275641025641\n",
      "\n",
      "Run: 1\n",
      "SimCLR\\STL10\\pretrained_SimCLR_STL10_0.pth:\n",
      "NMI:0.31469791407695513\n",
      "CA:0.3915264423076923\n",
      "\n",
      "Run: 2\n",
      "SimCLR\\STL10\\pretrained_SimCLR_STL10_0.pth:\n",
      "NMI:0.31422274999198446\n",
      "CA:0.41456330128205127\n",
      "\n",
      "Run: 3\n",
      "SimCLR\\STL10\\pretrained_SimCLR_STL10_0.pth:\n",
      "NMI:0.32019680765389813\n",
      "CA:0.4305889423076923\n",
      "\n",
      "Run: 4\n",
      "SimCLR\\STL10\\pretrained_SimCLR_STL10_0.pth:\n",
      "NMI:0.3186096554249888\n",
      "CA:0.4276842948717949\n",
      "\n",
      "Run: 5\n",
      "SimCLR\\STL10\\pretrained_SimCLR_STL10_0.pth:\n",
      "NMI:0.3252095068360046\n",
      "CA:0.433994391025641\n",
      "\n",
      "Run: 6\n",
      "SimCLR\\STL10\\pretrained_SimCLR_STL10_0.pth:\n",
      "NMI:0.3261675674244283\n",
      "CA:0.43970352564102566\n",
      "\n",
      "Run: 7\n",
      "SimCLR\\STL10\\pretrained_SimCLR_STL10_0.pth:\n",
      "NMI:0.31748564988624384\n",
      "CA:0.42788461538461536\n",
      "\n",
      "Run: 8\n",
      "SimCLR\\STL10\\pretrained_SimCLR_STL10_0.pth:\n",
      "NMI:0.31879043087646225\n",
      "CA:0.4282852564102564\n",
      "\n",
      "Run: 9\n",
      "SimCLR\\STL10\\pretrained_SimCLR_STL10_0.pth:\n",
      "NMI:0.3233407561167077\n",
      "CA:0.43539663461538464\n",
      "\n",
      "SimCLR\\STL10\\pretrained_SimCLR_STL10_1.pth\n",
      "Run: 0\n",
      "SimCLR\\STL10\\pretrained_SimCLR_STL10_1.pth:\n",
      "NMI:0.3225693451549037\n",
      "CA:0.40955528846153844\n",
      "\n",
      "Run: 1\n",
      "SimCLR\\STL10\\pretrained_SimCLR_STL10_1.pth:\n",
      "NMI:0.3261818398679679\n",
      "CA:0.39903846153846156\n",
      "\n",
      "Run: 2\n",
      "SimCLR\\STL10\\pretrained_SimCLR_STL10_1.pth:\n",
      "NMI:0.32258048102652087\n",
      "CA:0.4078525641025641\n",
      "\n",
      "Run: 3\n",
      "SimCLR\\STL10\\pretrained_SimCLR_STL10_1.pth:\n",
      "NMI:0.3210740300005215\n",
      "CA:0.4009415064102564\n",
      "\n",
      "Run: 4\n",
      "SimCLR\\STL10\\pretrained_SimCLR_STL10_1.pth:\n",
      "NMI:0.32265584569139955\n",
      "CA:0.4082532051282051\n",
      "\n",
      "Run: 5\n",
      "SimCLR\\STL10\\pretrained_SimCLR_STL10_1.pth:\n",
      "NMI:0.32505358662678596\n",
      "CA:0.4323918269230769\n",
      "\n",
      "Run: 6\n",
      "SimCLR\\STL10\\pretrained_SimCLR_STL10_1.pth:\n",
      "NMI:0.32549333184843215\n",
      "CA:0.40234375\n",
      "\n",
      "Run: 7\n",
      "SimCLR\\STL10\\pretrained_SimCLR_STL10_1.pth:\n",
      "NMI:0.3307310941147686\n",
      "CA:0.40675080128205127\n",
      "\n",
      "Run: 8\n",
      "SimCLR\\STL10\\pretrained_SimCLR_STL10_1.pth:\n",
      "NMI:0.32581408409157886\n",
      "CA:0.40314503205128205\n",
      "\n",
      "Run: 9\n",
      "SimCLR\\STL10\\pretrained_SimCLR_STL10_1.pth:\n",
      "NMI:0.3210448332648051\n",
      "CA:0.41195913461538464\n",
      "\n",
      "SimCLR\\STL10\\pretrained_SimCLR_STL10_2.pth\n",
      "Run: 0\n",
      "SimCLR\\STL10\\pretrained_SimCLR_STL10_2.pth:\n",
      "NMI:0.33344384267762234\n",
      "CA:0.4465144230769231\n",
      "\n",
      "Run: 1\n",
      "SimCLR\\STL10\\pretrained_SimCLR_STL10_2.pth:\n",
      "NMI:0.332661649389421\n",
      "CA:0.4480168269230769\n",
      "\n",
      "Run: 2\n",
      "SimCLR\\STL10\\pretrained_SimCLR_STL10_2.pth:\n",
      "NMI:0.3278738260500153\n",
      "CA:0.44971955128205127\n",
      "\n",
      "Run: 3\n",
      "SimCLR\\STL10\\pretrained_SimCLR_STL10_2.pth:\n",
      "NMI:0.3271639565865732\n",
      "CA:0.4460136217948718\n",
      "\n",
      "Run: 4\n",
      "SimCLR\\STL10\\pretrained_SimCLR_STL10_2.pth:\n",
      "NMI:0.32418979120391894\n",
      "CA:0.4433092948717949\n",
      "\n",
      "Run: 5\n",
      "SimCLR\\STL10\\pretrained_SimCLR_STL10_2.pth:\n",
      "NMI:0.32854979646542537\n",
      "CA:0.4482171474358974\n",
      "\n",
      "Run: 6\n",
      "SimCLR\\STL10\\pretrained_SimCLR_STL10_2.pth:\n",
      "NMI:0.3271819381952359\n",
      "CA:0.409755608974359\n",
      "\n",
      "Run: 7\n",
      "SimCLR\\STL10\\pretrained_SimCLR_STL10_2.pth:\n",
      "NMI:0.33251459411741935\n",
      "CA:0.44641426282051283\n",
      "\n",
      "Run: 8\n",
      "SimCLR\\STL10\\pretrained_SimCLR_STL10_2.pth:\n",
      "NMI:0.3294334951794717\n",
      "CA:0.44591346153846156\n",
      "\n",
      "Run: 9\n",
      "SimCLR\\STL10\\pretrained_SimCLR_STL10_2.pth:\n",
      "NMI:0.3337327514353259\n",
      "CA:0.44971955128205127\n",
      "\n",
      "SimCLR\\STL10\\pretrained_SimCLR_STL10_3.pth\n",
      "Run: 0\n",
      "SimCLR\\STL10\\pretrained_SimCLR_STL10_3.pth:\n",
      "NMI:0.31840553979251274\n",
      "CA:0.44030448717948717\n",
      "\n",
      "Run: 1\n",
      "SimCLR\\STL10\\pretrained_SimCLR_STL10_3.pth:\n",
      "NMI:0.31267427787651436\n",
      "CA:0.40955528846153844\n",
      "\n",
      "Run: 2\n",
      "SimCLR\\STL10\\pretrained_SimCLR_STL10_3.pth:\n",
      "NMI:0.3180897618303661\n",
      "CA:0.44220753205128205\n",
      "\n",
      "Run: 3\n",
      "SimCLR\\STL10\\pretrained_SimCLR_STL10_3.pth:\n",
      "NMI:0.3192568953991348\n",
      "CA:0.44090544871794873\n",
      "\n",
      "Run: 4\n",
      "SimCLR\\STL10\\pretrained_SimCLR_STL10_3.pth:\n",
      "NMI:0.31994160660183707\n",
      "CA:0.4364983974358974\n",
      "\n",
      "Run: 5\n",
      "SimCLR\\STL10\\pretrained_SimCLR_STL10_3.pth:\n",
      "NMI:0.31958022657480295\n",
      "CA:0.43930288461538464\n",
      "\n",
      "Run: 6\n",
      "SimCLR\\STL10\\pretrained_SimCLR_STL10_3.pth:\n",
      "NMI:0.3219234773893346\n",
      "CA:0.43990384615384615\n",
      "\n",
      "Run: 7\n",
      "SimCLR\\STL10\\pretrained_SimCLR_STL10_3.pth:\n",
      "NMI:0.3191861699506729\n",
      "CA:0.4411057692307692\n",
      "\n",
      "Run: 8\n",
      "SimCLR\\STL10\\pretrained_SimCLR_STL10_3.pth:\n",
      "NMI:0.3175625766788398\n",
      "CA:0.43830128205128205\n",
      "\n",
      "Run: 9\n",
      "SimCLR\\STL10\\pretrained_SimCLR_STL10_3.pth:\n",
      "NMI:0.32064739967535816\n",
      "CA:0.43960336538461536\n",
      "\n",
      "SimCLR\\STL10\\pretrained_SimCLR_STL10_4.pth\n",
      "Run: 0\n",
      "SimCLR\\STL10\\pretrained_SimCLR_STL10_4.pth:\n",
      "NMI:0.3183028349186414\n",
      "CA:0.4049479166666667\n",
      "\n",
      "Run: 1\n",
      "SimCLR\\STL10\\pretrained_SimCLR_STL10_4.pth:\n",
      "NMI:0.32539078114765513\n",
      "CA:0.43379407051282054\n",
      "\n",
      "Run: 2\n",
      "SimCLR\\STL10\\pretrained_SimCLR_STL10_4.pth:\n",
      "NMI:0.31701595583909276\n",
      "CA:0.4150641025641026\n",
      "\n",
      "Run: 3\n",
      "SimCLR\\STL10\\pretrained_SimCLR_STL10_4.pth:\n",
      "NMI:0.3226601012073575\n",
      "CA:0.4172676282051282\n",
      "\n",
      "Run: 4\n",
      "SimCLR\\STL10\\pretrained_SimCLR_STL10_4.pth:\n",
      "NMI:0.3203132530166236\n",
      "CA:0.4176682692307692\n",
      "\n",
      "Run: 5\n",
      "SimCLR\\STL10\\pretrained_SimCLR_STL10_4.pth:\n",
      "NMI:0.32311886827359376\n",
      "CA:0.4303886217948718\n",
      "\n",
      "Run: 6\n",
      "SimCLR\\STL10\\pretrained_SimCLR_STL10_4.pth:\n",
      "NMI:0.3239686703992968\n",
      "CA:0.4166666666666667\n",
      "\n",
      "Run: 7\n",
      "SimCLR\\STL10\\pretrained_SimCLR_STL10_4.pth:\n",
      "NMI:0.32294985046753155\n",
      "CA:0.43078926282051283\n",
      "\n",
      "Run: 8\n",
      "SimCLR\\STL10\\pretrained_SimCLR_STL10_4.pth:\n",
      "NMI:0.3264143797099108\n",
      "CA:0.43299278846153844\n",
      "\n",
      "Run: 9\n",
      "SimCLR\\STL10\\pretrained_SimCLR_STL10_4.pth:\n",
      "NMI:0.3221924488856281\n",
      "CA:0.41626602564102566\n",
      "\n",
      "SimCLR\\STL10\\pretrained_SimCLR_STL10_5.pth\n",
      "Run: 0\n",
      "SimCLR\\STL10\\pretrained_SimCLR_STL10_5.pth:\n",
      "NMI:0.3283875818716436\n",
      "CA:0.4508213141025641\n",
      "\n",
      "Run: 1\n",
      "SimCLR\\STL10\\pretrained_SimCLR_STL10_5.pth:\n",
      "NMI:0.3303182300641269\n",
      "CA:0.45322516025641024\n",
      "\n",
      "Run: 2\n",
      "SimCLR\\STL10\\pretrained_SimCLR_STL10_5.pth:\n",
      "NMI:0.3281752692170103\n",
      "CA:0.448818108974359\n",
      "\n",
      "Run: 3\n",
      "SimCLR\\STL10\\pretrained_SimCLR_STL10_5.pth:\n",
      "NMI:0.3250040520758596\n",
      "CA:0.4467147435897436\n",
      "\n",
      "Run: 4\n",
      "SimCLR\\STL10\\pretrained_SimCLR_STL10_5.pth:\n",
      "NMI:0.32770577878550516\n",
      "CA:0.4489182692307692\n",
      "\n",
      "Run: 5\n",
      "SimCLR\\STL10\\pretrained_SimCLR_STL10_5.pth:\n",
      "NMI:0.3272789910268475\n",
      "CA:0.45132211538461536\n",
      "\n",
      "Run: 6\n",
      "SimCLR\\STL10\\pretrained_SimCLR_STL10_5.pth:\n",
      "NMI:0.324541812038135\n",
      "CA:0.4480168269230769\n",
      "\n",
      "Run: 7\n",
      "SimCLR\\STL10\\pretrained_SimCLR_STL10_5.pth:\n",
      "NMI:0.3302675423807077\n",
      "CA:0.45643028846153844\n",
      "\n",
      "Run: 8\n",
      "SimCLR\\STL10\\pretrained_SimCLR_STL10_5.pth:\n",
      "NMI:0.32414011976367063\n",
      "CA:0.4466145833333333\n",
      "\n",
      "Run: 9\n",
      "SimCLR\\STL10\\pretrained_SimCLR_STL10_5.pth:\n",
      "NMI:0.3217497332254013\n",
      "CA:0.44200721153846156\n",
      "\n",
      "SimCLR\\STL10\\pretrained_SimCLR_STL10_6.pth\n",
      "Run: 0\n",
      "SimCLR\\STL10\\pretrained_SimCLR_STL10_6.pth:\n",
      "NMI:0.3177238139838865\n",
      "CA:0.42177483974358976\n",
      "\n",
      "Run: 1\n",
      "SimCLR\\STL10\\pretrained_SimCLR_STL10_6.pth:\n",
      "NMI:0.31764723395797145\n",
      "CA:0.4215745192307692\n",
      "\n",
      "Run: 2\n",
      "SimCLR\\STL10\\pretrained_SimCLR_STL10_6.pth:\n",
      "NMI:0.32185580342552844\n",
      "CA:0.4215745192307692\n",
      "\n",
      "Run: 3\n",
      "SimCLR\\STL10\\pretrained_SimCLR_STL10_6.pth:\n",
      "NMI:0.3184591078150758\n",
      "CA:0.421474358974359\n",
      "\n",
      "Run: 4\n",
      "SimCLR\\STL10\\pretrained_SimCLR_STL10_6.pth:\n",
      "NMI:0.31686439122431725\n",
      "CA:0.4211738782051282\n",
      "\n",
      "Run: 5\n",
      "SimCLR\\STL10\\pretrained_SimCLR_STL10_6.pth:\n",
      "NMI:0.3169279606442523\n",
      "CA:0.4228766025641026\n",
      "\n",
      "Run: 6\n",
      "SimCLR\\STL10\\pretrained_SimCLR_STL10_6.pth:\n",
      "NMI:0.3177317469092377\n",
      "CA:0.4206730769230769\n",
      "\n",
      "Run: 7\n",
      "SimCLR\\STL10\\pretrained_SimCLR_STL10_6.pth:\n",
      "NMI:0.31987869976909655\n",
      "CA:0.42267628205128205\n",
      "\n",
      "Run: 8\n",
      "SimCLR\\STL10\\pretrained_SimCLR_STL10_6.pth:\n",
      "NMI:0.3189099874086771\n",
      "CA:0.4231770833333333\n",
      "\n",
      "Run: 9\n",
      "SimCLR\\STL10\\pretrained_SimCLR_STL10_6.pth:\n",
      "NMI:0.3137110753536059\n",
      "CA:0.41806891025641024\n",
      "\n",
      "SimCLR\\STL10\\pretrained_SimCLR_STL10_7.pth\n",
      "Run: 0\n",
      "SimCLR\\STL10\\pretrained_SimCLR_STL10_7.pth:\n",
      "NMI:0.32480576104979675\n",
      "CA:0.43930288461538464\n",
      "\n",
      "Run: 1\n",
      "SimCLR\\STL10\\pretrained_SimCLR_STL10_7.pth:\n",
      "NMI:0.32368133614909816\n",
      "CA:0.4417067307692308\n",
      "\n",
      "Run: 2\n",
      "SimCLR\\STL10\\pretrained_SimCLR_STL10_7.pth:\n",
      "NMI:0.33128700116446963\n",
      "CA:0.45252403846153844\n",
      "\n",
      "Run: 3\n",
      "SimCLR\\STL10\\pretrained_SimCLR_STL10_7.pth:\n",
      "NMI:0.32645126561167387\n",
      "CA:0.44641426282051283\n",
      "\n",
      "Run: 4\n",
      "SimCLR\\STL10\\pretrained_SimCLR_STL10_7.pth:\n",
      "NMI:0.31946383591445077\n",
      "CA:0.40775240384615385\n",
      "\n",
      "Run: 5\n",
      "SimCLR\\STL10\\pretrained_SimCLR_STL10_7.pth:\n",
      "NMI:0.32779660110393594\n",
      "CA:0.44861778846153844\n",
      "\n",
      "Run: 6\n",
      "SimCLR\\STL10\\pretrained_SimCLR_STL10_7.pth:\n",
      "NMI:0.32584580194083784\n",
      "CA:0.40154246794871795\n",
      "\n",
      "Run: 7\n",
      "SimCLR\\STL10\\pretrained_SimCLR_STL10_7.pth:\n",
      "NMI:0.32750335671563435\n",
      "CA:0.4456129807692308\n",
      "\n",
      "Run: 8\n",
      "SimCLR\\STL10\\pretrained_SimCLR_STL10_7.pth:\n",
      "NMI:0.3222227396152978\n",
      "CA:0.44981971153846156\n",
      "\n",
      "Run: 9\n",
      "SimCLR\\STL10\\pretrained_SimCLR_STL10_7.pth:\n",
      "NMI:0.3280498120088906\n",
      "CA:0.4495192307692308\n",
      "\n",
      "SimCLR\\STL10\\pretrained_SimCLR_STL10_8.pth\n"
     ]
    },
    {
     "name": "stdout",
     "output_type": "stream",
     "text": [
      "Run: 0\n",
      "SimCLR\\STL10\\pretrained_SimCLR_STL10_8.pth:\n",
      "NMI:0.3078016799568831\n",
      "CA:0.36889022435897434\n",
      "\n",
      "Run: 1\n",
      "SimCLR\\STL10\\pretrained_SimCLR_STL10_8.pth:\n",
      "NMI:0.30451119012303807\n",
      "CA:0.3759014423076923\n",
      "\n",
      "Run: 2\n",
      "SimCLR\\STL10\\pretrained_SimCLR_STL10_8.pth:\n",
      "NMI:0.30645449744366227\n",
      "CA:0.4130608974358974\n",
      "\n",
      "Run: 3\n",
      "SimCLR\\STL10\\pretrained_SimCLR_STL10_8.pth:\n",
      "NMI:0.30372132368227234\n",
      "CA:0.36889022435897434\n",
      "\n",
      "Run: 4\n",
      "SimCLR\\STL10\\pretrained_SimCLR_STL10_8.pth:\n",
      "NMI:0.3071798990859893\n",
      "CA:0.36568509615384615\n",
      "\n",
      "Run: 5\n",
      "SimCLR\\STL10\\pretrained_SimCLR_STL10_8.pth:\n",
      "NMI:0.3056697968536708\n",
      "CA:0.36047676282051283\n",
      "\n",
      "Run: 6\n",
      "SimCLR\\STL10\\pretrained_SimCLR_STL10_8.pth:\n",
      "NMI:0.31300577985800976\n",
      "CA:0.4193709935897436\n",
      "\n",
      "Run: 7\n",
      "SimCLR\\STL10\\pretrained_SimCLR_STL10_8.pth:\n",
      "NMI:0.30443797839362396\n",
      "CA:0.358974358974359\n",
      "\n",
      "Run: 8\n",
      "SimCLR\\STL10\\pretrained_SimCLR_STL10_8.pth:\n",
      "NMI:0.3110231860972469\n",
      "CA:0.41786858974358976\n",
      "\n",
      "Run: 9\n",
      "SimCLR\\STL10\\pretrained_SimCLR_STL10_8.pth:\n",
      "NMI:0.3078767920568552\n",
      "CA:0.39923878205128205\n",
      "\n",
      "SimCLR\\STL10\\pretrained_SimCLR_STL10_9.pth\n",
      "Run: 0\n",
      "SimCLR\\STL10\\pretrained_SimCLR_STL10_9.pth:\n",
      "NMI:0.3284098218856451\n",
      "CA:0.4052483974358974\n",
      "\n",
      "Run: 1\n",
      "SimCLR\\STL10\\pretrained_SimCLR_STL10_9.pth:\n",
      "NMI:0.32569419653303766\n",
      "CA:0.4009415064102564\n",
      "\n",
      "Run: 2\n",
      "SimCLR\\STL10\\pretrained_SimCLR_STL10_9.pth:\n",
      "NMI:0.32820906664706845\n",
      "CA:0.4030448717948718\n",
      "\n",
      "Run: 3\n",
      "SimCLR\\STL10\\pretrained_SimCLR_STL10_9.pth:\n",
      "NMI:0.31501738058337236\n",
      "CA:0.39042467948717946\n",
      "\n",
      "Run: 4\n",
      "SimCLR\\STL10\\pretrained_SimCLR_STL10_9.pth:\n",
      "NMI:0.32895269817328954\n",
      "CA:0.4059495192307692\n",
      "\n",
      "Run: 5\n",
      "SimCLR\\STL10\\pretrained_SimCLR_STL10_9.pth:\n",
      "NMI:0.32471869902958145\n",
      "CA:0.40224358974358976\n",
      "\n",
      "Run: 6\n",
      "SimCLR\\STL10\\pretrained_SimCLR_STL10_9.pth:\n",
      "NMI:0.32138381766694507\n",
      "CA:0.41716746794871795\n",
      "\n",
      "Run: 7\n",
      "SimCLR\\STL10\\pretrained_SimCLR_STL10_9.pth:\n",
      "NMI:0.3263403367212629\n",
      "CA:0.3991386217948718\n",
      "\n",
      "Run: 8\n",
      "SimCLR\\STL10\\pretrained_SimCLR_STL10_9.pth:\n",
      "NMI:0.3169890033197629\n",
      "CA:0.39042467948717946\n",
      "\n",
      "Run: 9\n",
      "SimCLR\\STL10\\pretrained_SimCLR_STL10_9.pth:\n",
      "NMI:0.3128667469340598\n",
      "CA:0.40845352564102566\n",
      "\n"
     ]
    }
   ],
   "source": [
    "simclr_nmis_stl10, simclr_cas_stl10 = get_nmis_and_cas_10_runs('SimCLR\\STL10\\pretrained_SimCLR_STL10', colors_classes, device)"
   ]
  },
  {
   "cell_type": "code",
   "execution_count": 24,
   "id": "pressed-norfolk",
   "metadata": {},
   "outputs": [],
   "source": [
    "df_simclr_nmis_stl10 = pd.DataFrame(simclr_nmis_stl10)\n",
    "df_simclr_cas_stl0 = pd.DataFrame(simclr_cas_stl10)"
   ]
  },
  {
   "cell_type": "code",
   "execution_count": 25,
   "id": "contrary-singer",
   "metadata": {},
   "outputs": [],
   "source": [
    "df_simclr_nmis_stl10.to_csv(path_nmis)\n",
    "df_simclr_cas_stl0.to_csv(path_cas)"
   ]
  },
  {
   "cell_type": "code",
   "execution_count": 26,
   "id": "mature-swift",
   "metadata": {},
   "outputs": [],
   "source": [
    "df_simclr_nmis_stl10 = pd.read_csv(path_nmis, index_col=0)\n",
    "df_simclr_cas_stl0 = pd.read_csv(path_cas, index_col=0)"
   ]
  },
  {
   "cell_type": "code",
   "execution_count": 27,
   "id": "comic-criterion",
   "metadata": {},
   "outputs": [
    {
     "name": "stdout",
     "output_type": "stream",
     "text": [
      "NMI mean: 0.3215\n",
      "NMI variance: 0.0011\n"
     ]
    }
   ],
   "source": [
    "print_total_mean_and_var('NMI', df_simclr_nmis_stl10)"
   ]
  },
  {
   "cell_type": "code",
   "execution_count": 28,
   "id": "peaceful-password",
   "metadata": {},
   "outputs": [
    {
     "name": "stdout",
     "output_type": "stream",
     "text": [
      "Cluser accuracy mean: 0.4231\n",
      "Cluser accuracy variance: 0.0067\n"
     ]
    }
   ],
   "source": [
    "print_total_mean_and_var('Cluser accuracy', df_simclr_cas_stl0)"
   ]
  },
  {
   "cell_type": "markdown",
   "id": "preliminary-given",
   "metadata": {},
   "source": [
    "### STL10: IDEC"
   ]
  },
  {
   "cell_type": "code",
   "execution_count": 29,
   "id": "unusual-germany",
   "metadata": {},
   "outputs": [],
   "source": [
    "path_nmis_dec = 'trained_models/SimCLR/STL10/nmis_idec.csv'\n",
    "path_cas_dec = 'trained_models/SimCLR/STL10/cas_idec.csv'"
   ]
  },
  {
   "cell_type": "markdown",
   "id": "heavy-deadline",
   "metadata": {},
   "source": [
    "Uncomment this part to generate new NMI and cluster accuracies"
   ]
  },
  {
   "cell_type": "code",
   "execution_count": 30,
   "id": "educational-penetration",
   "metadata": {},
   "outputs": [
    {
     "name": "stdout",
     "output_type": "stream",
     "text": [
      "SimCLR\\STL10\\IDEC_SimCLR_STL10_0.pth\n"
     ]
    },
    {
     "name": "stderr",
     "output_type": "stream",
     "text": [
      "D:\\everything\\Studium\\WS2020\\Bachelor\\dcl_b\\models\\dec\\DEC.py:11: UserWarning: To copy construct from a tensor, it is recommended to use sourceTensor.clone().detach() or sourceTensor.clone().detach().requires_grad_(True), rather than torch.tensor(sourceTensor).\n",
      "  self.centers = torch.nn.Parameter(torch.tensor(init_np_centers), requires_grad=True)\n"
     ]
    },
    {
     "ename": "FileNotFoundError",
     "evalue": "[Errno 2] No such file or directory: 'trained_models/SimCLR\\\\STL10\\\\IDEC_SimCLR_STL10_0.pth'",
     "output_type": "error",
     "traceback": [
      "\u001b[1;31m---------------------------------------------------------------------------\u001b[0m",
      "\u001b[1;31mFileNotFoundError\u001b[0m                         Traceback (most recent call last)",
      "\u001b[1;32m<ipython-input-30-a17aa60c9f94>\u001b[0m in \u001b[0;36m<module>\u001b[1;34m\u001b[0m\n\u001b[1;32m----> 1\u001b[1;33m \u001b[0msimclr_nmis_stl10_idec\u001b[0m\u001b[1;33m,\u001b[0m \u001b[0msimclr_cas_stl10_idec\u001b[0m \u001b[1;33m=\u001b[0m \u001b[0mget_nmis_and_cas_10_runs\u001b[0m\u001b[1;33m(\u001b[0m\u001b[1;34m'SimCLR\\STL10\\IDEC_SimCLR_STL10'\u001b[0m\u001b[1;33m,\u001b[0m \u001b[0mcolors_classes\u001b[0m\u001b[1;33m,\u001b[0m \u001b[0mdevice\u001b[0m\u001b[1;33m)\u001b[0m\u001b[1;33m\u001b[0m\u001b[1;33m\u001b[0m\u001b[0m\n\u001b[0m",
      "\u001b[1;32m<ipython-input-14-d96e8113cf21>\u001b[0m in \u001b[0;36mget_nmis_and_cas_10_runs\u001b[1;34m(model_name, colors_classes, device)\u001b[0m\n\u001b[0;32m      7\u001b[0m         \u001b[0mprint\u001b[0m\u001b[1;33m(\u001b[0m\u001b[0mname\u001b[0m\u001b[1;33m)\u001b[0m\u001b[1;33m\u001b[0m\u001b[1;33m\u001b[0m\u001b[0m\n\u001b[0;32m      8\u001b[0m \u001b[1;33m\u001b[0m\u001b[0m\n\u001b[1;32m----> 9\u001b[1;33m         \u001b[0mmodel\u001b[0m \u001b[1;33m=\u001b[0m \u001b[0mload_model\u001b[0m\u001b[1;33m(\u001b[0m\u001b[0mname\u001b[0m\u001b[1;33m,\u001b[0m \u001b[0mdevice\u001b[0m\u001b[1;33m,\u001b[0m \u001b[0mtorch\u001b[0m\u001b[1;33m.\u001b[0m\u001b[0mrand\u001b[0m\u001b[1;33m(\u001b[0m\u001b[0msize\u001b[0m\u001b[1;33m=\u001b[0m\u001b[1;33m(\u001b[0m\u001b[1;36m4\u001b[0m\u001b[1;33m,\u001b[0m \u001b[1;36m12288\u001b[0m\u001b[1;33m)\u001b[0m\u001b[1;33m)\u001b[0m\u001b[1;33m)\u001b[0m\u001b[1;33m\u001b[0m\u001b[1;33m\u001b[0m\u001b[0m\n\u001b[0m\u001b[0;32m     10\u001b[0m         \u001b[0mnmis\u001b[0m\u001b[1;33m[\u001b[0m\u001b[0mi\u001b[0m\u001b[1;33m]\u001b[0m \u001b[1;33m=\u001b[0m \u001b[1;33m[\u001b[0m\u001b[1;33m]\u001b[0m\u001b[1;33m\u001b[0m\u001b[1;33m\u001b[0m\u001b[0m\n\u001b[0;32m     11\u001b[0m         \u001b[0mcas\u001b[0m\u001b[1;33m[\u001b[0m\u001b[0mi\u001b[0m\u001b[1;33m]\u001b[0m \u001b[1;33m=\u001b[0m \u001b[1;33m[\u001b[0m\u001b[1;33m]\u001b[0m\u001b[1;33m\u001b[0m\u001b[1;33m\u001b[0m\u001b[0m\n",
      "\u001b[1;32mD:\\everything\\Studium\\WS2020\\Bachelor\\dcl_b\\util\\util.py\u001b[0m in \u001b[0;36mload_model\u001b[1;34m(name, device, cluster_centres)\u001b[0m\n\u001b[0;32m    119\u001b[0m                 \u001b[0mmodel\u001b[0m \u001b[1;33m=\u001b[0m \u001b[0mSimClrIDEC\u001b[0m\u001b[1;33m(\u001b[0m\u001b[1;33m)\u001b[0m\u001b[1;33m\u001b[0m\u001b[1;33m\u001b[0m\u001b[0m\n\u001b[0;32m    120\u001b[0m \u001b[1;33m\u001b[0m\u001b[0m\n\u001b[1;32m--> 121\u001b[1;33m     \u001b[0mstate_dict\u001b[0m \u001b[1;33m=\u001b[0m \u001b[0mtorch\u001b[0m\u001b[1;33m.\u001b[0m\u001b[0mload\u001b[0m\u001b[1;33m(\u001b[0m\u001b[1;34mf'trained_models/{name}'\u001b[0m\u001b[1;33m,\u001b[0m \u001b[0mmap_location\u001b[0m\u001b[1;33m=\u001b[0m\u001b[0mdevice\u001b[0m\u001b[1;33m)\u001b[0m\u001b[1;33m\u001b[0m\u001b[1;33m\u001b[0m\u001b[0m\n\u001b[0m\u001b[0;32m    122\u001b[0m     \u001b[0mmodel\u001b[0m\u001b[1;33m.\u001b[0m\u001b[0mload_state_dict\u001b[0m\u001b[1;33m(\u001b[0m\u001b[0mstate_dict\u001b[0m\u001b[1;33m)\u001b[0m\u001b[1;33m\u001b[0m\u001b[1;33m\u001b[0m\u001b[0m\n\u001b[0;32m    123\u001b[0m     \u001b[0mmodel\u001b[0m\u001b[1;33m.\u001b[0m\u001b[0mto\u001b[0m\u001b[1;33m(\u001b[0m\u001b[0mdevice\u001b[0m\u001b[1;33m)\u001b[0m\u001b[1;33m\u001b[0m\u001b[1;33m\u001b[0m\u001b[0m\n",
      "\u001b[1;32mc:\\users\\alina\\appdata\\local\\programs\\python\\python39\\lib\\site-packages\\torch\\serialization.py\u001b[0m in \u001b[0;36mload\u001b[1;34m(f, map_location, pickle_module, **pickle_load_args)\u001b[0m\n\u001b[0;32m    577\u001b[0m         \u001b[0mpickle_load_args\u001b[0m\u001b[1;33m[\u001b[0m\u001b[1;34m'encoding'\u001b[0m\u001b[1;33m]\u001b[0m \u001b[1;33m=\u001b[0m \u001b[1;34m'utf-8'\u001b[0m\u001b[1;33m\u001b[0m\u001b[1;33m\u001b[0m\u001b[0m\n\u001b[0;32m    578\u001b[0m \u001b[1;33m\u001b[0m\u001b[0m\n\u001b[1;32m--> 579\u001b[1;33m     \u001b[1;32mwith\u001b[0m \u001b[0m_open_file_like\u001b[0m\u001b[1;33m(\u001b[0m\u001b[0mf\u001b[0m\u001b[1;33m,\u001b[0m \u001b[1;34m'rb'\u001b[0m\u001b[1;33m)\u001b[0m \u001b[1;32mas\u001b[0m \u001b[0mopened_file\u001b[0m\u001b[1;33m:\u001b[0m\u001b[1;33m\u001b[0m\u001b[1;33m\u001b[0m\u001b[0m\n\u001b[0m\u001b[0;32m    580\u001b[0m         \u001b[1;32mif\u001b[0m \u001b[0m_is_zipfile\u001b[0m\u001b[1;33m(\u001b[0m\u001b[0mopened_file\u001b[0m\u001b[1;33m)\u001b[0m\u001b[1;33m:\u001b[0m\u001b[1;33m\u001b[0m\u001b[1;33m\u001b[0m\u001b[0m\n\u001b[0;32m    581\u001b[0m             \u001b[1;31m# The zipfile reader is going to advance the current file position.\u001b[0m\u001b[1;33m\u001b[0m\u001b[1;33m\u001b[0m\u001b[1;33m\u001b[0m\u001b[0m\n",
      "\u001b[1;32mc:\\users\\alina\\appdata\\local\\programs\\python\\python39\\lib\\site-packages\\torch\\serialization.py\u001b[0m in \u001b[0;36m_open_file_like\u001b[1;34m(name_or_buffer, mode)\u001b[0m\n\u001b[0;32m    228\u001b[0m \u001b[1;32mdef\u001b[0m \u001b[0m_open_file_like\u001b[0m\u001b[1;33m(\u001b[0m\u001b[0mname_or_buffer\u001b[0m\u001b[1;33m,\u001b[0m \u001b[0mmode\u001b[0m\u001b[1;33m)\u001b[0m\u001b[1;33m:\u001b[0m\u001b[1;33m\u001b[0m\u001b[1;33m\u001b[0m\u001b[0m\n\u001b[0;32m    229\u001b[0m     \u001b[1;32mif\u001b[0m \u001b[0m_is_path\u001b[0m\u001b[1;33m(\u001b[0m\u001b[0mname_or_buffer\u001b[0m\u001b[1;33m)\u001b[0m\u001b[1;33m:\u001b[0m\u001b[1;33m\u001b[0m\u001b[1;33m\u001b[0m\u001b[0m\n\u001b[1;32m--> 230\u001b[1;33m         \u001b[1;32mreturn\u001b[0m \u001b[0m_open_file\u001b[0m\u001b[1;33m(\u001b[0m\u001b[0mname_or_buffer\u001b[0m\u001b[1;33m,\u001b[0m \u001b[0mmode\u001b[0m\u001b[1;33m)\u001b[0m\u001b[1;33m\u001b[0m\u001b[1;33m\u001b[0m\u001b[0m\n\u001b[0m\u001b[0;32m    231\u001b[0m     \u001b[1;32melse\u001b[0m\u001b[1;33m:\u001b[0m\u001b[1;33m\u001b[0m\u001b[1;33m\u001b[0m\u001b[0m\n\u001b[0;32m    232\u001b[0m         \u001b[1;32mif\u001b[0m \u001b[1;34m'w'\u001b[0m \u001b[1;32min\u001b[0m \u001b[0mmode\u001b[0m\u001b[1;33m:\u001b[0m\u001b[1;33m\u001b[0m\u001b[1;33m\u001b[0m\u001b[0m\n",
      "\u001b[1;32mc:\\users\\alina\\appdata\\local\\programs\\python\\python39\\lib\\site-packages\\torch\\serialization.py\u001b[0m in \u001b[0;36m__init__\u001b[1;34m(self, name, mode)\u001b[0m\n\u001b[0;32m    209\u001b[0m \u001b[1;32mclass\u001b[0m \u001b[0m_open_file\u001b[0m\u001b[1;33m(\u001b[0m\u001b[0m_opener\u001b[0m\u001b[1;33m)\u001b[0m\u001b[1;33m:\u001b[0m\u001b[1;33m\u001b[0m\u001b[1;33m\u001b[0m\u001b[0m\n\u001b[0;32m    210\u001b[0m     \u001b[1;32mdef\u001b[0m \u001b[0m__init__\u001b[0m\u001b[1;33m(\u001b[0m\u001b[0mself\u001b[0m\u001b[1;33m,\u001b[0m \u001b[0mname\u001b[0m\u001b[1;33m,\u001b[0m \u001b[0mmode\u001b[0m\u001b[1;33m)\u001b[0m\u001b[1;33m:\u001b[0m\u001b[1;33m\u001b[0m\u001b[1;33m\u001b[0m\u001b[0m\n\u001b[1;32m--> 211\u001b[1;33m         \u001b[0msuper\u001b[0m\u001b[1;33m(\u001b[0m\u001b[0m_open_file\u001b[0m\u001b[1;33m,\u001b[0m \u001b[0mself\u001b[0m\u001b[1;33m)\u001b[0m\u001b[1;33m.\u001b[0m\u001b[0m__init__\u001b[0m\u001b[1;33m(\u001b[0m\u001b[0mopen\u001b[0m\u001b[1;33m(\u001b[0m\u001b[0mname\u001b[0m\u001b[1;33m,\u001b[0m \u001b[0mmode\u001b[0m\u001b[1;33m)\u001b[0m\u001b[1;33m)\u001b[0m\u001b[1;33m\u001b[0m\u001b[1;33m\u001b[0m\u001b[0m\n\u001b[0m\u001b[0;32m    212\u001b[0m \u001b[1;33m\u001b[0m\u001b[0m\n\u001b[0;32m    213\u001b[0m     \u001b[1;32mdef\u001b[0m \u001b[0m__exit__\u001b[0m\u001b[1;33m(\u001b[0m\u001b[0mself\u001b[0m\u001b[1;33m,\u001b[0m \u001b[1;33m*\u001b[0m\u001b[0margs\u001b[0m\u001b[1;33m)\u001b[0m\u001b[1;33m:\u001b[0m\u001b[1;33m\u001b[0m\u001b[1;33m\u001b[0m\u001b[0m\n",
      "\u001b[1;31mFileNotFoundError\u001b[0m: [Errno 2] No such file or directory: 'trained_models/SimCLR\\\\STL10\\\\IDEC_SimCLR_STL10_0.pth'"
     ]
    }
   ],
   "source": [
    "simclr_nmis_stl10_idec, simclr_cas_stl10_idec = get_nmis_and_cas_10_runs('SimCLR\\STL10\\IDEC_SimCLR_STL10', colors_classes, device)"
   ]
  },
  {
   "cell_type": "code",
   "execution_count": null,
   "id": "pressed-reservation",
   "metadata": {},
   "outputs": [],
   "source": [
    "df_simclr_nmis_stl10_idec = pd.DataFrame(simclr_nmis_stl10_idec)\n",
    "df_simclr_cas_stl10_idec = pd.DataFrame(simclr_cas_stl10_idec)"
   ]
  },
  {
   "cell_type": "code",
   "execution_count": null,
   "id": "short-appearance",
   "metadata": {},
   "outputs": [],
   "source": [
    "df_simclr_nmis_stl10_idec.to_csv(path_nmis)\n",
    "df_simclr_cas_stl10_idec.to_csv(path_cas)"
   ]
  },
  {
   "cell_type": "code",
   "execution_count": null,
   "id": "satisfactory-stations",
   "metadata": {},
   "outputs": [],
   "source": [
    "df_simclr_nmis_stl10_idec = pd.read_csv(path_nmis, index_col=0)\n",
    "df_simclr_cas_stl10_idec = pd.read_csv(path_cas, index_col=0)"
   ]
  },
  {
   "cell_type": "code",
   "execution_count": null,
   "id": "arabic-silver",
   "metadata": {},
   "outputs": [],
   "source": [
    "print_total_mean_and_var('NMI', df_simclr_nmis_stl10_idec)"
   ]
  },
  {
   "cell_type": "code",
   "execution_count": null,
   "id": "infinite-certificate",
   "metadata": {},
   "outputs": [],
   "source": [
    "print_total_mean_and_var('Cluser accuracy', df_simclr_cas_stl10_idec)"
   ]
  },
  {
   "cell_type": "code",
   "execution_count": null,
   "id": "suffering-trick",
   "metadata": {},
   "outputs": [],
   "source": []
  }
 ],
 "metadata": {
  "kernelspec": {
   "display_name": "Python 3",
   "language": "python",
   "name": "python3"
  },
  "language_info": {
   "codemirror_mode": {
    "name": "ipython",
    "version": 3
   },
   "file_extension": ".py",
   "mimetype": "text/x-python",
   "name": "python",
   "nbconvert_exporter": "python",
   "pygments_lexer": "ipython3",
   "version": "3.9.1"
  }
 },
 "nbformat": 4,
 "nbformat_minor": 5
}
