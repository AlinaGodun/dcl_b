{
 "cells": [
  {
   "cell_type": "code",
   "execution_count": 9,
   "id": "corporate-sherman",
   "metadata": {
    "scrolled": false
   },
   "outputs": [
    {
     "name": "stdout",
     "output_type": "stream",
     "text": [
      "The autoreload extension is already loaded. To reload it, use:\n",
      "  %reload_ext autoreload\n"
     ]
    }
   ],
   "source": [
    "# Importing all necessary libraries\n",
    "%load_ext autoreload\n",
    "%autoreload 2\n",
    "\n",
    "# internal packages\n",
    "import os\n",
    "from collections import Counter, OrderedDict\n",
    "\n",
    "# external packages\n",
    "import torch\n",
    "import torchvision\n",
    "import numpy as np\n",
    "import sklearn\n",
    "from sklearn.cluster import KMeans\n",
    "from sklearn.metrics import normalized_mutual_info_score, confusion_matrix\n",
    "from sklearn.decomposition import PCA\n",
    "import matplotlib\n",
    "from matplotlib import pyplot as plt\n",
    "import seaborn as sns\n",
    "import pandas as pd\n",
    "\n",
    "# util functions\n",
    "from util.util import *\n",
    "\n",
    "# dataset functions\n",
    "from dataset import load_util\n",
    "\n",
    "# autoencoder\n",
    "from models.autoencoder.conv_ae import ConvAE\n",
    "from models.simclr.simclr import *\n",
    "from models.simclr.transforms import *\n",
    "from models.rotnet.rotnet import *\n",
    "from models.rotnet.IDEC import *\n",
    "from models.rotnet.custom_stl10 import *\n",
    "from cluster_accuracy import cluster_accuracy\n",
    "from models.simclr.custom_stl10 import SimCLRSTL10"
   ]
  },
  {
   "cell_type": "code",
   "execution_count": 2,
   "id": "palestinian-harris",
   "metadata": {},
   "outputs": [
    {
     "data": {
      "application/javascript": [
       "IPython.OutputArea.prototype._should_scroll = function(lines) {\n",
       "    return false;\n",
       "}\n"
      ],
      "text/plain": [
       "<IPython.core.display.Javascript object>"
      ]
     },
     "metadata": {},
     "output_type": "display_data"
    }
   ],
   "source": [
    "%%javascript\n",
    "IPython.OutputArea.prototype._should_scroll = function(lines) {\n",
    "    return false;\n",
    "}"
   ]
  },
  {
   "cell_type": "code",
   "execution_count": 3,
   "id": "conceptual-stretch",
   "metadata": {
    "scrolled": true
   },
   "outputs": [
    {
     "name": "stdout",
     "output_type": "stream",
     "text": [
      "Versions:\n",
      "torch: 1.8.1+cu111\n",
      "torchvision: 0.9.1+cu111\n",
      "numpy: 1.19.5\n",
      "scikit-learn: 0.24.1\n",
      "Using device:  cuda\n"
     ]
    }
   ],
   "source": [
    "print(\"Versions:\")\n",
    "print(f\"torch: {torch.__version__}\")\n",
    "print(f\"torchvision: {torchvision.__version__}\")\n",
    "print(f\"numpy: {np.__version__}\",)\n",
    "print(f\"scikit-learn: {sklearn.__version__}\")\n",
    "\n",
    "device = detect_device()\n",
    "print(\"Using device: \", device)"
   ]
  },
  {
   "cell_type": "markdown",
   "id": "continuous-spice",
   "metadata": {},
   "source": [
    "## Preparation"
   ]
  },
  {
   "cell_type": "code",
   "execution_count": 4,
   "id": "sonic-operation",
   "metadata": {
    "scrolled": true
   },
   "outputs": [],
   "source": [
    "# specify learning params\n",
    "batch_size = 128\n",
    "learning_rate = 0.1\n",
    "epochs = 100\n",
    "\n",
    "# training\n",
    "\n",
    "train = True"
   ]
  },
  {
   "cell_type": "code",
   "execution_count": 18,
   "id": "industrial-accordance",
   "metadata": {
    "scrolled": true
   },
   "outputs": [],
   "source": [
    "cifar_test_data = load_util.load_custom_cifar('./data', download=False, train=False, data_percent=1.0, for_model='SimCLR', transforms=False)\n",
    "cifar_testloader = torch.utils.data.DataLoader(test_data,\n",
    "                                          batch_size=128,\n",
    "                                          shuffle=True,\n",
    "                                          drop_last=True)"
   ]
  },
  {
   "cell_type": "code",
   "execution_count": 19,
   "id": "manufactured-sleep",
   "metadata": {
    "scrolled": true
   },
   "outputs": [],
   "source": [
    "cifar_colors_classes = {i: color_class for i, color_class in zip(range(len(test_data.classes)), test_data.classes)}"
   ]
  },
  {
   "cell_type": "code",
   "execution_count": 29,
   "id": "corporate-squad",
   "metadata": {},
   "outputs": [],
   "source": [
    "stl10_test_data = SimCLRSTL10(data_percent=1.0, train=False)\n",
    "stl10_testloader = torch.utils.data.DataLoader(stl10_test_data,\n",
    "                                         batch_size=128,\n",
    "                                         shuffle=True,\n",
    "                                         drop_last=True)"
   ]
  },
  {
   "cell_type": "code",
   "execution_count": 12,
   "id": "functional-annual",
   "metadata": {},
   "outputs": [],
   "source": [
    "stl10_colors_classes = {i: color_class for i, color_class in zip(range(len(stl10_test_data.classes)), stl10_test_data.classes)}"
   ]
  },
  {
   "cell_type": "code",
   "execution_count": 31,
   "id": "theoretical-manufacturer",
   "metadata": {},
   "outputs": [],
   "source": [
    "def get_nmis_and_cas_10_runs(model_name, colors_classes, device, dataset='CIFAR'):\n",
    "    nmis = {}\n",
    "    cas = {}\n",
    "    \n",
    "    testloader = cifar_testloader if 'CIFAR' in dataset else stl10_testloader\n",
    "\n",
    "    for i in range(10):\n",
    "        name = f'{model_name}_{i}.pth'\n",
    "        print(name)\n",
    "        \n",
    "        model = load_model(name, device, torch.rand(size=(4, 12288)))\n",
    "        nmis[i] = []\n",
    "        cas[i] = []\n",
    "\n",
    "        for k in range(10):\n",
    "            labels, kmeans, nmi, _, _ = compute_nmi_and_pca(model, name, colors_classes, device, testloader)\n",
    "            nmis[i].append(nmi)\n",
    "\n",
    "            ca = cluster_accuracy(labels, kmeans.labels_)\n",
    "            cas[i].append(ca)\n",
    "            print(f'Run: {k}\\n{name}:\\nNMI:{nmi}\\nCA:{ca}\\n')\n",
    "            del labels\n",
    "            del kmeans\n",
    "    return nmis, cas"
   ]
  },
  {
   "cell_type": "code",
   "execution_count": 8,
   "id": "liquid-output",
   "metadata": {},
   "outputs": [],
   "source": [
    "def print_total_mean_and_var(metrics_name, df):\n",
    "    models_means = df.mean()\n",
    "    models_stds = df.std()\n",
    "\n",
    "    total_mean = models_means.mean()\n",
    "    total_std = models_stds.std()\n",
    "    \n",
    "    print(f'{metrics_name} mean: {total_mean:.4f}')\n",
    "    print(f'{metrics_name} variance: {total_std:.4f}')"
   ]
  },
  {
   "cell_type": "markdown",
   "id": "ignored-migration",
   "metadata": {},
   "source": [
    "## RotNet"
   ]
  },
  {
   "cell_type": "markdown",
   "id": "united-programmer",
   "metadata": {},
   "source": [
    "### CIFAR : Pretraining"
   ]
  },
  {
   "cell_type": "code",
   "execution_count": 110,
   "id": "massive-olive",
   "metadata": {},
   "outputs": [],
   "source": [
    "path_nmis = 'trained_models/RotNet/CIFAR/nmis.csv'\n",
    "path_cas = 'trained_models/RotNet/CIFAR/cas.csv'"
   ]
  },
  {
   "cell_type": "markdown",
   "id": "secondary-proposition",
   "metadata": {},
   "source": [
    "Uncomment this part to generate new NMI and cluster accuracies"
   ]
  },
  {
   "cell_type": "code",
   "execution_count": null,
   "id": "central-mapping",
   "metadata": {},
   "outputs": [],
   "source": [
    "# rotnet_nmis_cifar, rotnet_cas_cifar = get_nmis_and_cas_10_runs('RotNet\\CIFAR\\pretrained_RotNet', colors_classes, device)"
   ]
  },
  {
   "cell_type": "code",
   "execution_count": null,
   "id": "white-right",
   "metadata": {},
   "outputs": [],
   "source": [
    "# df_rotnet_nmis_cifar = pd.DataFrame(rotnet_nmis_cifar)\n",
    "# df_rotnet_cas_cifar = pd.DataFrame(rotnet_cas_cifar)"
   ]
  },
  {
   "cell_type": "code",
   "execution_count": 74,
   "id": "finished-mercy",
   "metadata": {},
   "outputs": [],
   "source": [
    "# df_rotnet_nmis_cifar.to_csv(path_nmis)\n",
    "# df_rotnet_cas_cifar.to_csv(path_cas)"
   ]
  },
  {
   "cell_type": "markdown",
   "id": "turkish-boring",
   "metadata": {},
   "source": [
    "This code loads existing dataframes from specified paths"
   ]
  },
  {
   "cell_type": "code",
   "execution_count": 111,
   "id": "streaming-cylinder",
   "metadata": {},
   "outputs": [],
   "source": [
    "df_rotnet_nmis_cifar = pd.read_csv(path_nmis, index_col=0)\n",
    "df_rotnet_cas_cifar = pd.read_csv(path_cas, index_col=0)"
   ]
  },
  {
   "cell_type": "code",
   "execution_count": 112,
   "id": "mysterious-aerospace",
   "metadata": {},
   "outputs": [
    {
     "name": "stdout",
     "output_type": "stream",
     "text": [
      "NMI mean: 0.3506\n",
      "NMI variance: 0.0017\n"
     ]
    }
   ],
   "source": [
    "print_total_mean_and_var('NMI', df_rotnet_nmis_cifar)"
   ]
  },
  {
   "cell_type": "code",
   "execution_count": 113,
   "id": "spiritual-groove",
   "metadata": {},
   "outputs": [
    {
     "name": "stdout",
     "output_type": "stream",
     "text": [
      "Cluser accuracy mean: 0.4357\n",
      "Cluser accuracy variance: 0.0051\n"
     ]
    }
   ],
   "source": [
    "print_total_mean_and_var('Cluser accuracy', df_rotnet_cas_cifar)"
   ]
  },
  {
   "cell_type": "markdown",
   "id": "affected-electric",
   "metadata": {},
   "source": [
    "### CIFAR: DEC"
   ]
  },
  {
   "cell_type": "code",
   "execution_count": 114,
   "id": "shared-disability",
   "metadata": {},
   "outputs": [],
   "source": [
    "path_nmis = 'trained_models/RotNet/CIFAR/nmis_dec.csv'\n",
    "path_cas = 'trained_models/RotNet/CIFAR/cas_dec.csv'"
   ]
  },
  {
   "cell_type": "markdown",
   "id": "alpha-assessment",
   "metadata": {},
   "source": [
    "Uncomment this part to generate new NMI and cluster accuracies"
   ]
  },
  {
   "cell_type": "code",
   "execution_count": null,
   "id": "reliable-definition",
   "metadata": {},
   "outputs": [],
   "source": [
    "# rotnet_nmis_cifar_dec, rotnet_cas_cifar_dec = get_nmis_and_cas_10_runs('RotNet\\CIFAR\\DEC_RotNet', colors_classes, device)"
   ]
  },
  {
   "cell_type": "code",
   "execution_count": null,
   "id": "tutorial-diagnosis",
   "metadata": {},
   "outputs": [],
   "source": [
    "# df_rotnet_nmis_cifar_dec = pd.DataFrame(rotnet_nmis_cifar_dec)\n",
    "# df_rotnet_cas_cifar_dec = pd.DataFrame(rotnet_cas_cifar_dec)"
   ]
  },
  {
   "cell_type": "code",
   "execution_count": 105,
   "id": "interested-assurance",
   "metadata": {},
   "outputs": [],
   "source": [
    "# df_rotnet_nmis_cifar_dec.to_csv(path_nmis)\n",
    "# df_rotnet_cas_cifar_dec.to_csv(path_cas)"
   ]
  },
  {
   "cell_type": "markdown",
   "id": "premium-basement",
   "metadata": {},
   "source": [
    "This code loads existing dataframes from specified paths"
   ]
  },
  {
   "cell_type": "code",
   "execution_count": 115,
   "id": "worst-cardiff",
   "metadata": {},
   "outputs": [],
   "source": [
    "df_rotnet_nmis_cifar_dec = pd.read_csv(path_nmis, index_col=0)\n",
    "df_rotnet_cas_cifar_dec = pd.read_csv(path_cas, index_col=0)"
   ]
  },
  {
   "cell_type": "code",
   "execution_count": 117,
   "id": "wrong-healing",
   "metadata": {},
   "outputs": [
    {
     "name": "stdout",
     "output_type": "stream",
     "text": [
      "NMI mean: 0.1042\n",
      "NMI variance: 0.0001\n"
     ]
    }
   ],
   "source": [
    "print_total_mean_and_var('NMI', df_rotnet_nmis_cifar_dec)"
   ]
  },
  {
   "cell_type": "code",
   "execution_count": 118,
   "id": "political-spanking",
   "metadata": {},
   "outputs": [
    {
     "name": "stdout",
     "output_type": "stream",
     "text": [
      "Cluser accuracy mean: 0.2065\n",
      "Cluser accuracy variance: 0.0002\n"
     ]
    }
   ],
   "source": [
    "print_total_mean_and_var('Cluser accuracy', df_rotnet_cas_cifar_dec)"
   ]
  },
  {
   "cell_type": "markdown",
   "id": "abandoned-education",
   "metadata": {},
   "source": [
    "### STL10: Pretraining"
   ]
  },
  {
   "cell_type": "code",
   "execution_count": 14,
   "id": "danish-vancouver",
   "metadata": {},
   "outputs": [],
   "source": [
    "path_nmis = 'trained_models/RotNet/STL10/nmis.csv'\n",
    "path_cas = 'trained_models/RotNet/STL10/cas.csv'"
   ]
  },
  {
   "cell_type": "markdown",
   "id": "signal-hanging",
   "metadata": {},
   "source": [
    "Uncomment this part to generate new NMI and cluster accuracies"
   ]
  },
  {
   "cell_type": "code",
   "execution_count": null,
   "id": "matched-shape",
   "metadata": {},
   "outputs": [],
   "source": [
    "rotnet_nmis_stl10, rotnet_cas_stl10 = get_nmis_and_cas_10_runs('RotNet\\STL10\\pretrained_RotNet_STL10', stl10_colors_classes, device, dataset='STL10')"
   ]
  },
  {
   "cell_type": "code",
   "execution_count": 33,
   "id": "postal-intensity",
   "metadata": {},
   "outputs": [],
   "source": [
    "df_rotnet_nmis_stl10 = pd.DataFrame(rotnet_nmis_stl10)\n",
    "df_rotnet_cas_stl10 = pd.DataFrame(rotnet_cas_stl10)"
   ]
  },
  {
   "cell_type": "code",
   "execution_count": 34,
   "id": "exclusive-riverside",
   "metadata": {},
   "outputs": [],
   "source": [
    "df_rotnet_nmis_stl10.to_csv(path_nmis)\n",
    "df_rotnet_cas_stl10.to_csv(path_cas)"
   ]
  },
  {
   "cell_type": "code",
   "execution_count": 35,
   "id": "brief-terry",
   "metadata": {},
   "outputs": [],
   "source": [
    "df_rotnet_nmis_stl10 = pd.read_csv(path_nmis, index_col=0)\n",
    "df_rotnet_cas_stl10 = pd.read_csv(path_cas, index_col=0)"
   ]
  },
  {
   "cell_type": "code",
   "execution_count": 36,
   "id": "wanted-consortium",
   "metadata": {},
   "outputs": [
    {
     "name": "stdout",
     "output_type": "stream",
     "text": [
      "NMI mean: 0.3357\n",
      "NMI variance: 0.0032\n"
     ]
    }
   ],
   "source": [
    "print_total_mean_and_var('NMI', df_rotnet_nmis_stl10)"
   ]
  },
  {
   "cell_type": "code",
   "execution_count": 37,
   "id": "independent-indie",
   "metadata": {},
   "outputs": [
    {
     "name": "stdout",
     "output_type": "stream",
     "text": [
      "Cluser accuracy mean: 0.3641\n",
      "Cluser accuracy variance: 0.0076\n"
     ]
    }
   ],
   "source": [
    "print_total_mean_and_var('Cluser accuracy', df_rotnet_cas_stl10)"
   ]
  },
  {
   "cell_type": "markdown",
   "id": "distributed-queens",
   "metadata": {},
   "source": [
    "### STL10: DEC"
   ]
  },
  {
   "cell_type": "code",
   "execution_count": 39,
   "id": "peaceful-jonathan",
   "metadata": {},
   "outputs": [],
   "source": [
    "path_nmis = 'trained_models/RotNet/STL10/nmis_dec.csv'\n",
    "path_cas = 'trained_models/RotNet/STL10/cas_dec.csv'"
   ]
  },
  {
   "cell_type": "markdown",
   "id": "copyrighted-above",
   "metadata": {},
   "source": [
    "Uncomment this part to generate new NMI and cluster accuracies"
   ]
  },
  {
   "cell_type": "code",
   "execution_count": null,
   "id": "danish-reading",
   "metadata": {},
   "outputs": [],
   "source": [
    "# rotnet_nmis_stl10_dec, rotnet_cas_stl10_dec = get_nmis_and_cas_10_runs('RotNet\\STL10\\DEC_RotNet_STL10', stl10_colors_classes, device, dataset='STL10')"
   ]
  },
  {
   "cell_type": "code",
   "execution_count": 41,
   "id": "another-begin",
   "metadata": {},
   "outputs": [],
   "source": [
    "# df_rotnet_nmis_stl10_dec = pd.DataFrame(rotnet_nmis_stl10_dec)\n",
    "# df_rotnet_cas_stl10_dec = pd.DataFrame(rotnet_cas_stl10_dec)"
   ]
  },
  {
   "cell_type": "code",
   "execution_count": 42,
   "id": "technological-cheat",
   "metadata": {},
   "outputs": [],
   "source": [
    "# df_rotnet_nmis_stl10_dec.to_csv(path_nmis)\n",
    "# df_rotnet_cas_stl10_dec.to_csv(path_cas)"
   ]
  },
  {
   "cell_type": "code",
   "execution_count": 43,
   "id": "temporal-london",
   "metadata": {},
   "outputs": [],
   "source": [
    "df_rotnet_nmis_stl10_dec = pd.read_csv(path_nmis, index_col=0)\n",
    "df_rotnet_cas_stl10_dec = pd.read_csv(path_cas, index_col=0)"
   ]
  },
  {
   "cell_type": "code",
   "execution_count": 44,
   "id": "spatial-webmaster",
   "metadata": {},
   "outputs": [
    {
     "name": "stdout",
     "output_type": "stream",
     "text": [
      "NMI mean: 0.1292\n",
      "NMI variance: 0.0003\n"
     ]
    }
   ],
   "source": [
    "print_total_mean_and_var('NMI', df_rotnet_nmis_stl10_dec)"
   ]
  },
  {
   "cell_type": "code",
   "execution_count": 45,
   "id": "pediatric-tattoo",
   "metadata": {},
   "outputs": [
    {
     "name": "stdout",
     "output_type": "stream",
     "text": [
      "Cluser accuracy mean: 0.1967\n",
      "Cluser accuracy variance: 0.0003\n"
     ]
    }
   ],
   "source": [
    "print_total_mean_and_var('Cluser accuracy', df_rotnet_cas_stl10_dec)"
   ]
  },
  {
   "cell_type": "markdown",
   "id": "functional-arthritis",
   "metadata": {},
   "source": [
    "## SimCLR"
   ]
  },
  {
   "cell_type": "markdown",
   "id": "universal-printer",
   "metadata": {},
   "source": [
    "### CIFAR: Pretraining"
   ]
  },
  {
   "cell_type": "code",
   "execution_count": 130,
   "id": "waiting-reverse",
   "metadata": {},
   "outputs": [],
   "source": [
    "path_nmis = 'trained_models/SimCLR/CIFAR/nmis.csv'\n",
    "path_cas = 'trained_models/SimCLR/CIFAR/cas.csv'"
   ]
  },
  {
   "cell_type": "markdown",
   "id": "finished-thriller",
   "metadata": {},
   "source": [
    "Uncomment this part to generate new NMI and cluster accuracies"
   ]
  },
  {
   "cell_type": "code",
   "execution_count": null,
   "id": "forbidden-meter",
   "metadata": {},
   "outputs": [],
   "source": [
    "# simclr_nmis_cifar, simclr_cas_cifar = get_nmis_and_cas_10_runs('SimCLR\\CIFAR\\pretrained_SimCLR', colors_classes, device)"
   ]
  },
  {
   "cell_type": "code",
   "execution_count": 24,
   "id": "effective-uganda",
   "metadata": {},
   "outputs": [],
   "source": [
    "# df_simclr_nmis_cifar = pd.DataFrame(simclr_nmis_cifar)\n",
    "# df_simclr_cas_cifar = pd.DataFrame(simclr_cas_cifar)"
   ]
  },
  {
   "cell_type": "code",
   "execution_count": 134,
   "id": "received-fraction",
   "metadata": {},
   "outputs": [],
   "source": [
    "# df_simclr_nmis_cifar.to_csv(path_nmis)\n",
    "# df_simclr_cas_cifar.to_csv(path_cas)"
   ]
  },
  {
   "cell_type": "code",
   "execution_count": 132,
   "id": "heavy-geneva",
   "metadata": {},
   "outputs": [],
   "source": [
    "df_simclr_nmis_cifar = pd.read_csv(path_nmis, index_col=0)\n",
    "df_simclr_cas_cifar = pd.read_csv(path_cas, index_col=0)"
   ]
  },
  {
   "cell_type": "code",
   "execution_count": 135,
   "id": "limited-fundamentals",
   "metadata": {},
   "outputs": [
    {
     "name": "stdout",
     "output_type": "stream",
     "text": [
      "NMI mean: 0.4724\n",
      "NMI variance: 0.0033\n"
     ]
    }
   ],
   "source": [
    "print_total_mean_and_var('NMI', df_simclr_nmis_cifar)"
   ]
  },
  {
   "cell_type": "code",
   "execution_count": 136,
   "id": "sunrise-beijing",
   "metadata": {},
   "outputs": [
    {
     "name": "stdout",
     "output_type": "stream",
     "text": [
      "Cluser accuracy mean: 0.5904\n",
      "Cluser accuracy variance: 0.0090\n"
     ]
    }
   ],
   "source": [
    "print_total_mean_and_var('Cluser accuracy', df_simclr_cas_cifar)"
   ]
  },
  {
   "cell_type": "code",
   "execution_count": 98,
   "id": "surrounded-effectiveness",
   "metadata": {},
   "outputs": [],
   "source": [
    "columns = [f'Run {i}' for i in range(10)]"
   ]
  },
  {
   "cell_type": "code",
   "execution_count": 133,
   "id": "changed-chorus",
   "metadata": {},
   "outputs": [],
   "source": [
    "df_simclr_nmis_cifar.columns = columns\n",
    "df_simclr_cas_cifar.columns = columns"
   ]
  },
  {
   "cell_type": "markdown",
   "id": "cleared-philippines",
   "metadata": {},
   "source": [
    "### CIFAR: IDEC"
   ]
  },
  {
   "cell_type": "code",
   "execution_count": 137,
   "id": "demographic-refund",
   "metadata": {},
   "outputs": [],
   "source": [
    "path_nmis = 'trained_models/SimCLR/CIFAR/nmis_idec.csv'\n",
    "path_cas = 'trained_models/SimCLR/CIFAR/cas_idec.csv'"
   ]
  },
  {
   "cell_type": "markdown",
   "id": "frank-islam",
   "metadata": {},
   "source": [
    "Uncomment this part to generate new NMI and cluster accuracies"
   ]
  },
  {
   "cell_type": "code",
   "execution_count": null,
   "id": "described-canyon",
   "metadata": {},
   "outputs": [],
   "source": [
    "# simclr_nmis_cifar_idec, simclr_cas_cifar_idec = get_nmis_and_cas_10_runs('SimCLR\\CIFAR\\IDEC_SimCLR', colors_classes, device)"
   ]
  },
  {
   "cell_type": "code",
   "execution_count": 27,
   "id": "widespread-satellite",
   "metadata": {},
   "outputs": [],
   "source": [
    "# df_simclr_nmis_cifar_idec = pd.DataFrame(simclr_nmis_cifar_idec)\n",
    "# df_simclr_cas_cifar_idec = pd.DataFrame(simclr_cas_cifar_idec)"
   ]
  },
  {
   "cell_type": "code",
   "execution_count": 141,
   "id": "robust-sphere",
   "metadata": {},
   "outputs": [],
   "source": [
    "# df_simclr_nmis_cifar_idec.to_csv(path_nmis)\n",
    "# df_simclr_cas_cifar_idec.to_csv(path_cas)"
   ]
  },
  {
   "cell_type": "code",
   "execution_count": 138,
   "id": "neither-ontario",
   "metadata": {},
   "outputs": [],
   "source": [
    "df_simclr_nmis_cifar_idec = pd.read_csv(path_nmis, index_col=0)\n",
    "df_simclr_cas_cifar_idec = pd.read_csv(path_cas, index_col=0)"
   ]
  },
  {
   "cell_type": "code",
   "execution_count": 142,
   "id": "incorporated-despite",
   "metadata": {},
   "outputs": [
    {
     "name": "stdout",
     "output_type": "stream",
     "text": [
      "NMI mean: 0.5569\n",
      "NMI variance: 0.0001\n"
     ]
    }
   ],
   "source": [
    "print_total_mean_and_var('NMI', df_simclr_nmis_cifar_idec)"
   ]
  },
  {
   "cell_type": "code",
   "execution_count": 143,
   "id": "knowing-boards",
   "metadata": {},
   "outputs": [
    {
     "name": "stdout",
     "output_type": "stream",
     "text": [
      "Cluser accuracy mean: 0.6576\n",
      "Cluser accuracy variance: 0.0000\n"
     ]
    }
   ],
   "source": [
    "print_total_mean_and_var('Cluser accuracy', df_simclr_cas_cifar_idec)"
   ]
  },
  {
   "cell_type": "markdown",
   "id": "stopped-mountain",
   "metadata": {},
   "source": [
    "### STL10: Pretraining"
   ]
  },
  {
   "cell_type": "code",
   "execution_count": 46,
   "id": "brutal-flower",
   "metadata": {},
   "outputs": [],
   "source": [
    "path_nmis = 'trained_models/SimCLR/STL10/nmis.csv'\n",
    "path_cas = 'trained_models/SimCLR/STL10/cas.csv'"
   ]
  },
  {
   "cell_type": "markdown",
   "id": "stable-holmes",
   "metadata": {},
   "source": [
    "Uncomment this part to generate new NMI and cluster accuracies"
   ]
  },
  {
   "cell_type": "code",
   "execution_count": null,
   "id": "bright-primary",
   "metadata": {},
   "outputs": [],
   "source": [
    "simclr_nmis_stl10, simclr_cas_stl10 = get_nmis_and_cas_10_runs('SimCLR\\STL10\\pretrained_SimCLR_STL10', stl10_colors_classes, device, dataset='STL10')"
   ]
  },
  {
   "cell_type": "code",
   "execution_count": 48,
   "id": "pressed-norfolk",
   "metadata": {},
   "outputs": [],
   "source": [
    "df_simclr_nmis_stl10 = pd.DataFrame(simclr_nmis_stl10)\n",
    "df_simclr_cas_stl0 = pd.DataFrame(simclr_cas_stl10)"
   ]
  },
  {
   "cell_type": "code",
   "execution_count": 49,
   "id": "contrary-singer",
   "metadata": {},
   "outputs": [],
   "source": [
    "df_simclr_nmis_stl10.to_csv(path_nmis)\n",
    "df_simclr_cas_stl0.to_csv(path_cas)"
   ]
  },
  {
   "cell_type": "code",
   "execution_count": 50,
   "id": "mature-swift",
   "metadata": {},
   "outputs": [],
   "source": [
    "df_simclr_nmis_stl10 = pd.read_csv(path_nmis, index_col=0)\n",
    "df_simclr_cas_stl0 = pd.read_csv(path_cas, index_col=0)"
   ]
  },
  {
   "cell_type": "code",
   "execution_count": 51,
   "id": "comic-criterion",
   "metadata": {},
   "outputs": [
    {
     "name": "stdout",
     "output_type": "stream",
     "text": [
      "NMI mean: 0.3502\n",
      "NMI variance: 0.0015\n"
     ]
    }
   ],
   "source": [
    "print_total_mean_and_var('NMI', df_simclr_nmis_stl10)"
   ]
  },
  {
   "cell_type": "code",
   "execution_count": 52,
   "id": "peaceful-password",
   "metadata": {},
   "outputs": [
    {
     "name": "stdout",
     "output_type": "stream",
     "text": [
      "Cluser accuracy mean: 0.4114\n",
      "Cluser accuracy variance: 0.0051\n"
     ]
    }
   ],
   "source": [
    "print_total_mean_and_var('Cluser accuracy', df_simclr_cas_stl0)"
   ]
  },
  {
   "cell_type": "markdown",
   "id": "preliminary-given",
   "metadata": {},
   "source": [
    "### STL10: IDEC"
   ]
  },
  {
   "cell_type": "code",
   "execution_count": 55,
   "id": "unusual-germany",
   "metadata": {},
   "outputs": [],
   "source": [
    "path_nmis_dec = 'trained_models/SimCLR/STL10/nmis_idec.csv'\n",
    "path_cas_dec = 'trained_models/SimCLR/STL10/cas_idec.csv'"
   ]
  },
  {
   "cell_type": "markdown",
   "id": "heavy-deadline",
   "metadata": {},
   "source": [
    "Uncomment this part to generate new NMI and cluster accuracies"
   ]
  },
  {
   "cell_type": "code",
   "execution_count": 58,
   "id": "educational-penetration",
   "metadata": {},
   "outputs": [
    {
     "name": "stdout",
     "output_type": "stream",
     "text": [
      "SimCLR\\STL10\\IDEC_SimCLR_0.pth\n",
      "Run: 0\n",
      "SimCLR\\STL10\\IDEC_SimCLR_0.pth:\n",
      "NMI:0.3869628444149622\n",
      "CA:0.40940020161290325\n",
      "\n",
      "Run: 1\n",
      "SimCLR\\STL10\\IDEC_SimCLR_0.pth:\n",
      "NMI:0.3879816584306516\n",
      "CA:0.4592993951612903\n",
      "\n",
      "Run: 2\n",
      "SimCLR\\STL10\\IDEC_SimCLR_0.pth:\n",
      "NMI:0.38804349746831\n",
      "CA:0.45955141129032256\n",
      "\n",
      "Run: 3\n",
      "SimCLR\\STL10\\IDEC_SimCLR_0.pth:\n",
      "NMI:0.38824743891354596\n",
      "CA:0.4609375\n",
      "\n",
      "Run: 4\n",
      "SimCLR\\STL10\\IDEC_SimCLR_0.pth:\n",
      "NMI:0.38797855102524814\n",
      "CA:0.45904737903225806\n",
      "\n",
      "Run: 5\n",
      "SimCLR\\STL10\\IDEC_SimCLR_0.pth:\n",
      "NMI:0.389371483921124\n",
      "CA:0.46018145161290325\n",
      "\n",
      "Run: 6\n",
      "SimCLR\\STL10\\IDEC_SimCLR_0.pth:\n",
      "NMI:0.38789969893711596\n",
      "CA:0.46118951612903225\n",
      "\n",
      "Run: 7\n",
      "SimCLR\\STL10\\IDEC_SimCLR_0.pth:\n",
      "NMI:0.38762481632268164\n",
      "CA:0.4598034274193548\n",
      "\n",
      "Run: 8\n",
      "SimCLR\\STL10\\IDEC_SimCLR_0.pth:\n",
      "NMI:0.3885151264576402\n",
      "CA:0.4604334677419355\n",
      "\n"
     ]
    },
    {
     "ename": "KeyboardInterrupt",
     "evalue": "",
     "output_type": "error",
     "traceback": [
      "\u001b[1;31m---------------------------------------------------------------------------\u001b[0m",
      "\u001b[1;31mKeyboardInterrupt\u001b[0m                         Traceback (most recent call last)",
      "\u001b[1;32m<ipython-input-58-299018755cd3>\u001b[0m in \u001b[0;36m<module>\u001b[1;34m\u001b[0m\n\u001b[1;32m----> 1\u001b[1;33m \u001b[0msimclr_nmis_stl10_idec\u001b[0m\u001b[1;33m,\u001b[0m \u001b[0msimclr_cas_stl10_idec\u001b[0m \u001b[1;33m=\u001b[0m \u001b[0mget_nmis_and_cas_10_runs\u001b[0m\u001b[1;33m(\u001b[0m\u001b[1;34m'SimCLR\\STL10\\IDEC_SimCLR'\u001b[0m\u001b[1;33m,\u001b[0m \u001b[0mstl10_colors_classes\u001b[0m\u001b[1;33m,\u001b[0m \u001b[0mdevice\u001b[0m\u001b[1;33m,\u001b[0m \u001b[0mdataset\u001b[0m\u001b[1;33m=\u001b[0m\u001b[1;34m'STL10'\u001b[0m\u001b[1;33m)\u001b[0m\u001b[1;33m\u001b[0m\u001b[1;33m\u001b[0m\u001b[0m\n\u001b[0m",
      "\u001b[1;32m<ipython-input-31-3ddf412d2dde>\u001b[0m in \u001b[0;36mget_nmis_and_cas_10_runs\u001b[1;34m(model_name, colors_classes, device, dataset)\u001b[0m\n\u001b[0;32m     14\u001b[0m \u001b[1;33m\u001b[0m\u001b[0m\n\u001b[0;32m     15\u001b[0m         \u001b[1;32mfor\u001b[0m \u001b[0mk\u001b[0m \u001b[1;32min\u001b[0m \u001b[0mrange\u001b[0m\u001b[1;33m(\u001b[0m\u001b[1;36m10\u001b[0m\u001b[1;33m)\u001b[0m\u001b[1;33m:\u001b[0m\u001b[1;33m\u001b[0m\u001b[1;33m\u001b[0m\u001b[0m\n\u001b[1;32m---> 16\u001b[1;33m             \u001b[0mlabels\u001b[0m\u001b[1;33m,\u001b[0m \u001b[0mkmeans\u001b[0m\u001b[1;33m,\u001b[0m \u001b[0mnmi\u001b[0m\u001b[1;33m,\u001b[0m \u001b[0m_\u001b[0m\u001b[1;33m,\u001b[0m \u001b[0m_\u001b[0m \u001b[1;33m=\u001b[0m \u001b[0mcompute_nmi_and_pca\u001b[0m\u001b[1;33m(\u001b[0m\u001b[0mmodel\u001b[0m\u001b[1;33m,\u001b[0m \u001b[0mname\u001b[0m\u001b[1;33m,\u001b[0m \u001b[0mcolors_classes\u001b[0m\u001b[1;33m,\u001b[0m \u001b[0mdevice\u001b[0m\u001b[1;33m,\u001b[0m \u001b[0mtestloader\u001b[0m\u001b[1;33m)\u001b[0m\u001b[1;33m\u001b[0m\u001b[1;33m\u001b[0m\u001b[0m\n\u001b[0m\u001b[0;32m     17\u001b[0m             \u001b[0mnmis\u001b[0m\u001b[1;33m[\u001b[0m\u001b[0mi\u001b[0m\u001b[1;33m]\u001b[0m\u001b[1;33m.\u001b[0m\u001b[0mappend\u001b[0m\u001b[1;33m(\u001b[0m\u001b[0mnmi\u001b[0m\u001b[1;33m)\u001b[0m\u001b[1;33m\u001b[0m\u001b[1;33m\u001b[0m\u001b[0m\n\u001b[0;32m     18\u001b[0m \u001b[1;33m\u001b[0m\u001b[0m\n",
      "\u001b[1;32mD:\\everything\\Studium\\WS2020\\Bachelor\\dcl_b\\util\\util.py\u001b[0m in \u001b[0;36mcompute_nmi_and_pca\u001b[1;34m(model, name, colors_classes, device, testloader, flatten, layer)\u001b[0m\n\u001b[0;32m    134\u001b[0m         \u001b[0membedded_data\u001b[0m\u001b[1;33m,\u001b[0m \u001b[0mlabels\u001b[0m \u001b[1;33m=\u001b[0m \u001b[0mdecoder\u001b[0m\u001b[1;33m.\u001b[0m\u001b[0mforward_batch\u001b[0m\u001b[1;33m(\u001b[0m\u001b[0mtestloader\u001b[0m\u001b[1;33m,\u001b[0m \u001b[0mdevice\u001b[0m\u001b[1;33m=\u001b[0m\u001b[0mdevice\u001b[0m\u001b[1;33m,\u001b[0m \u001b[0mflatten\u001b[0m\u001b[1;33m=\u001b[0m\u001b[0mflatten\u001b[0m\u001b[1;33m,\u001b[0m \u001b[0mlayer\u001b[0m\u001b[1;33m=\u001b[0m\u001b[0mlayer\u001b[0m\u001b[1;33m)\u001b[0m\u001b[1;33m\u001b[0m\u001b[1;33m\u001b[0m\u001b[0m\n\u001b[0;32m    135\u001b[0m     \u001b[1;32melse\u001b[0m\u001b[1;33m:\u001b[0m\u001b[1;33m\u001b[0m\u001b[1;33m\u001b[0m\u001b[0m\n\u001b[1;32m--> 136\u001b[1;33m         \u001b[0membedded_data\u001b[0m\u001b[1;33m,\u001b[0m \u001b[0mlabels\u001b[0m \u001b[1;33m=\u001b[0m \u001b[0mdecoder\u001b[0m\u001b[1;33m.\u001b[0m\u001b[0mforward_batch\u001b[0m\u001b[1;33m(\u001b[0m\u001b[0mtestloader\u001b[0m\u001b[1;33m,\u001b[0m \u001b[0mdevice\u001b[0m\u001b[1;33m)\u001b[0m\u001b[1;33m\u001b[0m\u001b[1;33m\u001b[0m\u001b[0m\n\u001b[0m\u001b[0;32m    137\u001b[0m     \u001b[0mlable_classes\u001b[0m \u001b[1;33m=\u001b[0m \u001b[1;33m[\u001b[0m\u001b[0mcolors_classes\u001b[0m\u001b[1;33m[\u001b[0m\u001b[0ml\u001b[0m\u001b[1;33m]\u001b[0m \u001b[1;32mfor\u001b[0m \u001b[0ml\u001b[0m \u001b[1;32min\u001b[0m \u001b[0mlabels\u001b[0m\u001b[1;33m]\u001b[0m\u001b[1;33m\u001b[0m\u001b[1;33m\u001b[0m\u001b[0m\n\u001b[0;32m    138\u001b[0m \u001b[1;33m\u001b[0m\u001b[0m\n",
      "\u001b[1;32mD:\\everything\\Studium\\WS2020\\Bachelor\\dcl_b\\models\\simclr\\simclr.py\u001b[0m in \u001b[0;36mforward_batch\u001b[1;34m(self, data_loader, device, flatten)\u001b[0m\n\u001b[0;32m     47\u001b[0m             \u001b[0mbatch_data\u001b[0m \u001b[1;33m=\u001b[0m \u001b[0mbatch\u001b[0m\u001b[1;33m.\u001b[0m\u001b[0mto\u001b[0m\u001b[1;33m(\u001b[0m\u001b[0mdevice\u001b[0m\u001b[1;33m)\u001b[0m\u001b[1;33m\u001b[0m\u001b[1;33m\u001b[0m\u001b[0m\n\u001b[0;32m     48\u001b[0m             \u001b[0mfeats\u001b[0m\u001b[1;33m,\u001b[0m \u001b[0m_\u001b[0m \u001b[1;33m=\u001b[0m \u001b[0mself\u001b[0m\u001b[1;33m(\u001b[0m\u001b[0mbatch_data\u001b[0m\u001b[1;33m)\u001b[0m\u001b[1;33m\u001b[0m\u001b[1;33m\u001b[0m\u001b[0m\n\u001b[1;32m---> 49\u001b[1;33m             \u001b[0membeddings\u001b[0m\u001b[1;33m.\u001b[0m\u001b[0mappend\u001b[0m\u001b[1;33m(\u001b[0m\u001b[0mfeats\u001b[0m\u001b[1;33m.\u001b[0m\u001b[0mdetach\u001b[0m\u001b[1;33m(\u001b[0m\u001b[1;33m)\u001b[0m\u001b[1;33m.\u001b[0m\u001b[0mcpu\u001b[0m\u001b[1;33m(\u001b[0m\u001b[1;33m)\u001b[0m\u001b[1;33m)\u001b[0m\u001b[1;33m\u001b[0m\u001b[1;33m\u001b[0m\u001b[0m\n\u001b[0m\u001b[0;32m     50\u001b[0m             \u001b[0mlabels\u001b[0m \u001b[1;33m=\u001b[0m \u001b[0mlabels\u001b[0m \u001b[1;33m+\u001b[0m \u001b[0mbatch_labels\u001b[0m\u001b[1;33m.\u001b[0m\u001b[0mtolist\u001b[0m\u001b[1;33m(\u001b[0m\u001b[1;33m)\u001b[0m\u001b[1;33m\u001b[0m\u001b[1;33m\u001b[0m\u001b[0m\n\u001b[0;32m     51\u001b[0m         \u001b[1;32mreturn\u001b[0m \u001b[0mtorch\u001b[0m\u001b[1;33m.\u001b[0m\u001b[0mcat\u001b[0m\u001b[1;33m(\u001b[0m\u001b[0membeddings\u001b[0m\u001b[1;33m,\u001b[0m \u001b[0mdim\u001b[0m\u001b[1;33m=\u001b[0m\u001b[1;36m0\u001b[0m\u001b[1;33m)\u001b[0m\u001b[1;33m.\u001b[0m\u001b[0mnumpy\u001b[0m\u001b[1;33m(\u001b[0m\u001b[1;33m)\u001b[0m\u001b[1;33m,\u001b[0m \u001b[0mnp\u001b[0m\u001b[1;33m.\u001b[0m\u001b[0marray\u001b[0m\u001b[1;33m(\u001b[0m\u001b[0mlabels\u001b[0m\u001b[1;33m)\u001b[0m\u001b[1;33m\u001b[0m\u001b[1;33m\u001b[0m\u001b[0m\n",
      "\u001b[1;31mKeyboardInterrupt\u001b[0m: "
     ]
    }
   ],
   "source": [
    "simclr_nmis_stl10_idec, simclr_cas_stl10_idec = get_nmis_and_cas_10_runs('SimCLR\\STL10\\IDEC_SimCLR', stl10_colors_classes, device, dataset='STL10')"
   ]
  },
  {
   "cell_type": "code",
   "execution_count": null,
   "id": "pressed-reservation",
   "metadata": {},
   "outputs": [],
   "source": [
    "df_simclr_nmis_stl10_idec = pd.DataFrame(simclr_nmis_stl10_idec)\n",
    "df_simclr_cas_stl10_idec = pd.DataFrame(simclr_cas_stl10_idec)"
   ]
  },
  {
   "cell_type": "code",
   "execution_count": null,
   "id": "short-appearance",
   "metadata": {},
   "outputs": [],
   "source": [
    "df_simclr_nmis_stl10_idec.to_csv(path_nmis)\n",
    "df_simclr_cas_stl10_idec.to_csv(path_cas)"
   ]
  },
  {
   "cell_type": "code",
   "execution_count": null,
   "id": "satisfactory-stations",
   "metadata": {},
   "outputs": [],
   "source": [
    "df_simclr_nmis_stl10_idec = pd.read_csv(path_nmis, index_col=0)\n",
    "df_simclr_cas_stl10_idec = pd.read_csv(path_cas, index_col=0)"
   ]
  },
  {
   "cell_type": "code",
   "execution_count": null,
   "id": "arabic-silver",
   "metadata": {},
   "outputs": [],
   "source": [
    "print_total_mean_and_var('NMI', df_simclr_nmis_stl10_idec)"
   ]
  },
  {
   "cell_type": "code",
   "execution_count": null,
   "id": "infinite-certificate",
   "metadata": {},
   "outputs": [],
   "source": [
    "print_total_mean_and_var('Cluser accuracy', df_simclr_cas_stl10_idec)"
   ]
  },
  {
   "cell_type": "code",
   "execution_count": null,
   "id": "suffering-trick",
   "metadata": {},
   "outputs": [],
   "source": []
  }
 ],
 "metadata": {
  "kernelspec": {
   "display_name": "Python 3",
   "language": "python",
   "name": "python3"
  },
  "language_info": {
   "codemirror_mode": {
    "name": "ipython",
    "version": 3
   },
   "file_extension": ".py",
   "mimetype": "text/x-python",
   "name": "python",
   "nbconvert_exporter": "python",
   "pygments_lexer": "ipython3",
   "version": "3.9.1"
  }
 },
 "nbformat": 4,
 "nbformat_minor": 5
}
