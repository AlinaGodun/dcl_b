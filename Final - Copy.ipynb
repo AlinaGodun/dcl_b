{
 "cells": [
  {
   "cell_type": "code",
   "execution_count": 73,
   "id": "corporate-sherman",
   "metadata": {
    "scrolled": false
   },
   "outputs": [
    {
     "name": "stdout",
     "output_type": "stream",
     "text": [
      "The autoreload extension is already loaded. To reload it, use:\n",
      "  %reload_ext autoreload\n"
     ]
    }
   ],
   "source": [
    "# Importing all necessary libraries\n",
    "%load_ext autoreload\n",
    "%autoreload 2\n",
    "\n",
    "# internal packages\n",
    "import os\n",
    "from collections import Counter, OrderedDict\n",
    "\n",
    "# external packages\n",
    "import torch\n",
    "import torchvision\n",
    "import numpy as np\n",
    "import sklearn\n",
    "from sklearn.cluster import KMeans\n",
    "from sklearn.metrics import normalized_mutual_info_score, confusion_matrix\n",
    "from sklearn.decomposition import PCA\n",
    "import matplotlib\n",
    "from matplotlib import pyplot as plt\n",
    "import seaborn as sns\n",
    "import pandas as pd\n",
    "\n",
    "# util functions\n",
    "from util.util import *\n",
    "\n",
    "# dataset functions\n",
    "from dataset import load_util\n",
    "\n",
    "# autoencoder\n",
    "from models.autoencoder.conv_ae import ConvAE\n",
    "from models.simclr.simclr import *\n",
    "from models.simclr.transforms import *\n",
    "from models.rotnet.rotnet import *\n",
    "from models.rotnet.IDEC import *\n",
    "from models.rotnet.custom_stl10 import *\n",
    "from cluster_accuracy import cluster_accuracy\n",
    "from models.simclr.custom_stl10 import SimCLRSTL10\n",
    "from models.simclr.custom_fmnist import SimCLRFMNIST"
   ]
  },
  {
   "cell_type": "code",
   "execution_count": 6,
   "id": "palestinian-harris",
   "metadata": {},
   "outputs": [
    {
     "data": {
      "application/javascript": [
       "IPython.OutputArea.prototype._should_scroll = function(lines) {\n",
       "    return false;\n",
       "}\n"
      ],
      "text/plain": [
       "<IPython.core.display.Javascript object>"
      ]
     },
     "metadata": {},
     "output_type": "display_data"
    }
   ],
   "source": [
    "%%javascript\n",
    "IPython.OutputArea.prototype._should_scroll = function(lines) {\n",
    "    return false;\n",
    "}"
   ]
  },
  {
   "cell_type": "code",
   "execution_count": 7,
   "id": "conceptual-stretch",
   "metadata": {
    "scrolled": true
   },
   "outputs": [
    {
     "name": "stdout",
     "output_type": "stream",
     "text": [
      "Versions:\n",
      "torch: 1.8.1+cu111\n",
      "torchvision: 0.9.1+cu111\n",
      "numpy: 1.19.5\n",
      "scikit-learn: 0.24.1\n",
      "Using device:  cuda\n"
     ]
    }
   ],
   "source": [
    "print(\"Versions:\")\n",
    "print(f\"torch: {torch.__version__}\")\n",
    "print(f\"torchvision: {torchvision.__version__}\")\n",
    "print(f\"numpy: {np.__version__}\",)\n",
    "print(f\"scikit-learn: {sklearn.__version__}\")\n",
    "\n",
    "device = detect_device()\n",
    "print(\"Using device: \", device)"
   ]
  },
  {
   "cell_type": "markdown",
   "id": "continuous-spice",
   "metadata": {},
   "source": [
    "## Preparation"
   ]
  },
  {
   "cell_type": "code",
   "execution_count": 8,
   "id": "sonic-operation",
   "metadata": {
    "scrolled": true
   },
   "outputs": [],
   "source": [
    "# specify learning params\n",
    "batch_size = 128\n",
    "learning_rate = 0.1\n",
    "epochs = 100\n",
    "\n",
    "# training\n",
    "\n",
    "train = True"
   ]
  },
  {
   "cell_type": "code",
   "execution_count": 10,
   "id": "industrial-accordance",
   "metadata": {
    "scrolled": true
   },
   "outputs": [],
   "source": [
    "cifar_test_data = load_util.load_custom_cifar('./data', download=False, train=False, data_percent=1.0, for_model='SimCLR', transforms=False)\n",
    "cifar_testloader = torch.utils.data.DataLoader(cifar_test_data,\n",
    "                                          batch_size=128,\n",
    "                                          shuffle=True,\n",
    "                                          drop_last=True)"
   ]
  },
  {
   "cell_type": "code",
   "execution_count": 12,
   "id": "manufactured-sleep",
   "metadata": {
    "scrolled": true
   },
   "outputs": [],
   "source": [
    "cifar_colors_classes = {i: color_class for i, color_class in zip(range(len(cifar_test_data.classes)), cifar_test_data.classes)}"
   ]
  },
  {
   "cell_type": "code",
   "execution_count": 34,
   "id": "corporate-squad",
   "metadata": {},
   "outputs": [],
   "source": [
    "stl10_test_data = SimCLRSTL10(data_percent=1.0, train=False)\n",
    "stl10_testloader = torch.utils.data.DataLoader(stl10_test_data,\n",
    "                                         batch_size=128,\n",
    "                                         shuffle=True,\n",
    "                                         drop_last=True)"
   ]
  },
  {
   "cell_type": "code",
   "execution_count": 35,
   "id": "functional-annual",
   "metadata": {},
   "outputs": [],
   "source": [
    "stl10_colors_classes = {i: color_class for i, color_class in zip(range(len(stl10_test_data.classes)), stl10_test_data.classes)}"
   ]
  },
  {
   "cell_type": "code",
   "execution_count": 125,
   "id": "loose-procurement",
   "metadata": {},
   "outputs": [],
   "source": [
    "fmnist_test_data = SimCLRFMNIST('./data', data_percent=1.0, train=False, download=True)\n",
    "fmnist_testloader = torch.utils.data.DataLoader(fmnist_test_data,\n",
    "                                         batch_size=128,\n",
    "                                         shuffle=True,\n",
    "                                         drop_last=True)"
   ]
  },
  {
   "cell_type": "code",
   "execution_count": 126,
   "id": "separated-debate",
   "metadata": {},
   "outputs": [],
   "source": [
    "fmnist_colors_classes = {i: color_class for i, color_class in zip(range(len(fmnist_test_data.classes)), fmnist_test_data.classes)}"
   ]
  },
  {
   "cell_type": "code",
   "execution_count": 138,
   "id": "theoretical-manufacturer",
   "metadata": {},
   "outputs": [],
   "source": [
    "def get_nmis_and_cas_10_runs(model_name, colors_classes, device, dataset='CIFAR'):\n",
    "    nmis = {}\n",
    "    cas = {}\n",
    "    \n",
    "    tls = {\n",
    "        'CIFAR': cifar_testloader,\n",
    "        'FMNIST': fmnist_testloader,\n",
    "        'STL10':stl10_testloader\n",
    "    }\n",
    "    testloader = tls[dataset]\n",
    "    # testloader = cifar_testloader if 'CIFAR' in dataset else stl10_testloader\n",
    "\n",
    "    for i in range(10):\n",
    "        name = f'{model_name}_{i}.pth'\n",
    "        print(name)\n",
    "\n",
    "        model = load_model(name, device, torch.rand(size=(10, 9408)))\n",
    "        nmis[i] = []\n",
    "        cas[i] = []\n",
    "\n",
    "        for k in range(10):\n",
    "            labels, kmeans, nmi, _, _ = compute_nmi_and_pca(model, name, colors_classes, device, testloader)\n",
    "            nmis[i].append(nmi)\n",
    "\n",
    "            ca = cluster_accuracy(labels, kmeans.labels_)\n",
    "            cas[i].append(ca)\n",
    "            print(f'Run: {k}\\n{name}:\\nNMI:{nmi}\\nCA:{ca}\\n')\n",
    "            del labels\n",
    "            del kmeans\n",
    "    return nmis, cas"
   ]
  },
  {
   "cell_type": "code",
   "execution_count": 15,
   "id": "liquid-output",
   "metadata": {},
   "outputs": [],
   "source": [
    "def print_total_mean_and_var(metrics_name, df):\n",
    "    models_means = df.mean()\n",
    "\n",
    "    total_mean = models_means.mean()\n",
    "    total_std = models_means.std()\n",
    "    \n",
    "    print(f'{metrics_name} mean: {total_mean:.4f}')\n",
    "    print(f'{metrics_name} variance: {total_std:.4f}')"
   ]
  },
  {
   "cell_type": "markdown",
   "id": "ignored-migration",
   "metadata": {},
   "source": [
    "## RotNet"
   ]
  },
  {
   "cell_type": "markdown",
   "id": "united-programmer",
   "metadata": {},
   "source": [
    "### CIFAR : Pretraining"
   ]
  },
  {
   "cell_type": "code",
   "execution_count": 110,
   "id": "massive-olive",
   "metadata": {},
   "outputs": [],
   "source": [
    "path_nmis = 'trained_models/RotNet/CIFAR/nmis.csv'\n",
    "path_cas = 'trained_models/RotNet/CIFAR/cas.csv'"
   ]
  },
  {
   "cell_type": "markdown",
   "id": "secondary-proposition",
   "metadata": {},
   "source": [
    "Uncomment this part to generate new NMI and cluster accuracies"
   ]
  },
  {
   "cell_type": "code",
   "execution_count": null,
   "id": "central-mapping",
   "metadata": {},
   "outputs": [],
   "source": [
    "# rotnet_nmis_cifar, rotnet_cas_cifar = get_nmis_and_cas_10_runs('RotNet\\CIFAR\\pretrained_RotNet', colors_classes, device)"
   ]
  },
  {
   "cell_type": "code",
   "execution_count": null,
   "id": "white-right",
   "metadata": {},
   "outputs": [],
   "source": [
    "# df_rotnet_nmis_cifar = pd.DataFrame(rotnet_nmis_cifar)\n",
    "# df_rotnet_cas_cifar = pd.DataFrame(rotnet_cas_cifar)"
   ]
  },
  {
   "cell_type": "code",
   "execution_count": 74,
   "id": "finished-mercy",
   "metadata": {},
   "outputs": [],
   "source": [
    "# df_rotnet_nmis_cifar.to_csv(path_nmis)\n",
    "# df_rotnet_cas_cifar.to_csv(path_cas)"
   ]
  },
  {
   "cell_type": "markdown",
   "id": "turkish-boring",
   "metadata": {},
   "source": [
    "This code loads existing dataframes from specified paths"
   ]
  },
  {
   "cell_type": "code",
   "execution_count": 111,
   "id": "streaming-cylinder",
   "metadata": {},
   "outputs": [],
   "source": [
    "df_rotnet_nmis_cifar = pd.read_csv(path_nmis, index_col=0)\n",
    "df_rotnet_cas_cifar = pd.read_csv(path_cas, index_col=0)"
   ]
  },
  {
   "cell_type": "code",
   "execution_count": 112,
   "id": "mysterious-aerospace",
   "metadata": {},
   "outputs": [
    {
     "name": "stdout",
     "output_type": "stream",
     "text": [
      "NMI mean: 0.3506\n",
      "NMI variance: 0.0017\n"
     ]
    }
   ],
   "source": [
    "print_total_mean_and_var('NMI', df_rotnet_nmis_cifar)"
   ]
  },
  {
   "cell_type": "code",
   "execution_count": 113,
   "id": "spiritual-groove",
   "metadata": {},
   "outputs": [
    {
     "name": "stdout",
     "output_type": "stream",
     "text": [
      "Cluser accuracy mean: 0.4357\n",
      "Cluser accuracy variance: 0.0051\n"
     ]
    }
   ],
   "source": [
    "print_total_mean_and_var('Cluser accuracy', df_rotnet_cas_cifar)"
   ]
  },
  {
   "cell_type": "markdown",
   "id": "affected-electric",
   "metadata": {},
   "source": [
    "### CIFAR: DEC"
   ]
  },
  {
   "cell_type": "code",
   "execution_count": 114,
   "id": "shared-disability",
   "metadata": {},
   "outputs": [],
   "source": [
    "path_nmis = 'trained_models/RotNet/CIFAR/nmis_dec.csv'\n",
    "path_cas = 'trained_models/RotNet/CIFAR/cas_dec.csv'"
   ]
  },
  {
   "cell_type": "markdown",
   "id": "alpha-assessment",
   "metadata": {},
   "source": [
    "Uncomment this part to generate new NMI and cluster accuracies"
   ]
  },
  {
   "cell_type": "code",
   "execution_count": null,
   "id": "reliable-definition",
   "metadata": {},
   "outputs": [],
   "source": [
    "# rotnet_nmis_cifar_dec, rotnet_cas_cifar_dec = get_nmis_and_cas_10_runs('RotNet\\CIFAR\\DEC_RotNet', colors_classes, device)"
   ]
  },
  {
   "cell_type": "code",
   "execution_count": null,
   "id": "tutorial-diagnosis",
   "metadata": {},
   "outputs": [],
   "source": [
    "# df_rotnet_nmis_cifar_dec = pd.DataFrame(rotnet_nmis_cifar_dec)\n",
    "# df_rotnet_cas_cifar_dec = pd.DataFrame(rotnet_cas_cifar_dec)"
   ]
  },
  {
   "cell_type": "code",
   "execution_count": 105,
   "id": "interested-assurance",
   "metadata": {},
   "outputs": [],
   "source": [
    "# df_rotnet_nmis_cifar_dec.to_csv(path_nmis)\n",
    "# df_rotnet_cas_cifar_dec.to_csv(path_cas)"
   ]
  },
  {
   "cell_type": "markdown",
   "id": "premium-basement",
   "metadata": {},
   "source": [
    "This code loads existing dataframes from specified paths"
   ]
  },
  {
   "cell_type": "code",
   "execution_count": 115,
   "id": "worst-cardiff",
   "metadata": {},
   "outputs": [],
   "source": [
    "df_rotnet_nmis_cifar_dec = pd.read_csv(path_nmis, index_col=0)\n",
    "df_rotnet_cas_cifar_dec = pd.read_csv(path_cas, index_col=0)"
   ]
  },
  {
   "cell_type": "code",
   "execution_count": 117,
   "id": "wrong-healing",
   "metadata": {},
   "outputs": [
    {
     "name": "stdout",
     "output_type": "stream",
     "text": [
      "NMI mean: 0.1042\n",
      "NMI variance: 0.0001\n"
     ]
    }
   ],
   "source": [
    "print_total_mean_and_var('NMI', df_rotnet_nmis_cifar_dec)"
   ]
  },
  {
   "cell_type": "code",
   "execution_count": 118,
   "id": "political-spanking",
   "metadata": {},
   "outputs": [
    {
     "name": "stdout",
     "output_type": "stream",
     "text": [
      "Cluser accuracy mean: 0.2065\n",
      "Cluser accuracy variance: 0.0002\n"
     ]
    }
   ],
   "source": [
    "print_total_mean_and_var('Cluser accuracy', df_rotnet_cas_cifar_dec)"
   ]
  },
  {
   "cell_type": "markdown",
   "id": "abandoned-education",
   "metadata": {},
   "source": [
    "### STL10: Pretraining"
   ]
  },
  {
   "cell_type": "code",
   "execution_count": 14,
   "id": "danish-vancouver",
   "metadata": {},
   "outputs": [],
   "source": [
    "path_nmis = 'trained_models/RotNet/STL10/nmis.csv'\n",
    "path_cas = 'trained_models/RotNet/STL10/cas.csv'"
   ]
  },
  {
   "cell_type": "markdown",
   "id": "signal-hanging",
   "metadata": {},
   "source": [
    "Uncomment this part to generate new NMI and cluster accuracies"
   ]
  },
  {
   "cell_type": "code",
   "execution_count": null,
   "id": "matched-shape",
   "metadata": {},
   "outputs": [],
   "source": [
    "rotnet_nmis_stl10, rotnet_cas_stl10 = get_nmis_and_cas_10_runs('RotNet\\STL10\\pretrained_RotNet_STL10', stl10_colors_classes, device, dataset='STL10')"
   ]
  },
  {
   "cell_type": "code",
   "execution_count": 33,
   "id": "postal-intensity",
   "metadata": {},
   "outputs": [],
   "source": [
    "df_rotnet_nmis_stl10 = pd.DataFrame(rotnet_nmis_stl10)\n",
    "df_rotnet_cas_stl10 = pd.DataFrame(rotnet_cas_stl10)"
   ]
  },
  {
   "cell_type": "code",
   "execution_count": 34,
   "id": "exclusive-riverside",
   "metadata": {},
   "outputs": [],
   "source": [
    "df_rotnet_nmis_stl10.to_csv(path_nmis)\n",
    "df_rotnet_cas_stl10.to_csv(path_cas)"
   ]
  },
  {
   "cell_type": "code",
   "execution_count": 35,
   "id": "brief-terry",
   "metadata": {},
   "outputs": [],
   "source": [
    "df_rotnet_nmis_stl10 = pd.read_csv(path_nmis, index_col=0)\n",
    "df_rotnet_cas_stl10 = pd.read_csv(path_cas, index_col=0)"
   ]
  },
  {
   "cell_type": "code",
   "execution_count": 36,
   "id": "wanted-consortium",
   "metadata": {},
   "outputs": [
    {
     "name": "stdout",
     "output_type": "stream",
     "text": [
      "NMI mean: 0.3357\n",
      "NMI variance: 0.0032\n"
     ]
    }
   ],
   "source": [
    "print_total_mean_and_var('NMI', df_rotnet_nmis_stl10)"
   ]
  },
  {
   "cell_type": "code",
   "execution_count": 37,
   "id": "independent-indie",
   "metadata": {},
   "outputs": [
    {
     "name": "stdout",
     "output_type": "stream",
     "text": [
      "Cluser accuracy mean: 0.3641\n",
      "Cluser accuracy variance: 0.0076\n"
     ]
    }
   ],
   "source": [
    "print_total_mean_and_var('Cluser accuracy', df_rotnet_cas_stl10)"
   ]
  },
  {
   "cell_type": "markdown",
   "id": "distributed-queens",
   "metadata": {},
   "source": [
    "### STL10: DEC"
   ]
  },
  {
   "cell_type": "code",
   "execution_count": 39,
   "id": "peaceful-jonathan",
   "metadata": {},
   "outputs": [],
   "source": [
    "path_nmis = 'trained_models/RotNet/STL10/nmis_dec.csv'\n",
    "path_cas = 'trained_models/RotNet/STL10/cas_dec.csv'"
   ]
  },
  {
   "cell_type": "markdown",
   "id": "copyrighted-above",
   "metadata": {},
   "source": [
    "Uncomment this part to generate new NMI and cluster accuracies"
   ]
  },
  {
   "cell_type": "code",
   "execution_count": null,
   "id": "danish-reading",
   "metadata": {},
   "outputs": [],
   "source": [
    "# rotnet_nmis_stl10_dec, rotnet_cas_stl10_dec = get_nmis_and_cas_10_runs('RotNet\\STL10\\DEC_RotNet_STL10', stl10_colors_classes, device, dataset='STL10')"
   ]
  },
  {
   "cell_type": "code",
   "execution_count": 41,
   "id": "another-begin",
   "metadata": {},
   "outputs": [],
   "source": [
    "# df_rotnet_nmis_stl10_dec = pd.DataFrame(rotnet_nmis_stl10_dec)\n",
    "# df_rotnet_cas_stl10_dec = pd.DataFrame(rotnet_cas_stl10_dec)"
   ]
  },
  {
   "cell_type": "code",
   "execution_count": 42,
   "id": "technological-cheat",
   "metadata": {},
   "outputs": [],
   "source": [
    "# df_rotnet_nmis_stl10_dec.to_csv(path_nmis)\n",
    "# df_rotnet_cas_stl10_dec.to_csv(path_cas)"
   ]
  },
  {
   "cell_type": "code",
   "execution_count": 43,
   "id": "temporal-london",
   "metadata": {},
   "outputs": [],
   "source": [
    "df_rotnet_nmis_stl10_dec = pd.read_csv(path_nmis, index_col=0)\n",
    "df_rotnet_cas_stl10_dec = pd.read_csv(path_cas, index_col=0)"
   ]
  },
  {
   "cell_type": "code",
   "execution_count": 44,
   "id": "spatial-webmaster",
   "metadata": {},
   "outputs": [
    {
     "name": "stdout",
     "output_type": "stream",
     "text": [
      "NMI mean: 0.1292\n",
      "NMI variance: 0.0003\n"
     ]
    }
   ],
   "source": [
    "print_total_mean_and_var('NMI', df_rotnet_nmis_stl10_dec)"
   ]
  },
  {
   "cell_type": "code",
   "execution_count": 45,
   "id": "pediatric-tattoo",
   "metadata": {},
   "outputs": [
    {
     "name": "stdout",
     "output_type": "stream",
     "text": [
      "Cluser accuracy mean: 0.1967\n",
      "Cluser accuracy variance: 0.0003\n"
     ]
    }
   ],
   "source": [
    "print_total_mean_and_var('Cluser accuracy', df_rotnet_cas_stl10_dec)"
   ]
  },
  {
   "cell_type": "markdown",
   "id": "meaning-sentence",
   "metadata": {},
   "source": [
    "### FMNIST: Pretraining"
   ]
  },
  {
   "cell_type": "code",
   "execution_count": 79,
   "id": "pediatric-audio",
   "metadata": {},
   "outputs": [],
   "source": [
    "path_nmis = 'trained_models/RotNet/FMNIST/nmis.csv'\n",
    "path_cas = 'trained_models/RotNet/FMNIST/cas.csv'\n",
    "model_name = 'RotNet/FMNIST/pretrained_RotNet_FMNIST'"
   ]
  },
  {
   "cell_type": "code",
   "execution_count": null,
   "id": "respiratory-spain",
   "metadata": {},
   "outputs": [],
   "source": [
    "df_nmis, df_cas = compute_everything(path_nmis, path_cas, model_name, fmnist_colors_classes, compute=True, dataset='FMNIST')"
   ]
  },
  {
   "cell_type": "code",
   "execution_count": 133,
   "id": "prescription-immune",
   "metadata": {},
   "outputs": [],
   "source": [
    "path_nmis = 'trained_models/RotNet/FMNIST/nmis_dec.csv'\n",
    "path_cas = 'trained_models/RotNet/FMNIST/cas_dec.csv'\n",
    "model_name = 'RotNet/FMNIST/DEC_RotNet_FMINST'"
   ]
  },
  {
   "cell_type": "code",
   "execution_count": 139,
   "id": "actual-homeless",
   "metadata": {},
   "outputs": [
    {
     "name": "stdout",
     "output_type": "stream",
     "text": [
      "RotNet/FMNIST/DEC_RotNet_FMINST_0.pth\n",
      "Run: 0\n",
      "RotNet/FMNIST/DEC_RotNet_FMINST_0.pth:\n",
      "NMI:0.5111750003117222\n",
      "CA:0.4052483974358974\n",
      "\n",
      "Run: 1\n",
      "RotNet/FMNIST/DEC_RotNet_FMINST_0.pth:\n",
      "NMI:0.5112861978178415\n",
      "CA:0.40705128205128205\n",
      "\n",
      "Run: 2\n",
      "RotNet/FMNIST/DEC_RotNet_FMINST_0.pth:\n",
      "NMI:0.511487030945079\n",
      "CA:0.4055488782051282\n",
      "\n",
      "Run: 3\n",
      "RotNet/FMNIST/DEC_RotNet_FMINST_0.pth:\n",
      "NMI:0.5208013783324408\n",
      "CA:0.44381009615384615\n",
      "\n",
      "Run: 4\n",
      "RotNet/FMNIST/DEC_RotNet_FMINST_0.pth:\n",
      "NMI:0.5109350058289088\n",
      "CA:0.40635016025641024\n",
      "\n",
      "Run: 5\n",
      "RotNet/FMNIST/DEC_RotNet_FMINST_0.pth:\n",
      "NMI:0.5200279233570336\n",
      "CA:0.4444110576923077\n",
      "\n",
      "Run: 6\n",
      "RotNet/FMNIST/DEC_RotNet_FMINST_0.pth:\n",
      "NMI:0.5111183252819648\n",
      "CA:0.4052483974358974\n",
      "\n",
      "Run: 7\n",
      "RotNet/FMNIST/DEC_RotNet_FMINST_0.pth:\n",
      "NMI:0.52011483902179\n",
      "CA:0.44421073717948717\n",
      "\n",
      "Run: 8\n",
      "RotNet/FMNIST/DEC_RotNet_FMINST_0.pth:\n",
      "NMI:0.5205905650959054\n",
      "CA:0.4440104166666667\n",
      "\n",
      "Run: 9\n",
      "RotNet/FMNIST/DEC_RotNet_FMINST_0.pth:\n",
      "NMI:0.5109040502420529\n",
      "CA:0.4049479166666667\n",
      "\n",
      "RotNet/FMNIST/DEC_RotNet_FMINST_1.pth\n"
     ]
    },
    {
     "name": "stderr",
     "output_type": "stream",
     "text": [
      "D:\\everything\\Studium\\WS2020\\Bachelor\\dcl_b\\models\\dec\\DEC.py:11: UserWarning: To copy construct from a tensor, it is recommended to use sourceTensor.clone().detach() or sourceTensor.clone().detach().requires_grad_(True), rather than torch.tensor(sourceTensor).\n",
      "  self.centers = torch.nn.Parameter(torch.tensor(init_np_centers), requires_grad=True)\n"
     ]
    },
    {
     "name": "stdout",
     "output_type": "stream",
     "text": [
      "Run: 0\n",
      "RotNet/FMNIST/DEC_RotNet_FMINST_1.pth:\n",
      "NMI:0.5124410113755884\n",
      "CA:0.40705128205128205\n",
      "\n",
      "Run: 1\n",
      "RotNet/FMNIST/DEC_RotNet_FMINST_1.pth:\n",
      "NMI:0.5132735958565171\n",
      "CA:0.40795272435897434\n",
      "\n",
      "Run: 2\n",
      "RotNet/FMNIST/DEC_RotNet_FMINST_1.pth:\n",
      "NMI:0.5124848027065108\n",
      "CA:0.4065504807692308\n",
      "\n",
      "Run: 3\n",
      "RotNet/FMNIST/DEC_RotNet_FMINST_1.pth:\n",
      "NMI:0.5213424825719485\n",
      "CA:0.4441105769230769\n",
      "\n",
      "Run: 4\n",
      "RotNet/FMNIST/DEC_RotNet_FMINST_1.pth:\n",
      "NMI:0.5125709877792544\n",
      "CA:0.4072516025641026\n",
      "\n",
      "Run: 5\n",
      "RotNet/FMNIST/DEC_RotNet_FMINST_1.pth:\n",
      "NMI:0.5130170298196638\n",
      "CA:0.4074519230769231\n",
      "\n",
      "Run: 6\n",
      "RotNet/FMNIST/DEC_RotNet_FMINST_1.pth:\n",
      "NMI:0.5214905221363141\n",
      "CA:0.4443108974358974\n",
      "\n",
      "Run: 7\n",
      "RotNet/FMNIST/DEC_RotNet_FMINST_1.pth:\n",
      "NMI:0.5123637200902981\n",
      "CA:0.40645032051282054\n",
      "\n",
      "Run: 8\n",
      "RotNet/FMNIST/DEC_RotNet_FMINST_1.pth:\n",
      "NMI:0.5214418420514535\n",
      "CA:0.4437099358974359\n",
      "\n",
      "Run: 9\n",
      "RotNet/FMNIST/DEC_RotNet_FMINST_1.pth:\n",
      "NMI:0.5212974930574278\n",
      "CA:0.44421073717948717\n",
      "\n",
      "RotNet/FMNIST/DEC_RotNet_FMINST_2.pth\n"
     ]
    },
    {
     "name": "stderr",
     "output_type": "stream",
     "text": [
      "D:\\everything\\Studium\\WS2020\\Bachelor\\dcl_b\\models\\dec\\DEC.py:11: UserWarning: To copy construct from a tensor, it is recommended to use sourceTensor.clone().detach() or sourceTensor.clone().detach().requires_grad_(True), rather than torch.tensor(sourceTensor).\n",
      "  self.centers = torch.nn.Parameter(torch.tensor(init_np_centers), requires_grad=True)\n"
     ]
    },
    {
     "name": "stdout",
     "output_type": "stream",
     "text": [
      "Run: 0\n",
      "RotNet/FMNIST/DEC_RotNet_FMINST_2.pth:\n",
      "NMI:0.4992182172784722\n",
      "CA:0.4026442307692308\n",
      "\n",
      "Run: 1\n",
      "RotNet/FMNIST/DEC_RotNet_FMINST_2.pth:\n",
      "NMI:0.5049394313240794\n",
      "CA:0.418369391025641\n",
      "\n",
      "Run: 2\n",
      "RotNet/FMNIST/DEC_RotNet_FMINST_2.pth:\n",
      "NMI:0.5049251854125774\n",
      "CA:0.4182692307692308\n",
      "\n",
      "Run: 3\n",
      "RotNet/FMNIST/DEC_RotNet_FMINST_2.pth:\n",
      "NMI:0.49891850827890677\n",
      "CA:0.402744391025641\n",
      "\n",
      "Run: 4\n",
      "RotNet/FMNIST/DEC_RotNet_FMINST_2.pth:\n",
      "NMI:0.5047164192560829\n",
      "CA:0.418369391025641\n",
      "\n",
      "Run: 5\n",
      "RotNet/FMNIST/DEC_RotNet_FMINST_2.pth:\n",
      "NMI:0.5051944266680105\n",
      "CA:0.398036858974359\n",
      "\n",
      "Run: 6\n",
      "RotNet/FMNIST/DEC_RotNet_FMINST_2.pth:\n",
      "NMI:0.4984451698641219\n",
      "CA:0.40294471153846156\n",
      "\n",
      "Run: 7\n",
      "RotNet/FMNIST/DEC_RotNet_FMINST_2.pth:\n",
      "NMI:0.5048888944246762\n",
      "CA:0.41816907051282054\n",
      "\n",
      "Run: 8\n",
      "RotNet/FMNIST/DEC_RotNet_FMINST_2.pth:\n",
      "NMI:0.5046024562702965\n",
      "CA:0.41816907051282054\n",
      "\n",
      "Run: 9\n",
      "RotNet/FMNIST/DEC_RotNet_FMINST_2.pth:\n",
      "NMI:0.4988915745933595\n",
      "CA:0.402744391025641\n",
      "\n",
      "RotNet/FMNIST/DEC_RotNet_FMINST_3.pth\n"
     ]
    },
    {
     "name": "stderr",
     "output_type": "stream",
     "text": [
      "D:\\everything\\Studium\\WS2020\\Bachelor\\dcl_b\\models\\dec\\DEC.py:11: UserWarning: To copy construct from a tensor, it is recommended to use sourceTensor.clone().detach() or sourceTensor.clone().detach().requires_grad_(True), rather than torch.tensor(sourceTensor).\n",
      "  self.centers = torch.nn.Parameter(torch.tensor(init_np_centers), requires_grad=True)\n"
     ]
    },
    {
     "name": "stdout",
     "output_type": "stream",
     "text": [
      "Run: 0\n",
      "RotNet/FMNIST/DEC_RotNet_FMINST_3.pth:\n",
      "NMI:0.4740521758951735\n",
      "CA:0.3984375\n",
      "\n",
      "Run: 1\n",
      "RotNet/FMNIST/DEC_RotNet_FMINST_3.pth:\n",
      "NMI:0.4739263270253726\n",
      "CA:0.3977363782051282\n",
      "\n",
      "Run: 2\n",
      "RotNet/FMNIST/DEC_RotNet_FMINST_3.pth:\n",
      "NMI:0.4729529179370591\n",
      "CA:0.398036858974359\n",
      "\n",
      "Run: 3\n",
      "RotNet/FMNIST/DEC_RotNet_FMINST_3.pth:\n",
      "NMI:0.4741493867930161\n",
      "CA:0.3987379807692308\n",
      "\n",
      "Run: 4\n",
      "RotNet/FMNIST/DEC_RotNet_FMINST_3.pth:\n",
      "NMI:0.47326390573961463\n",
      "CA:0.39763621794871795\n",
      "\n",
      "Run: 5\n",
      "RotNet/FMNIST/DEC_RotNet_FMINST_3.pth:\n",
      "NMI:0.47378113873356315\n",
      "CA:0.3981370192307692\n",
      "\n",
      "Run: 6\n",
      "RotNet/FMNIST/DEC_RotNet_FMINST_3.pth:\n",
      "NMI:0.473104537732523\n",
      "CA:0.398036858974359\n",
      "\n",
      "Run: 7\n",
      "RotNet/FMNIST/DEC_RotNet_FMINST_3.pth:\n",
      "NMI:0.4729523606534087\n",
      "CA:0.39793669871794873\n",
      "\n",
      "Run: 8\n",
      "RotNet/FMNIST/DEC_RotNet_FMINST_3.pth:\n",
      "NMI:0.47295789022186624\n",
      "CA:0.398036858974359\n",
      "\n",
      "Run: 9\n",
      "RotNet/FMNIST/DEC_RotNet_FMINST_3.pth:\n",
      "NMI:0.4730804011085234\n",
      "CA:0.398036858974359\n",
      "\n",
      "RotNet/FMNIST/DEC_RotNet_FMINST_4.pth\n"
     ]
    },
    {
     "name": "stderr",
     "output_type": "stream",
     "text": [
      "D:\\everything\\Studium\\WS2020\\Bachelor\\dcl_b\\models\\dec\\DEC.py:11: UserWarning: To copy construct from a tensor, it is recommended to use sourceTensor.clone().detach() or sourceTensor.clone().detach().requires_grad_(True), rather than torch.tensor(sourceTensor).\n",
      "  self.centers = torch.nn.Parameter(torch.tensor(init_np_centers), requires_grad=True)\n"
     ]
    },
    {
     "name": "stdout",
     "output_type": "stream",
     "text": [
      "Run: 0\n",
      "RotNet/FMNIST/DEC_RotNet_FMINST_4.pth:\n",
      "NMI:0.49006586795215407\n",
      "CA:0.3851161858974359\n",
      "\n",
      "Run: 1\n",
      "RotNet/FMNIST/DEC_RotNet_FMINST_4.pth:\n",
      "NMI:0.4905117104395257\n",
      "CA:0.3844150641025641\n",
      "\n",
      "Run: 2\n",
      "RotNet/FMNIST/DEC_RotNet_FMINST_4.pth:\n",
      "NMI:0.49065347676371\n",
      "CA:0.3858173076923077\n",
      "\n",
      "Run: 3\n",
      "RotNet/FMNIST/DEC_RotNet_FMINST_4.pth:\n",
      "NMI:0.48914137601306296\n",
      "CA:0.3808092948717949\n",
      "\n",
      "Run: 4\n",
      "RotNet/FMNIST/DEC_RotNet_FMINST_4.pth:\n",
      "NMI:0.48967150540328014\n",
      "CA:0.38501602564102566\n",
      "\n",
      "Run: 5\n",
      "RotNet/FMNIST/DEC_RotNet_FMINST_4.pth:\n",
      "NMI:0.4871928287103092\n",
      "CA:0.3639823717948718\n",
      "\n",
      "Run: 6\n",
      "RotNet/FMNIST/DEC_RotNet_FMINST_4.pth:\n",
      "NMI:0.4864524820003454\n",
      "CA:0.3602764423076923\n",
      "\n",
      "Run: 7\n",
      "RotNet/FMNIST/DEC_RotNet_FMINST_4.pth:\n",
      "NMI:0.4901313014148745\n",
      "CA:0.3844150641025641\n",
      "\n",
      "Run: 8\n",
      "RotNet/FMNIST/DEC_RotNet_FMINST_4.pth:\n",
      "NMI:0.48759157528315167\n",
      "CA:0.36438301282051283\n",
      "\n",
      "Run: 9\n",
      "RotNet/FMNIST/DEC_RotNet_FMINST_4.pth:\n",
      "NMI:0.48758841276407444\n",
      "CA:0.36498397435897434\n",
      "\n",
      "RotNet/FMNIST/DEC_RotNet_FMINST_5.pth\n"
     ]
    },
    {
     "name": "stderr",
     "output_type": "stream",
     "text": [
      "D:\\everything\\Studium\\WS2020\\Bachelor\\dcl_b\\models\\dec\\DEC.py:11: UserWarning: To copy construct from a tensor, it is recommended to use sourceTensor.clone().detach() or sourceTensor.clone().detach().requires_grad_(True), rather than torch.tensor(sourceTensor).\n",
      "  self.centers = torch.nn.Parameter(torch.tensor(init_np_centers), requires_grad=True)\n"
     ]
    },
    {
     "name": "stdout",
     "output_type": "stream",
     "text": [
      "Run: 0\n",
      "RotNet/FMNIST/DEC_RotNet_FMINST_5.pth:\n",
      "NMI:0.5316469334504155\n",
      "CA:0.40805288461538464\n",
      "\n",
      "Run: 1\n",
      "RotNet/FMNIST/DEC_RotNet_FMINST_5.pth:\n",
      "NMI:0.5318720595150951\n",
      "CA:0.4085536858974359\n",
      "\n",
      "Run: 2\n",
      "RotNet/FMNIST/DEC_RotNet_FMINST_5.pth:\n",
      "NMI:0.5428561891851108\n",
      "CA:0.40965544871794873\n",
      "\n",
      "Run: 3\n",
      "RotNet/FMNIST/DEC_RotNet_FMINST_5.pth:\n",
      "NMI:0.5430367355417106\n",
      "CA:0.40995592948717946\n",
      "\n",
      "Run: 4\n",
      "RotNet/FMNIST/DEC_RotNet_FMINST_5.pth:\n",
      "NMI:0.5320851785885464\n",
      "CA:0.4088541666666667\n",
      "\n",
      "Run: 5\n",
      "RotNet/FMNIST/DEC_RotNet_FMINST_5.pth:\n",
      "NMI:0.5317291560550744\n",
      "CA:0.40865384615384615\n",
      "\n",
      "Run: 6\n",
      "RotNet/FMNIST/DEC_RotNet_FMINST_5.pth:\n",
      "NMI:0.5399839415052222\n",
      "CA:0.39463141025641024\n",
      "\n",
      "Run: 7\n",
      "RotNet/FMNIST/DEC_RotNet_FMINST_5.pth:\n",
      "NMI:0.5395338637360112\n",
      "CA:0.3952323717948718\n",
      "\n",
      "Run: 8\n",
      "RotNet/FMNIST/DEC_RotNet_FMINST_5.pth:\n",
      "NMI:0.5318137389540714\n",
      "CA:0.40905448717948717\n",
      "\n",
      "Run: 9\n",
      "RotNet/FMNIST/DEC_RotNet_FMINST_5.pth:\n",
      "NMI:0.5310274270792134\n",
      "CA:0.4087540064102564\n",
      "\n",
      "RotNet/FMNIST/DEC_RotNet_FMINST_6.pth\n"
     ]
    },
    {
     "name": "stderr",
     "output_type": "stream",
     "text": [
      "D:\\everything\\Studium\\WS2020\\Bachelor\\dcl_b\\models\\dec\\DEC.py:11: UserWarning: To copy construct from a tensor, it is recommended to use sourceTensor.clone().detach() or sourceTensor.clone().detach().requires_grad_(True), rather than torch.tensor(sourceTensor).\n",
      "  self.centers = torch.nn.Parameter(torch.tensor(init_np_centers), requires_grad=True)\n"
     ]
    },
    {
     "name": "stdout",
     "output_type": "stream",
     "text": [
      "Run: 0\n",
      "RotNet/FMNIST/DEC_RotNet_FMINST_6.pth:\n",
      "NMI:0.4740569975893971\n",
      "CA:0.38451522435897434\n",
      "\n",
      "Run: 1\n",
      "RotNet/FMNIST/DEC_RotNet_FMINST_6.pth:\n",
      "NMI:0.4746107117015851\n",
      "CA:0.3860176282051282\n",
      "\n",
      "Run: 2\n",
      "RotNet/FMNIST/DEC_RotNet_FMINST_6.pth:\n",
      "NMI:0.4681656854596609\n",
      "CA:0.36548477564102566\n",
      "\n",
      "Run: 3\n",
      "RotNet/FMNIST/DEC_RotNet_FMINST_6.pth:\n",
      "NMI:0.47474778625770575\n",
      "CA:0.37650240384615385\n",
      "\n",
      "Run: 4\n",
      "RotNet/FMNIST/DEC_RotNet_FMINST_6.pth:\n",
      "NMI:0.4743749595541032\n",
      "CA:0.38561698717948717\n",
      "\n",
      "Run: 5\n",
      "RotNet/FMNIST/DEC_RotNet_FMINST_6.pth:\n",
      "NMI:0.47437701178148595\n",
      "CA:0.38521634615384615\n",
      "\n",
      "Run: 6\n",
      "RotNet/FMNIST/DEC_RotNet_FMINST_6.pth:\n",
      "NMI:0.474939683174093\n",
      "CA:0.37650240384615385\n",
      "\n",
      "Run: 7\n",
      "RotNet/FMNIST/DEC_RotNet_FMINST_6.pth:\n",
      "NMI:0.4749894273044162\n",
      "CA:0.3769030448717949\n",
      "\n",
      "Run: 8\n",
      "RotNet/FMNIST/DEC_RotNet_FMINST_6.pth:\n",
      "NMI:0.4740418025587962\n",
      "CA:0.3844150641025641\n",
      "\n",
      "Run: 9\n",
      "RotNet/FMNIST/DEC_RotNet_FMINST_6.pth:\n",
      "NMI:0.4751250430910765\n",
      "CA:0.37670272435897434\n",
      "\n",
      "RotNet/FMNIST/DEC_RotNet_FMINST_7.pth\n"
     ]
    },
    {
     "name": "stderr",
     "output_type": "stream",
     "text": [
      "D:\\everything\\Studium\\WS2020\\Bachelor\\dcl_b\\models\\dec\\DEC.py:11: UserWarning: To copy construct from a tensor, it is recommended to use sourceTensor.clone().detach() or sourceTensor.clone().detach().requires_grad_(True), rather than torch.tensor(sourceTensor).\n",
      "  self.centers = torch.nn.Parameter(torch.tensor(init_np_centers), requires_grad=True)\n"
     ]
    },
    {
     "name": "stdout",
     "output_type": "stream",
     "text": [
      "Run: 0\n",
      "RotNet/FMNIST/DEC_RotNet_FMINST_7.pth:\n",
      "NMI:0.47960613051607526\n",
      "CA:0.36548477564102566\n",
      "\n",
      "Run: 1\n",
      "RotNet/FMNIST/DEC_RotNet_FMINST_7.pth:\n",
      "NMI:0.47888011026329014\n",
      "CA:0.36698717948717946\n",
      "\n",
      "Run: 2\n",
      "RotNet/FMNIST/DEC_RotNet_FMINST_7.pth:\n",
      "NMI:0.4779881786541113\n",
      "CA:0.38752003205128205\n",
      "\n",
      "Run: 3\n",
      "RotNet/FMNIST/DEC_RotNet_FMINST_7.pth:\n",
      "NMI:0.4789982330879156\n",
      "CA:0.36658653846153844\n",
      "\n",
      "Run: 4\n",
      "RotNet/FMNIST/DEC_RotNet_FMINST_7.pth:\n",
      "NMI:0.4860081751849253\n",
      "CA:0.39693509615384615\n",
      "\n",
      "Run: 5\n",
      "RotNet/FMNIST/DEC_RotNet_FMINST_7.pth:\n",
      "NMI:0.4833048239148344\n",
      "CA:0.38912259615384615\n",
      "\n",
      "Run: 6\n",
      "RotNet/FMNIST/DEC_RotNet_FMINST_7.pth:\n",
      "NMI:0.4859160725844688\n",
      "CA:0.3971354166666667\n",
      "\n",
      "Run: 7\n",
      "RotNet/FMNIST/DEC_RotNet_FMINST_7.pth:\n",
      "NMI:0.47967852992184745\n",
      "CA:0.3674879807692308\n",
      "\n",
      "Run: 8\n",
      "RotNet/FMNIST/DEC_RotNet_FMINST_7.pth:\n",
      "NMI:0.47916268802529965\n",
      "CA:0.36538461538461536\n",
      "\n",
      "Run: 9\n",
      "RotNet/FMNIST/DEC_RotNet_FMINST_7.pth:\n",
      "NMI:0.4791992670643614\n",
      "CA:0.3671875\n",
      "\n",
      "RotNet/FMNIST/DEC_RotNet_FMINST_8.pth\n"
     ]
    },
    {
     "name": "stderr",
     "output_type": "stream",
     "text": [
      "D:\\everything\\Studium\\WS2020\\Bachelor\\dcl_b\\models\\dec\\DEC.py:11: UserWarning: To copy construct from a tensor, it is recommended to use sourceTensor.clone().detach() or sourceTensor.clone().detach().requires_grad_(True), rather than torch.tensor(sourceTensor).\n",
      "  self.centers = torch.nn.Parameter(torch.tensor(init_np_centers), requires_grad=True)\n"
     ]
    },
    {
     "name": "stdout",
     "output_type": "stream",
     "text": [
      "Run: 0\n",
      "RotNet/FMNIST/DEC_RotNet_FMINST_8.pth:\n",
      "NMI:0.48866432025860684\n",
      "CA:0.40314503205128205\n",
      "\n",
      "Run: 1\n",
      "RotNet/FMNIST/DEC_RotNet_FMINST_8.pth:\n",
      "NMI:0.48480876009868623\n",
      "CA:0.39663461538461536\n",
      "\n",
      "Run: 2\n",
      "RotNet/FMNIST/DEC_RotNet_FMINST_8.pth:\n",
      "NMI:0.48818286294964197\n",
      "CA:0.38822115384615385\n",
      "\n",
      "Run: 3\n",
      "RotNet/FMNIST/DEC_RotNet_FMINST_8.pth:\n",
      "NMI:0.4820415414632958\n",
      "CA:0.38721955128205127\n",
      "\n",
      "Run: 4\n",
      "RotNet/FMNIST/DEC_RotNet_FMINST_8.pth:\n",
      "NMI:0.48222473149105854\n",
      "CA:0.38752003205128205\n",
      "\n",
      "Run: 5\n",
      "RotNet/FMNIST/DEC_RotNet_FMINST_8.pth:\n",
      "NMI:0.4830043031017925\n",
      "CA:0.38661858974358976\n",
      "\n",
      "Run: 6\n",
      "RotNet/FMNIST/DEC_RotNet_FMINST_8.pth:\n",
      "NMI:0.4849857729050275\n",
      "CA:0.3968349358974359\n",
      "\n",
      "Run: 7\n",
      "RotNet/FMNIST/DEC_RotNet_FMINST_8.pth:\n",
      "NMI:0.4879010036807052\n",
      "CA:0.3877203525641026\n",
      "\n",
      "Run: 8\n",
      "RotNet/FMNIST/DEC_RotNet_FMINST_8.pth:\n",
      "NMI:0.4838277238504005\n",
      "CA:0.3883213141025641\n",
      "\n",
      "Run: 9\n",
      "RotNet/FMNIST/DEC_RotNet_FMINST_8.pth:\n",
      "NMI:0.47959043279094615\n",
      "CA:0.3835136217948718\n",
      "\n",
      "RotNet/FMNIST/DEC_RotNet_FMINST_9.pth\n"
     ]
    },
    {
     "name": "stderr",
     "output_type": "stream",
     "text": [
      "D:\\everything\\Studium\\WS2020\\Bachelor\\dcl_b\\models\\dec\\DEC.py:11: UserWarning: To copy construct from a tensor, it is recommended to use sourceTensor.clone().detach() or sourceTensor.clone().detach().requires_grad_(True), rather than torch.tensor(sourceTensor).\n",
      "  self.centers = torch.nn.Parameter(torch.tensor(init_np_centers), requires_grad=True)\n"
     ]
    },
    {
     "name": "stdout",
     "output_type": "stream",
     "text": [
      "Run: 0\n",
      "RotNet/FMNIST/DEC_RotNet_FMINST_9.pth:\n",
      "NMI:0.4916008484599371\n",
      "CA:0.37710336538461536\n",
      "\n",
      "Run: 1\n",
      "RotNet/FMNIST/DEC_RotNet_FMINST_9.pth:\n",
      "NMI:0.4912402811214174\n",
      "CA:0.37670272435897434\n",
      "\n",
      "Run: 2\n",
      "RotNet/FMNIST/DEC_RotNet_FMINST_9.pth:\n",
      "NMI:0.49711932453488533\n",
      "CA:0.3931290064102564\n",
      "\n",
      "Run: 3\n",
      "RotNet/FMNIST/DEC_RotNet_FMINST_9.pth:\n",
      "NMI:0.4919030757139076\n",
      "CA:0.3773036858974359\n",
      "\n",
      "Run: 4\n",
      "RotNet/FMNIST/DEC_RotNet_FMINST_9.pth:\n",
      "NMI:0.49155225734537916\n",
      "CA:0.37680288461538464\n",
      "\n",
      "Run: 5\n",
      "RotNet/FMNIST/DEC_RotNet_FMINST_9.pth:\n",
      "NMI:0.4891165928011638\n",
      "CA:0.3773036858974359\n",
      "\n",
      "Run: 6\n",
      "RotNet/FMNIST/DEC_RotNet_FMINST_9.pth:\n",
      "NMI:0.4917237327428518\n",
      "CA:0.3775040064102564\n",
      "\n",
      "Run: 7\n",
      "RotNet/FMNIST/DEC_RotNet_FMINST_9.pth:\n",
      "NMI:0.49182758691221423\n",
      "CA:0.3776041666666667\n",
      "\n",
      "Run: 8\n",
      "RotNet/FMNIST/DEC_RotNet_FMINST_9.pth:\n",
      "NMI:0.49148185416325463\n",
      "CA:0.3776041666666667\n",
      "\n",
      "Run: 9\n",
      "RotNet/FMNIST/DEC_RotNet_FMINST_9.pth:\n",
      "NMI:0.49139039012489794\n",
      "CA:0.3777043269230769\n",
      "\n",
      "NMI mean: 0.4963\n",
      "NMI variance: 0.0205\n",
      "Cluser accuracy mean: 0.3959\n",
      "Cluser accuracy variance: 0.0181\n"
     ]
    }
   ],
   "source": [
    "df_nmis, df_cas = compute_everything(path_nmis, path_cas, model_name, fmnist_colors_classes, compute=True, dataset='FMNIST')"
   ]
  },
  {
   "cell_type": "markdown",
   "id": "functional-arthritis",
   "metadata": {},
   "source": [
    "## SimCLR"
   ]
  },
  {
   "cell_type": "markdown",
   "id": "universal-printer",
   "metadata": {},
   "source": [
    "### CIFAR: Pretraining"
   ]
  },
  {
   "cell_type": "code",
   "execution_count": 130,
   "id": "waiting-reverse",
   "metadata": {},
   "outputs": [],
   "source": [
    "path_nmis = 'trained_models/SimCLR/CIFAR/nmis.csv'\n",
    "path_cas = 'trained_models/SimCLR/CIFAR/cas.csv'"
   ]
  },
  {
   "cell_type": "markdown",
   "id": "finished-thriller",
   "metadata": {},
   "source": [
    "Uncomment this part to generate new NMI and cluster accuracies"
   ]
  },
  {
   "cell_type": "code",
   "execution_count": null,
   "id": "forbidden-meter",
   "metadata": {},
   "outputs": [],
   "source": [
    "# simclr_nmis_cifar, simclr_cas_cifar = get_nmis_and_cas_10_runs('SimCLR\\CIFAR\\pretrained_SimCLR', colors_classes, device)"
   ]
  },
  {
   "cell_type": "code",
   "execution_count": 24,
   "id": "effective-uganda",
   "metadata": {},
   "outputs": [],
   "source": [
    "# df_simclr_nmis_cifar = pd.DataFrame(simclr_nmis_cifar)\n",
    "# df_simclr_cas_cifar = pd.DataFrame(simclr_cas_cifar)"
   ]
  },
  {
   "cell_type": "code",
   "execution_count": 134,
   "id": "received-fraction",
   "metadata": {},
   "outputs": [],
   "source": [
    "# df_simclr_nmis_cifar.to_csv(path_nmis)\n",
    "# df_simclr_cas_cifar.to_csv(path_cas)"
   ]
  },
  {
   "cell_type": "code",
   "execution_count": 132,
   "id": "heavy-geneva",
   "metadata": {},
   "outputs": [],
   "source": [
    "df_simclr_nmis_cifar = pd.read_csv(path_nmis, index_col=0)\n",
    "df_simclr_cas_cifar = pd.read_csv(path_cas, index_col=0)"
   ]
  },
  {
   "cell_type": "code",
   "execution_count": 135,
   "id": "limited-fundamentals",
   "metadata": {},
   "outputs": [
    {
     "name": "stdout",
     "output_type": "stream",
     "text": [
      "NMI mean: 0.4724\n",
      "NMI variance: 0.0033\n"
     ]
    }
   ],
   "source": [
    "print_total_mean_and_var('NMI', df_simclr_nmis_cifar)"
   ]
  },
  {
   "cell_type": "code",
   "execution_count": 136,
   "id": "sunrise-beijing",
   "metadata": {},
   "outputs": [
    {
     "name": "stdout",
     "output_type": "stream",
     "text": [
      "Cluser accuracy mean: 0.5904\n",
      "Cluser accuracy variance: 0.0090\n"
     ]
    }
   ],
   "source": [
    "print_total_mean_and_var('Cluser accuracy', df_simclr_cas_cifar)"
   ]
  },
  {
   "cell_type": "code",
   "execution_count": 98,
   "id": "surrounded-effectiveness",
   "metadata": {},
   "outputs": [],
   "source": [
    "columns = [f'Run {i}' for i in range(10)]"
   ]
  },
  {
   "cell_type": "code",
   "execution_count": 133,
   "id": "changed-chorus",
   "metadata": {},
   "outputs": [],
   "source": [
    "df_simclr_nmis_cifar.columns = columns\n",
    "df_simclr_cas_cifar.columns = columns"
   ]
  },
  {
   "cell_type": "markdown",
   "id": "convertible-water",
   "metadata": {},
   "source": [
    "### CIFAR: +100 pretraining"
   ]
  },
  {
   "cell_type": "code",
   "execution_count": 22,
   "id": "positive-meter",
   "metadata": {},
   "outputs": [],
   "source": [
    "path_nmis = 'trained_models/SimCLR/CIFAR/nmis_100.csv'\n",
    "path_cas = 'trained_models/SimCLR/CIFAR/cas_100.csv'\n",
    "model_name = 'SimCLR/CIFAR/pretrained_SimCLR_100_CIFAR'"
   ]
  },
  {
   "cell_type": "code",
   "execution_count": 33,
   "id": "independent-genius",
   "metadata": {},
   "outputs": [
    {
     "name": "stdout",
     "output_type": "stream",
     "text": [
      "NMI mean: 0.4905\n",
      "NMI variance: 0.0105\n",
      "Cluser accuracy mean: 0.6106\n",
      "Cluser accuracy variance: 0.0266\n"
     ]
    }
   ],
   "source": [
    "df_nmis_100, df_cas_100 = compute_everything(path_nmis, path_cas, model_name, cifar_colors_classes, compute=False)"
   ]
  },
  {
   "cell_type": "code",
   "execution_count": 37,
   "id": "naked-teaching",
   "metadata": {},
   "outputs": [],
   "source": [
    "def compute_everything(path_nmis, path_cas, model_name, colors_classes, compute=True, dataset='CIFAR'):\n",
    "    if compute: \n",
    "        simclr_nmis_cifar_idec, simclr_cas_cifar_idec = get_nmis_and_cas_10_runs(model_name, colors_classes, device, dataset=dataset)\n",
    "\n",
    "        df_simclr_nmis_cifar_idec = pd.DataFrame(simclr_nmis_cifar_idec)\n",
    "        df_simclr_cas_cifar_idec = pd.DataFrame(simclr_cas_cifar_idec)\n",
    "        \n",
    "        df_simclr_nmis_cifar_idec.to_csv(path_nmis)\n",
    "        df_simclr_cas_cifar_idec.to_csv(path_cas)\n",
    "    \n",
    "    df_simclr_nmis_cifar_idec = pd.read_csv(path_nmis, index_col=0)\n",
    "    df_simclr_cas_cifar_idec = pd.read_csv(path_cas, index_col=0)\n",
    "\n",
    "    print_total_mean_and_var('NMI', df_simclr_nmis_cifar_idec)\n",
    "    print_total_mean_and_var('Cluser accuracy', df_simclr_cas_cifar_idec)\n",
    "    \n",
    "    return df_simclr_nmis_cifar_idec, df_simclr_cas_cifar_idec"
   ]
  },
  {
   "cell_type": "markdown",
   "id": "cleared-philippines",
   "metadata": {},
   "source": [
    "### CIFAR: IDEC"
   ]
  },
  {
   "cell_type": "code",
   "execution_count": 137,
   "id": "demographic-refund",
   "metadata": {},
   "outputs": [],
   "source": [
    "path_nmis = 'trained_models/SimCLR/CIFAR/nmis_idec.csv'\n",
    "path_cas = 'trained_models/SimCLR/CIFAR/cas_idec.csv'"
   ]
  },
  {
   "cell_type": "markdown",
   "id": "frank-islam",
   "metadata": {},
   "source": [
    "Uncomment this part to generate new NMI and cluster accuracies"
   ]
  },
  {
   "cell_type": "code",
   "execution_count": null,
   "id": "described-canyon",
   "metadata": {},
   "outputs": [],
   "source": [
    "# simclr_nmis_cifar_idec, simclr_cas_cifar_idec = get_nmis_and_cas_10_runs('SimCLR\\CIFAR\\IDEC_SimCLR', colors_classes, device)"
   ]
  },
  {
   "cell_type": "code",
   "execution_count": 27,
   "id": "widespread-satellite",
   "metadata": {},
   "outputs": [],
   "source": [
    "# df_simclr_nmis_cifar_idec = pd.DataFrame(simclr_nmis_cifar_idec)\n",
    "# df_simclr_cas_cifar_idec = pd.DataFrame(simclr_cas_cifar_idec)"
   ]
  },
  {
   "cell_type": "code",
   "execution_count": 141,
   "id": "robust-sphere",
   "metadata": {},
   "outputs": [],
   "source": [
    "# df_simclr_nmis_cifar_idec.to_csv(path_nmis)\n",
    "# df_simclr_cas_cifar_idec.to_csv(path_cas)"
   ]
  },
  {
   "cell_type": "code",
   "execution_count": 138,
   "id": "neither-ontario",
   "metadata": {},
   "outputs": [],
   "source": [
    "df_simclr_nmis_cifar_idec = pd.read_csv(path_nmis, index_col=0)\n",
    "df_simclr_cas_cifar_idec = pd.read_csv(path_cas, index_col=0)"
   ]
  },
  {
   "cell_type": "code",
   "execution_count": 142,
   "id": "incorporated-despite",
   "metadata": {},
   "outputs": [
    {
     "name": "stdout",
     "output_type": "stream",
     "text": [
      "NMI mean: 0.5569\n",
      "NMI variance: 0.0001\n"
     ]
    }
   ],
   "source": [
    "print_total_mean_and_var('NMI', df_simclr_nmis_cifar_idec)"
   ]
  },
  {
   "cell_type": "code",
   "execution_count": 143,
   "id": "knowing-boards",
   "metadata": {},
   "outputs": [
    {
     "name": "stdout",
     "output_type": "stream",
     "text": [
      "Cluser accuracy mean: 0.6576\n",
      "Cluser accuracy variance: 0.0000\n"
     ]
    }
   ],
   "source": [
    "print_total_mean_and_var('Cluser accuracy', df_simclr_cas_cifar_idec)"
   ]
  },
  {
   "cell_type": "markdown",
   "id": "stopped-mountain",
   "metadata": {},
   "source": [
    "### STL10: Pretraining"
   ]
  },
  {
   "cell_type": "code",
   "execution_count": 46,
   "id": "brutal-flower",
   "metadata": {},
   "outputs": [],
   "source": [
    "path_nmis = 'trained_models/SimCLR/STL10/nmis.csv'\n",
    "path_cas = 'trained_models/SimCLR/STL10/cas.csv'"
   ]
  },
  {
   "cell_type": "markdown",
   "id": "stable-holmes",
   "metadata": {},
   "source": [
    "Uncomment this part to generate new NMI and cluster accuracies"
   ]
  },
  {
   "cell_type": "code",
   "execution_count": null,
   "id": "bright-primary",
   "metadata": {},
   "outputs": [],
   "source": [
    "simclr_nmis_stl10, simclr_cas_stl10 = get_nmis_and_cas_10_runs('SimCLR\\STL10\\pretrained_SimCLR_STL10', stl10_colors_classes, device, dataset='STL10')"
   ]
  },
  {
   "cell_type": "code",
   "execution_count": 48,
   "id": "pressed-norfolk",
   "metadata": {},
   "outputs": [],
   "source": [
    "df_simclr_nmis_stl10 = pd.DataFrame(simclr_nmis_stl10)\n",
    "df_simclr_cas_stl0 = pd.DataFrame(simclr_cas_stl10)"
   ]
  },
  {
   "cell_type": "code",
   "execution_count": 49,
   "id": "contrary-singer",
   "metadata": {},
   "outputs": [],
   "source": [
    "df_simclr_nmis_stl10.to_csv(path_nmis)\n",
    "df_simclr_cas_stl0.to_csv(path_cas)"
   ]
  },
  {
   "cell_type": "code",
   "execution_count": 50,
   "id": "mature-swift",
   "metadata": {},
   "outputs": [],
   "source": [
    "df_simclr_nmis_stl10 = pd.read_csv(path_nmis, index_col=0)\n",
    "df_simclr_cas_stl0 = pd.read_csv(path_cas, index_col=0)"
   ]
  },
  {
   "cell_type": "code",
   "execution_count": 51,
   "id": "comic-criterion",
   "metadata": {},
   "outputs": [
    {
     "name": "stdout",
     "output_type": "stream",
     "text": [
      "NMI mean: 0.3502\n",
      "NMI variance: 0.0015\n"
     ]
    }
   ],
   "source": [
    "print_total_mean_and_var('NMI', df_simclr_nmis_stl10)"
   ]
  },
  {
   "cell_type": "code",
   "execution_count": 52,
   "id": "peaceful-password",
   "metadata": {},
   "outputs": [
    {
     "name": "stdout",
     "output_type": "stream",
     "text": [
      "Cluser accuracy mean: 0.4114\n",
      "Cluser accuracy variance: 0.0051\n"
     ]
    }
   ],
   "source": [
    "print_total_mean_and_var('Cluser accuracy', df_simclr_cas_stl0)"
   ]
  },
  {
   "cell_type": "markdown",
   "id": "loose-vampire",
   "metadata": {},
   "source": [
    "### STL10: +100 Pretraining"
   ]
  },
  {
   "cell_type": "code",
   "execution_count": 65,
   "id": "based-plane",
   "metadata": {},
   "outputs": [],
   "source": [
    "path_nmis = 'trained_models/SimCLR/STL10/nmis_100.csv'\n",
    "path_cas = 'trained_models/SimCLR/STL10/cas_100.csv'\n",
    "model_name = 'SimCLR/STL10/pretrained_SimCLR_100_STL10'"
   ]
  },
  {
   "cell_type": "code",
   "execution_count": 66,
   "id": "handmade-demonstration",
   "metadata": {},
   "outputs": [
    {
     "name": "stdout",
     "output_type": "stream",
     "text": [
      "SimCLR/STL10/pretrained_SimCLR_100_STL10_0.pth\n",
      "Run: 0\n",
      "SimCLR/STL10/pretrained_SimCLR_100_STL10_0.pth:\n",
      "NMI:0.3569698345805579\n",
      "CA:0.4264112903225806\n",
      "\n",
      "Run: 1\n",
      "SimCLR/STL10/pretrained_SimCLR_100_STL10_0.pth:\n",
      "NMI:0.3508253159846291\n",
      "CA:0.4261592741935484\n",
      "\n",
      "Run: 2\n",
      "SimCLR/STL10/pretrained_SimCLR_100_STL10_0.pth:\n",
      "NMI:0.35745604466282127\n",
      "CA:0.41822076612903225\n",
      "\n",
      "Run: 3\n",
      "SimCLR/STL10/pretrained_SimCLR_100_STL10_0.pth:\n",
      "NMI:0.3537210088397678\n",
      "CA:0.39742943548387094\n",
      "\n",
      "Run: 4\n",
      "SimCLR/STL10/pretrained_SimCLR_100_STL10_0.pth:\n",
      "NMI:0.3684602545190243\n",
      "CA:0.4592993951612903\n",
      "\n",
      "Run: 5\n",
      "SimCLR/STL10/pretrained_SimCLR_100_STL10_0.pth:\n",
      "NMI:0.35942969557192095\n",
      "CA:0.39591733870967744\n",
      "\n",
      "Run: 6\n",
      "SimCLR/STL10/pretrained_SimCLR_100_STL10_0.pth:\n",
      "NMI:0.3533192995519575\n",
      "CA:0.4112903225806452\n",
      "\n",
      "Run: 7\n",
      "SimCLR/STL10/pretrained_SimCLR_100_STL10_0.pth:\n",
      "NMI:0.35090527296537494\n",
      "CA:0.3897429435483871\n",
      "\n",
      "Run: 8\n",
      "SimCLR/STL10/pretrained_SimCLR_100_STL10_0.pth:\n",
      "NMI:0.35455645591602863\n",
      "CA:0.4122983870967742\n",
      "\n",
      "Run: 9\n",
      "SimCLR/STL10/pretrained_SimCLR_100_STL10_0.pth:\n",
      "NMI:0.3587100657035386\n",
      "CA:0.4301915322580645\n",
      "\n",
      "SimCLR/STL10/pretrained_SimCLR_100_STL10_2.pth\n",
      "Run: 0\n",
      "SimCLR/STL10/pretrained_SimCLR_100_STL10_2.pth:\n",
      "NMI:0.3623310977498198\n",
      "CA:0.4264112903225806\n",
      "\n",
      "Run: 1\n",
      "SimCLR/STL10/pretrained_SimCLR_100_STL10_2.pth:\n",
      "NMI:0.3619579673267429\n",
      "CA:0.4410282258064516\n",
      "\n",
      "Run: 2\n",
      "SimCLR/STL10/pretrained_SimCLR_100_STL10_2.pth:\n",
      "NMI:0.34962970435265256\n",
      "CA:0.39553931451612906\n",
      "\n",
      "Run: 3\n",
      "SimCLR/STL10/pretrained_SimCLR_100_STL10_2.pth:\n",
      "NMI:0.36157963599960186\n",
      "CA:0.4369959677419355\n",
      "\n",
      "Run: 4\n",
      "SimCLR/STL10/pretrained_SimCLR_100_STL10_2.pth:\n",
      "NMI:0.3617119382638091\n",
      "CA:0.43598790322580644\n",
      "\n",
      "Run: 5\n",
      "SimCLR/STL10/pretrained_SimCLR_100_STL10_2.pth:\n",
      "NMI:0.3449198626651243\n",
      "CA:0.39642137096774194\n",
      "\n",
      "Run: 6\n",
      "SimCLR/STL10/pretrained_SimCLR_100_STL10_2.pth:\n",
      "NMI:0.3616349296714386\n",
      "CA:0.4340977822580645\n",
      "\n",
      "Run: 7\n",
      "SimCLR/STL10/pretrained_SimCLR_100_STL10_2.pth:\n",
      "NMI:0.36399644976173534\n",
      "CA:0.43560987903225806\n",
      "\n",
      "Run: 8\n",
      "SimCLR/STL10/pretrained_SimCLR_100_STL10_2.pth:\n",
      "NMI:0.348826129847726\n",
      "CA:0.39692540322580644\n",
      "\n",
      "Run: 9\n",
      "SimCLR/STL10/pretrained_SimCLR_100_STL10_2.pth:\n",
      "NMI:0.35805854022387884\n",
      "CA:0.42477318548387094\n",
      "\n",
      "SimCLR/STL10/pretrained_SimCLR_100_STL10_3.pth\n",
      "Run: 0\n",
      "SimCLR/STL10/pretrained_SimCLR_100_STL10_3.pth:\n",
      "NMI:0.3422191702586729\n",
      "CA:0.38860887096774194\n",
      "\n",
      "Run: 1\n",
      "SimCLR/STL10/pretrained_SimCLR_100_STL10_3.pth:\n",
      "NMI:0.3433728904600927\n",
      "CA:0.3989415322580645\n",
      "\n",
      "Run: 2\n",
      "SimCLR/STL10/pretrained_SimCLR_100_STL10_3.pth:\n",
      "NMI:0.34690179169455304\n",
      "CA:0.39528729838709675\n",
      "\n",
      "Run: 3\n",
      "SimCLR/STL10/pretrained_SimCLR_100_STL10_3.pth:\n",
      "NMI:0.3478368675714752\n",
      "CA:0.3978074596774194\n",
      "\n",
      "Run: 4\n",
      "SimCLR/STL10/pretrained_SimCLR_100_STL10_3.pth:\n",
      "NMI:0.3594333380218385\n",
      "CA:0.4252772177419355\n",
      "\n",
      "Run: 5\n",
      "SimCLR/STL10/pretrained_SimCLR_100_STL10_3.pth:\n",
      "NMI:0.3556034126265871\n",
      "CA:0.42578125\n",
      "\n",
      "Run: 6\n",
      "SimCLR/STL10/pretrained_SimCLR_100_STL10_3.pth:\n",
      "NMI:0.34503942727308845\n",
      "CA:0.40045362903225806\n",
      "\n",
      "Run: 7\n",
      "SimCLR/STL10/pretrained_SimCLR_100_STL10_3.pth:\n",
      "NMI:0.34208059061474194\n",
      "CA:0.39037298387096775\n",
      "\n",
      "Run: 8\n",
      "SimCLR/STL10/pretrained_SimCLR_100_STL10_3.pth:\n",
      "NMI:0.34902675166429303\n",
      "CA:0.39264112903225806\n",
      "\n",
      "Run: 9\n",
      "SimCLR/STL10/pretrained_SimCLR_100_STL10_3.pth:\n",
      "NMI:0.34375206815661274\n",
      "CA:0.3855846774193548\n",
      "\n",
      "SimCLR/STL10/pretrained_SimCLR_100_STL10_4.pth\n",
      "Run: 0\n",
      "SimCLR/STL10/pretrained_SimCLR_100_STL10_4.pth:\n",
      "NMI:0.34185209196516897\n",
      "CA:0.37865423387096775\n",
      "\n",
      "Run: 1\n",
      "SimCLR/STL10/pretrained_SimCLR_100_STL10_4.pth:\n",
      "NMI:0.3409061865105719\n",
      "CA:0.37298387096774194\n",
      "\n",
      "Run: 2\n",
      "SimCLR/STL10/pretrained_SimCLR_100_STL10_4.pth:\n",
      "NMI:0.3435099698367674\n",
      "CA:0.37739415322580644\n",
      "\n",
      "Run: 3\n",
      "SimCLR/STL10/pretrained_SimCLR_100_STL10_4.pth:\n",
      "NMI:0.34945580610448607\n",
      "CA:0.390625\n",
      "\n",
      "Run: 4\n",
      "SimCLR/STL10/pretrained_SimCLR_100_STL10_4.pth:\n",
      "NMI:0.34236817280481513\n",
      "CA:0.37474798387096775\n",
      "\n",
      "Run: 5\n",
      "SimCLR/STL10/pretrained_SimCLR_100_STL10_4.pth:\n",
      "NMI:0.344851942699054\n",
      "CA:0.37966229838709675\n",
      "\n",
      "Run: 6\n",
      "SimCLR/STL10/pretrained_SimCLR_100_STL10_4.pth:\n",
      "NMI:0.3453883732599255\n",
      "CA:0.38911290322580644\n",
      "\n",
      "Run: 7\n",
      "SimCLR/STL10/pretrained_SimCLR_100_STL10_4.pth:\n",
      "NMI:0.3444095121102732\n",
      "CA:0.37310987903225806\n",
      "\n",
      "Run: 8\n",
      "SimCLR/STL10/pretrained_SimCLR_100_STL10_4.pth:\n",
      "NMI:0.3470590729163243\n",
      "CA:0.3772681451612903\n",
      "\n",
      "Run: 9\n",
      "SimCLR/STL10/pretrained_SimCLR_100_STL10_4.pth:\n",
      "NMI:0.34201726209245753\n",
      "CA:0.3792842741935484\n",
      "\n",
      "SimCLR/STL10/pretrained_SimCLR_100_STL10_5.pth\n",
      "Run: 0\n",
      "SimCLR/STL10/pretrained_SimCLR_100_STL10_5.pth:\n",
      "NMI:0.35154436185552285\n",
      "CA:0.4252772177419355\n",
      "\n",
      "Run: 1\n",
      "SimCLR/STL10/pretrained_SimCLR_100_STL10_5.pth:\n",
      "NMI:0.34923507710826374\n",
      "CA:0.4301915322580645\n",
      "\n",
      "Run: 2\n",
      "SimCLR/STL10/pretrained_SimCLR_100_STL10_5.pth:\n",
      "NMI:0.35721340817290076\n",
      "CA:0.43069556451612906\n",
      "\n",
      "Run: 3\n",
      "SimCLR/STL10/pretrained_SimCLR_100_STL10_5.pth:\n",
      "NMI:0.352502185973027\n",
      "CA:0.43119959677419356\n",
      "\n",
      "Run: 4\n",
      "SimCLR/STL10/pretrained_SimCLR_100_STL10_5.pth:\n",
      "NMI:0.35298278412962225\n",
      "CA:0.4284274193548387\n",
      "\n",
      "Run: 5\n",
      "SimCLR/STL10/pretrained_SimCLR_100_STL10_5.pth:\n",
      "NMI:0.3512958069895642\n",
      "CA:0.4261592741935484\n",
      "\n",
      "Run: 6\n",
      "SimCLR/STL10/pretrained_SimCLR_100_STL10_5.pth:\n",
      "NMI:0.3514785677405216\n",
      "CA:0.42993951612903225\n",
      "\n",
      "Run: 7\n",
      "SimCLR/STL10/pretrained_SimCLR_100_STL10_5.pth:\n",
      "NMI:0.35183684503714596\n",
      "CA:0.4329637096774194\n",
      "\n",
      "Run: 8\n",
      "SimCLR/STL10/pretrained_SimCLR_100_STL10_5.pth:\n",
      "NMI:0.3571536840803336\n",
      "CA:0.43107358870967744\n",
      "\n",
      "Run: 9\n",
      "SimCLR/STL10/pretrained_SimCLR_100_STL10_5.pth:\n",
      "NMI:0.35271853647248946\n",
      "CA:0.4305695564516129\n",
      "\n",
      "SimCLR/STL10/pretrained_SimCLR_100_STL10_6.pth\n",
      "Run: 0\n",
      "SimCLR/STL10/pretrained_SimCLR_100_STL10_6.pth:\n",
      "NMI:0.3526864949667579\n",
      "CA:0.4063760080645161\n",
      "\n",
      "Run: 1\n",
      "SimCLR/STL10/pretrained_SimCLR_100_STL10_6.pth:\n",
      "NMI:0.35440965997986007\n",
      "CA:0.40259576612903225\n",
      "\n",
      "Run: 2\n",
      "SimCLR/STL10/pretrained_SimCLR_100_STL10_6.pth:\n",
      "NMI:0.3520528417203827\n",
      "CA:0.4027217741935484\n",
      "\n",
      "Run: 3\n",
      "SimCLR/STL10/pretrained_SimCLR_100_STL10_6.pth:\n",
      "NMI:0.3491242108575469\n",
      "CA:0.3950352822580645\n",
      "\n",
      "Run: 4\n",
      "SimCLR/STL10/pretrained_SimCLR_100_STL10_6.pth:\n",
      "NMI:0.3497949666903811\n",
      "CA:0.4017137096774194\n",
      "\n",
      "Run: 5\n",
      "SimCLR/STL10/pretrained_SimCLR_100_STL10_6.pth:\n",
      "NMI:0.3474786224869291\n",
      "CA:0.4002016129032258\n",
      "\n",
      "Run: 6\n",
      "SimCLR/STL10/pretrained_SimCLR_100_STL10_6.pth:\n",
      "NMI:0.35101637174321704\n",
      "CA:0.3989415322580645\n",
      "\n",
      "Run: 7\n",
      "SimCLR/STL10/pretrained_SimCLR_100_STL10_6.pth:\n",
      "NMI:0.34816358174817624\n",
      "CA:0.40335181451612906\n",
      "\n",
      "Run: 8\n",
      "SimCLR/STL10/pretrained_SimCLR_100_STL10_6.pth:\n",
      "NMI:0.35401692525286976\n",
      "CA:0.4046118951612903\n",
      "\n",
      "Run: 9\n",
      "SimCLR/STL10/pretrained_SimCLR_100_STL10_6.pth:\n",
      "NMI:0.3513560701895294\n",
      "CA:0.4036038306451613\n",
      "\n",
      "SimCLR/STL10/pretrained_SimCLR_100_STL10_7.pth\n",
      "Run: 0\n",
      "SimCLR/STL10/pretrained_SimCLR_100_STL10_7.pth:\n",
      "NMI:0.34683239991557946\n",
      "CA:0.3985635080645161\n",
      "\n",
      "Run: 1\n",
      "SimCLR/STL10/pretrained_SimCLR_100_STL10_7.pth:\n",
      "NMI:0.35339940255621854\n",
      "CA:0.40599798387096775\n",
      "\n",
      "Run: 2\n",
      "SimCLR/STL10/pretrained_SimCLR_100_STL10_7.pth:\n",
      "NMI:0.35074810448625926\n",
      "CA:0.4022177419354839\n",
      "\n",
      "Run: 3\n",
      "SimCLR/STL10/pretrained_SimCLR_100_STL10_7.pth:\n",
      "NMI:0.347408174854528\n",
      "CA:0.40209173387096775\n",
      "\n",
      "Run: 4\n",
      "SimCLR/STL10/pretrained_SimCLR_100_STL10_7.pth:\n",
      "NMI:0.3488111336616004\n",
      "CA:0.4073840725806452\n",
      "\n",
      "Run: 5\n",
      "SimCLR/STL10/pretrained_SimCLR_100_STL10_7.pth:\n",
      "NMI:0.3465945518276605\n",
      "CA:0.3975554435483871\n",
      "\n",
      "Run: 6\n",
      "SimCLR/STL10/pretrained_SimCLR_100_STL10_7.pth:\n",
      "NMI:0.34946509441483303\n",
      "CA:0.4049899193548387\n",
      "\n",
      "Run: 7\n",
      "SimCLR/STL10/pretrained_SimCLR_100_STL10_7.pth:\n",
      "NMI:0.3454530569147971\n",
      "CA:0.4056199596774194\n",
      "\n",
      "Run: 8\n",
      "SimCLR/STL10/pretrained_SimCLR_100_STL10_7.pth:\n",
      "NMI:0.3487431212704456\n",
      "CA:0.3979334677419355\n",
      "\n",
      "Run: 9\n",
      "SimCLR/STL10/pretrained_SimCLR_100_STL10_7.pth:\n",
      "NMI:0.3424661593991746\n",
      "CA:0.3839465725806452\n",
      "\n",
      "SimCLR/STL10/pretrained_SimCLR_100_STL10_8.pth\n",
      "Run: 0\n",
      "SimCLR/STL10/pretrained_SimCLR_100_STL10_8.pth:\n",
      "NMI:0.35894178959355305\n",
      "CA:0.42036290322580644\n",
      "\n",
      "Run: 1\n",
      "SimCLR/STL10/pretrained_SimCLR_100_STL10_8.pth:\n",
      "NMI:0.3584637394875386\n",
      "CA:0.41872479838709675\n",
      "\n",
      "Run: 2\n",
      "SimCLR/STL10/pretrained_SimCLR_100_STL10_8.pth:\n",
      "NMI:0.3578241214594666\n",
      "CA:0.4083921370967742\n",
      "\n",
      "Run: 3\n",
      "SimCLR/STL10/pretrained_SimCLR_100_STL10_8.pth:\n",
      "NMI:0.3573411581059628\n",
      "CA:0.40625\n",
      "\n",
      "Run: 4\n",
      "SimCLR/STL10/pretrained_SimCLR_100_STL10_8.pth:\n",
      "NMI:0.35806400278610534\n",
      "CA:0.4140625\n",
      "\n",
      "Run: 5\n",
      "SimCLR/STL10/pretrained_SimCLR_100_STL10_8.pth:\n",
      "NMI:0.3538076982601518\n",
      "CA:0.4080141129032258\n",
      "\n",
      "Run: 6\n",
      "SimCLR/STL10/pretrained_SimCLR_100_STL10_8.pth:\n",
      "NMI:0.3645181210284739\n",
      "CA:0.4383820564516129\n",
      "\n",
      "Run: 7\n",
      "SimCLR/STL10/pretrained_SimCLR_100_STL10_8.pth:\n",
      "NMI:0.3551529700945401\n",
      "CA:0.4141885080645161\n",
      "\n"
     ]
    },
    {
     "name": "stdout",
     "output_type": "stream",
     "text": [
      "Run: 8\n",
      "SimCLR/STL10/pretrained_SimCLR_100_STL10_8.pth:\n",
      "NMI:0.3618373005741058\n",
      "CA:0.4371219758064516\n",
      "\n",
      "Run: 9\n",
      "SimCLR/STL10/pretrained_SimCLR_100_STL10_8.pth:\n",
      "NMI:0.35850066801374036\n",
      "CA:0.4202368951612903\n",
      "\n",
      "SimCLR/STL10/pretrained_SimCLR_100_STL10_9.pth\n",
      "Run: 0\n",
      "SimCLR/STL10/pretrained_SimCLR_100_STL10_9.pth:\n",
      "NMI:0.345780918406083\n",
      "CA:0.4308215725806452\n",
      "\n",
      "Run: 1\n",
      "SimCLR/STL10/pretrained_SimCLR_100_STL10_9.pth:\n",
      "NMI:0.34263444537424864\n",
      "CA:0.4275453629032258\n",
      "\n",
      "Run: 2\n",
      "SimCLR/STL10/pretrained_SimCLR_100_STL10_9.pth:\n",
      "NMI:0.3395235057401971\n",
      "CA:0.4162046370967742\n",
      "\n",
      "Run: 3\n",
      "SimCLR/STL10/pretrained_SimCLR_100_STL10_9.pth:\n",
      "NMI:0.34818286140455823\n",
      "CA:0.42477318548387094\n",
      "\n",
      "Run: 4\n",
      "SimCLR/STL10/pretrained_SimCLR_100_STL10_9.pth:\n",
      "NMI:0.34996029237783643\n",
      "CA:0.43119959677419356\n",
      "\n",
      "Run: 5\n",
      "SimCLR/STL10/pretrained_SimCLR_100_STL10_9.pth:\n",
      "NMI:0.3483539582407274\n",
      "CA:0.4348538306451613\n",
      "\n",
      "Run: 6\n",
      "SimCLR/STL10/pretrained_SimCLR_100_STL10_9.pth:\n",
      "NMI:0.36046175392237284\n",
      "CA:0.421875\n",
      "\n",
      "Run: 7\n",
      "SimCLR/STL10/pretrained_SimCLR_100_STL10_9.pth:\n",
      "NMI:0.3478734703664266\n",
      "CA:0.4291834677419355\n",
      "\n",
      "Run: 8\n",
      "SimCLR/STL10/pretrained_SimCLR_100_STL10_9.pth:\n",
      "NMI:0.3468508546119236\n",
      "CA:0.4231350806451613\n",
      "\n",
      "Run: 9\n",
      "SimCLR/STL10/pretrained_SimCLR_100_STL10_9.pth:\n",
      "NMI:0.34428484362452194\n",
      "CA:0.4241431451612903\n",
      "\n",
      "NMI mean: 0.3515\n",
      "NMI variance: 0.0051\n",
      "Cluser accuracy mean: 0.4106\n",
      "Cluser accuracy variance: 0.0163\n"
     ]
    }
   ],
   "source": [
    "df_nmis_100, df_cas_100 = compute_everything(path_nmis, path_cas, model_name, stl10_colors_classes, compute=True, dataset='STL10')"
   ]
  },
  {
   "cell_type": "markdown",
   "id": "preliminary-given",
   "metadata": {},
   "source": [
    "### STL10: IDEC"
   ]
  },
  {
   "cell_type": "code",
   "execution_count": 129,
   "id": "handed-chest",
   "metadata": {},
   "outputs": [],
   "source": [
    "path_nmis = 'trained_models/SimCLR/STL10/nmis_new.csv'\n",
    "path_cas = 'trained_models/SimCLR/STL10/cas_new.csv'\n",
    "model_name = 'SimCLR/STL10/pretrained_IDEC_SimCLR'"
   ]
  },
  {
   "cell_type": "code",
   "execution_count": 130,
   "id": "supreme-engineering",
   "metadata": {},
   "outputs": [
    {
     "name": "stdout",
     "output_type": "stream",
     "text": [
      "SimCLR/STL10/pretrained_IDEC_SimCLR_0.pth\n"
     ]
    },
    {
     "name": "stderr",
     "output_type": "stream",
     "text": [
      "D:\\everything\\Studium\\WS2020\\Bachelor\\dcl_b\\models\\dec\\DEC.py:11: UserWarning: To copy construct from a tensor, it is recommended to use sourceTensor.clone().detach() or sourceTensor.clone().detach().requires_grad_(True), rather than torch.tensor(sourceTensor).\n",
      "  self.centers = torch.nn.Parameter(torch.tensor(init_np_centers), requires_grad=True)\n"
     ]
    },
    {
     "name": "stdout",
     "output_type": "stream",
     "text": [
      "Run: 0\n",
      "SimCLR/STL10/pretrained_IDEC_SimCLR_0.pth:\n",
      "NMI:0.35185063644231607\n",
      "CA:0.3821824596774194\n",
      "\n",
      "Run: 1\n",
      "SimCLR/STL10/pretrained_IDEC_SimCLR_0.pth:\n",
      "NMI:0.351086659757207\n",
      "CA:0.3824344758064516\n",
      "\n",
      "Run: 2\n",
      "SimCLR/STL10/pretrained_IDEC_SimCLR_0.pth:\n",
      "NMI:0.35140961741247956\n",
      "CA:0.3834425403225806\n",
      "\n",
      "Run: 3\n",
      "SimCLR/STL10/pretrained_IDEC_SimCLR_0.pth:\n",
      "NMI:0.3508059195785592\n",
      "CA:0.3815524193548387\n",
      "\n",
      "Run: 4\n",
      "SimCLR/STL10/pretrained_IDEC_SimCLR_0.pth:\n",
      "NMI:0.3509081167066927\n",
      "CA:0.3824344758064516\n",
      "\n",
      "Run: 5\n",
      "SimCLR/STL10/pretrained_IDEC_SimCLR_0.pth:\n",
      "NMI:0.35094221413443727\n",
      "CA:0.3824344758064516\n",
      "\n",
      "Run: 6\n",
      "SimCLR/STL10/pretrained_IDEC_SimCLR_0.pth:\n",
      "NMI:0.3513377567819569\n",
      "CA:0.38306451612903225\n",
      "\n",
      "Run: 7\n",
      "SimCLR/STL10/pretrained_IDEC_SimCLR_0.pth:\n",
      "NMI:0.3512743600391995\n",
      "CA:0.3829385080645161\n",
      "\n",
      "Run: 8\n",
      "SimCLR/STL10/pretrained_IDEC_SimCLR_0.pth:\n",
      "NMI:0.3515272813476721\n",
      "CA:0.3824344758064516\n",
      "\n",
      "Run: 9\n",
      "SimCLR/STL10/pretrained_IDEC_SimCLR_0.pth:\n",
      "NMI:0.3518546498245455\n",
      "CA:0.3836945564516129\n",
      "\n",
      "SimCLR/STL10/pretrained_IDEC_SimCLR_1.pth\n"
     ]
    },
    {
     "name": "stderr",
     "output_type": "stream",
     "text": [
      "D:\\everything\\Studium\\WS2020\\Bachelor\\dcl_b\\models\\dec\\DEC.py:11: UserWarning: To copy construct from a tensor, it is recommended to use sourceTensor.clone().detach() or sourceTensor.clone().detach().requires_grad_(True), rather than torch.tensor(sourceTensor).\n",
      "  self.centers = torch.nn.Parameter(torch.tensor(init_np_centers), requires_grad=True)\n"
     ]
    },
    {
     "name": "stdout",
     "output_type": "stream",
     "text": [
      "Run: 0\n",
      "SimCLR/STL10/pretrained_IDEC_SimCLR_1.pth:\n",
      "NMI:0.3629892805092482\n",
      "CA:0.40032762096774194\n",
      "\n",
      "Run: 1\n",
      "SimCLR/STL10/pretrained_IDEC_SimCLR_1.pth:\n",
      "NMI:0.3634968958654731\n",
      "CA:0.40095766129032256\n",
      "\n",
      "Run: 2\n",
      "SimCLR/STL10/pretrained_IDEC_SimCLR_1.pth:\n",
      "NMI:0.3633315528386298\n",
      "CA:0.40083165322580644\n",
      "\n",
      "Run: 3\n",
      "SimCLR/STL10/pretrained_IDEC_SimCLR_1.pth:\n",
      "NMI:0.3632249167819628\n",
      "CA:0.40133568548387094\n",
      "\n",
      "Run: 4\n",
      "SimCLR/STL10/pretrained_IDEC_SimCLR_1.pth:\n",
      "NMI:0.3633832004348692\n",
      "CA:0.40045362903225806\n",
      "\n",
      "Run: 5\n",
      "SimCLR/STL10/pretrained_IDEC_SimCLR_1.pth:\n",
      "NMI:0.3627780302463887\n",
      "CA:0.40083165322580644\n",
      "\n",
      "Run: 6\n",
      "SimCLR/STL10/pretrained_IDEC_SimCLR_1.pth:\n",
      "NMI:0.36247733387834996\n",
      "CA:0.40083165322580644\n",
      "\n",
      "Run: 7\n",
      "SimCLR/STL10/pretrained_IDEC_SimCLR_1.pth:\n",
      "NMI:0.36344233436282336\n",
      "CA:0.4019657258064516\n",
      "\n",
      "Run: 8\n",
      "SimCLR/STL10/pretrained_IDEC_SimCLR_1.pth:\n",
      "NMI:0.36354347508011337\n",
      "CA:0.4017137096774194\n",
      "\n",
      "Run: 9\n",
      "SimCLR/STL10/pretrained_IDEC_SimCLR_1.pth:\n",
      "NMI:0.36299613410836734\n",
      "CA:0.40095766129032256\n",
      "\n",
      "SimCLR/STL10/pretrained_IDEC_SimCLR_2.pth\n"
     ]
    },
    {
     "name": "stderr",
     "output_type": "stream",
     "text": [
      "D:\\everything\\Studium\\WS2020\\Bachelor\\dcl_b\\models\\dec\\DEC.py:11: UserWarning: To copy construct from a tensor, it is recommended to use sourceTensor.clone().detach() or sourceTensor.clone().detach().requires_grad_(True), rather than torch.tensor(sourceTensor).\n",
      "  self.centers = torch.nn.Parameter(torch.tensor(init_np_centers), requires_grad=True)\n"
     ]
    },
    {
     "name": "stdout",
     "output_type": "stream",
     "text": [
      "Run: 0\n",
      "SimCLR/STL10/pretrained_IDEC_SimCLR_2.pth:\n",
      "NMI:0.3647841052034609\n",
      "CA:0.39705141129032256\n",
      "\n",
      "Run: 1\n",
      "SimCLR/STL10/pretrained_IDEC_SimCLR_2.pth:\n",
      "NMI:0.36502152163647766\n",
      "CA:0.39818548387096775\n",
      "\n",
      "Run: 2\n",
      "SimCLR/STL10/pretrained_IDEC_SimCLR_2.pth:\n",
      "NMI:0.36450288672299963\n",
      "CA:0.3979334677419355\n",
      "\n",
      "Run: 3\n",
      "SimCLR/STL10/pretrained_IDEC_SimCLR_2.pth:\n",
      "NMI:0.3652596724528327\n",
      "CA:0.3973034274193548\n",
      "\n"
     ]
    },
    {
     "ename": "KeyboardInterrupt",
     "evalue": "",
     "output_type": "error",
     "traceback": [
      "\u001b[1;31m---------------------------------------------------------------------------\u001b[0m",
      "\u001b[1;31mKeyboardInterrupt\u001b[0m                         Traceback (most recent call last)",
      "\u001b[1;32m<ipython-input-130-777fa8423705>\u001b[0m in \u001b[0;36m<module>\u001b[1;34m\u001b[0m\n\u001b[1;32m----> 1\u001b[1;33m \u001b[0mdf_nmis_100\u001b[0m\u001b[1;33m,\u001b[0m \u001b[0mdf_cas_100\u001b[0m \u001b[1;33m=\u001b[0m \u001b[0mcompute_everything\u001b[0m\u001b[1;33m(\u001b[0m\u001b[0mpath_nmis\u001b[0m\u001b[1;33m,\u001b[0m \u001b[0mpath_cas\u001b[0m\u001b[1;33m,\u001b[0m \u001b[0mmodel_name\u001b[0m\u001b[1;33m,\u001b[0m \u001b[0mstl10_colors_classes\u001b[0m\u001b[1;33m,\u001b[0m \u001b[0mcompute\u001b[0m\u001b[1;33m=\u001b[0m\u001b[1;32mTrue\u001b[0m\u001b[1;33m,\u001b[0m \u001b[0mdataset\u001b[0m\u001b[1;33m=\u001b[0m\u001b[1;34m'STL10'\u001b[0m\u001b[1;33m)\u001b[0m\u001b[1;33m\u001b[0m\u001b[1;33m\u001b[0m\u001b[0m\n\u001b[0m",
      "\u001b[1;32m<ipython-input-37-5140dd31d9b1>\u001b[0m in \u001b[0;36mcompute_everything\u001b[1;34m(path_nmis, path_cas, model_name, colors_classes, compute, dataset)\u001b[0m\n\u001b[0;32m      1\u001b[0m \u001b[1;32mdef\u001b[0m \u001b[0mcompute_everything\u001b[0m\u001b[1;33m(\u001b[0m\u001b[0mpath_nmis\u001b[0m\u001b[1;33m,\u001b[0m \u001b[0mpath_cas\u001b[0m\u001b[1;33m,\u001b[0m \u001b[0mmodel_name\u001b[0m\u001b[1;33m,\u001b[0m \u001b[0mcolors_classes\u001b[0m\u001b[1;33m,\u001b[0m \u001b[0mcompute\u001b[0m\u001b[1;33m=\u001b[0m\u001b[1;32mTrue\u001b[0m\u001b[1;33m,\u001b[0m \u001b[0mdataset\u001b[0m\u001b[1;33m=\u001b[0m\u001b[1;34m'CIFAR'\u001b[0m\u001b[1;33m)\u001b[0m\u001b[1;33m:\u001b[0m\u001b[1;33m\u001b[0m\u001b[1;33m\u001b[0m\u001b[0m\n\u001b[0;32m      2\u001b[0m     \u001b[1;32mif\u001b[0m \u001b[0mcompute\u001b[0m\u001b[1;33m:\u001b[0m\u001b[1;33m\u001b[0m\u001b[1;33m\u001b[0m\u001b[0m\n\u001b[1;32m----> 3\u001b[1;33m         \u001b[0msimclr_nmis_cifar_idec\u001b[0m\u001b[1;33m,\u001b[0m \u001b[0msimclr_cas_cifar_idec\u001b[0m \u001b[1;33m=\u001b[0m \u001b[0mget_nmis_and_cas_10_runs\u001b[0m\u001b[1;33m(\u001b[0m\u001b[0mmodel_name\u001b[0m\u001b[1;33m,\u001b[0m \u001b[0mcolors_classes\u001b[0m\u001b[1;33m,\u001b[0m \u001b[0mdevice\u001b[0m\u001b[1;33m,\u001b[0m \u001b[0mdataset\u001b[0m\u001b[1;33m=\u001b[0m\u001b[0mdataset\u001b[0m\u001b[1;33m)\u001b[0m\u001b[1;33m\u001b[0m\u001b[1;33m\u001b[0m\u001b[0m\n\u001b[0m\u001b[0;32m      4\u001b[0m \u001b[1;33m\u001b[0m\u001b[0m\n\u001b[0;32m      5\u001b[0m         \u001b[0mdf_simclr_nmis_cifar_idec\u001b[0m \u001b[1;33m=\u001b[0m \u001b[0mpd\u001b[0m\u001b[1;33m.\u001b[0m\u001b[0mDataFrame\u001b[0m\u001b[1;33m(\u001b[0m\u001b[0msimclr_nmis_cifar_idec\u001b[0m\u001b[1;33m)\u001b[0m\u001b[1;33m\u001b[0m\u001b[1;33m\u001b[0m\u001b[0m\n",
      "\u001b[1;32m<ipython-input-127-ac9d82176a6d>\u001b[0m in \u001b[0;36mget_nmis_and_cas_10_runs\u001b[1;34m(model_name, colors_classes, device, dataset)\u001b[0m\n\u001b[0;32m     20\u001b[0m \u001b[1;33m\u001b[0m\u001b[0m\n\u001b[0;32m     21\u001b[0m         \u001b[1;32mfor\u001b[0m \u001b[0mk\u001b[0m \u001b[1;32min\u001b[0m \u001b[0mrange\u001b[0m\u001b[1;33m(\u001b[0m\u001b[1;36m10\u001b[0m\u001b[1;33m)\u001b[0m\u001b[1;33m:\u001b[0m\u001b[1;33m\u001b[0m\u001b[1;33m\u001b[0m\u001b[0m\n\u001b[1;32m---> 22\u001b[1;33m             \u001b[0mlabels\u001b[0m\u001b[1;33m,\u001b[0m \u001b[0mkmeans\u001b[0m\u001b[1;33m,\u001b[0m \u001b[0mnmi\u001b[0m\u001b[1;33m,\u001b[0m \u001b[0m_\u001b[0m\u001b[1;33m,\u001b[0m \u001b[0m_\u001b[0m \u001b[1;33m=\u001b[0m \u001b[0mcompute_nmi_and_pca\u001b[0m\u001b[1;33m(\u001b[0m\u001b[0mmodel\u001b[0m\u001b[1;33m,\u001b[0m \u001b[0mname\u001b[0m\u001b[1;33m,\u001b[0m \u001b[0mcolors_classes\u001b[0m\u001b[1;33m,\u001b[0m \u001b[0mdevice\u001b[0m\u001b[1;33m,\u001b[0m \u001b[0mtestloader\u001b[0m\u001b[1;33m)\u001b[0m\u001b[1;33m\u001b[0m\u001b[1;33m\u001b[0m\u001b[0m\n\u001b[0m\u001b[0;32m     23\u001b[0m             \u001b[0mnmis\u001b[0m\u001b[1;33m[\u001b[0m\u001b[0mi\u001b[0m\u001b[1;33m]\u001b[0m\u001b[1;33m.\u001b[0m\u001b[0mappend\u001b[0m\u001b[1;33m(\u001b[0m\u001b[0mnmi\u001b[0m\u001b[1;33m)\u001b[0m\u001b[1;33m\u001b[0m\u001b[1;33m\u001b[0m\u001b[0m\n\u001b[0;32m     24\u001b[0m \u001b[1;33m\u001b[0m\u001b[0m\n",
      "\u001b[1;32mD:\\everything\\Studium\\WS2020\\Bachelor\\dcl_b\\util\\util.py\u001b[0m in \u001b[0;36mcompute_nmi_and_pca\u001b[1;34m(model, name, colors_classes, device, testloader, flatten, layer)\u001b[0m\n\u001b[0;32m    143\u001b[0m \u001b[1;33m\u001b[0m\u001b[0m\n\u001b[0;32m    144\u001b[0m     \u001b[0mpca\u001b[0m \u001b[1;33m=\u001b[0m \u001b[0mPCA\u001b[0m\u001b[1;33m(\u001b[0m\u001b[0mn_components\u001b[0m\u001b[1;33m=\u001b[0m\u001b[1;36m2\u001b[0m\u001b[1;33m)\u001b[0m\u001b[1;33m\u001b[0m\u001b[1;33m\u001b[0m\u001b[0m\n\u001b[1;32m--> 145\u001b[1;33m     \u001b[0mreduced_data\u001b[0m \u001b[1;33m=\u001b[0m \u001b[0mpca\u001b[0m\u001b[1;33m.\u001b[0m\u001b[0mfit_transform\u001b[0m\u001b[1;33m(\u001b[0m\u001b[0membedded_data\u001b[0m\u001b[1;33m)\u001b[0m\u001b[1;33m\u001b[0m\u001b[1;33m\u001b[0m\u001b[0m\n\u001b[0m\u001b[0;32m    146\u001b[0m \u001b[1;33m\u001b[0m\u001b[0m\n\u001b[0;32m    147\u001b[0m     \u001b[1;32mreturn\u001b[0m \u001b[0mlabels\u001b[0m\u001b[1;33m,\u001b[0m \u001b[0mkmeans\u001b[0m\u001b[1;33m,\u001b[0m \u001b[0mnmi\u001b[0m\u001b[1;33m,\u001b[0m \u001b[0mreduced_data\u001b[0m\u001b[1;33m,\u001b[0m \u001b[0mlable_classes\u001b[0m\u001b[1;33m\u001b[0m\u001b[1;33m\u001b[0m\u001b[0m\n",
      "\u001b[1;32mc:\\users\\alina\\appdata\\local\\programs\\python\\python39\\lib\\site-packages\\sklearn\\decomposition\\_pca.py\u001b[0m in \u001b[0;36mfit_transform\u001b[1;34m(self, X, y)\u001b[0m\n\u001b[0;32m    374\u001b[0m         \u001b[0mC\u001b[0m\u001b[1;33m-\u001b[0m\u001b[0mordered\u001b[0m \u001b[0marray\u001b[0m\u001b[1;33m,\u001b[0m \u001b[0muse\u001b[0m \u001b[1;34m'np.ascontiguousarray'\u001b[0m\u001b[1;33m.\u001b[0m\u001b[1;33m\u001b[0m\u001b[1;33m\u001b[0m\u001b[0m\n\u001b[0;32m    375\u001b[0m         \"\"\"\n\u001b[1;32m--> 376\u001b[1;33m         \u001b[0mU\u001b[0m\u001b[1;33m,\u001b[0m \u001b[0mS\u001b[0m\u001b[1;33m,\u001b[0m \u001b[0mVt\u001b[0m \u001b[1;33m=\u001b[0m \u001b[0mself\u001b[0m\u001b[1;33m.\u001b[0m\u001b[0m_fit\u001b[0m\u001b[1;33m(\u001b[0m\u001b[0mX\u001b[0m\u001b[1;33m)\u001b[0m\u001b[1;33m\u001b[0m\u001b[1;33m\u001b[0m\u001b[0m\n\u001b[0m\u001b[0;32m    377\u001b[0m         \u001b[0mU\u001b[0m \u001b[1;33m=\u001b[0m \u001b[0mU\u001b[0m\u001b[1;33m[\u001b[0m\u001b[1;33m:\u001b[0m\u001b[1;33m,\u001b[0m \u001b[1;33m:\u001b[0m\u001b[0mself\u001b[0m\u001b[1;33m.\u001b[0m\u001b[0mn_components_\u001b[0m\u001b[1;33m]\u001b[0m\u001b[1;33m\u001b[0m\u001b[1;33m\u001b[0m\u001b[0m\n\u001b[0;32m    378\u001b[0m \u001b[1;33m\u001b[0m\u001b[0m\n",
      "\u001b[1;32mc:\\users\\alina\\appdata\\local\\programs\\python\\python39\\lib\\site-packages\\sklearn\\decomposition\\_pca.py\u001b[0m in \u001b[0;36m_fit\u001b[1;34m(self, X)\u001b[0m\n\u001b[0;32m    423\u001b[0m             \u001b[1;32mreturn\u001b[0m \u001b[0mself\u001b[0m\u001b[1;33m.\u001b[0m\u001b[0m_fit_full\u001b[0m\u001b[1;33m(\u001b[0m\u001b[0mX\u001b[0m\u001b[1;33m,\u001b[0m \u001b[0mn_components\u001b[0m\u001b[1;33m)\u001b[0m\u001b[1;33m\u001b[0m\u001b[1;33m\u001b[0m\u001b[0m\n\u001b[0;32m    424\u001b[0m         \u001b[1;32melif\u001b[0m \u001b[0mself\u001b[0m\u001b[1;33m.\u001b[0m\u001b[0m_fit_svd_solver\u001b[0m \u001b[1;32min\u001b[0m \u001b[1;33m[\u001b[0m\u001b[1;34m'arpack'\u001b[0m\u001b[1;33m,\u001b[0m \u001b[1;34m'randomized'\u001b[0m\u001b[1;33m]\u001b[0m\u001b[1;33m:\u001b[0m\u001b[1;33m\u001b[0m\u001b[1;33m\u001b[0m\u001b[0m\n\u001b[1;32m--> 425\u001b[1;33m             \u001b[1;32mreturn\u001b[0m \u001b[0mself\u001b[0m\u001b[1;33m.\u001b[0m\u001b[0m_fit_truncated\u001b[0m\u001b[1;33m(\u001b[0m\u001b[0mX\u001b[0m\u001b[1;33m,\u001b[0m \u001b[0mn_components\u001b[0m\u001b[1;33m,\u001b[0m \u001b[0mself\u001b[0m\u001b[1;33m.\u001b[0m\u001b[0m_fit_svd_solver\u001b[0m\u001b[1;33m)\u001b[0m\u001b[1;33m\u001b[0m\u001b[1;33m\u001b[0m\u001b[0m\n\u001b[0m\u001b[0;32m    426\u001b[0m         \u001b[1;32melse\u001b[0m\u001b[1;33m:\u001b[0m\u001b[1;33m\u001b[0m\u001b[1;33m\u001b[0m\u001b[0m\n\u001b[0;32m    427\u001b[0m             raise ValueError(\"Unrecognized svd_solver='{0}'\"\n",
      "\u001b[1;32mc:\\users\\alina\\appdata\\local\\programs\\python\\python39\\lib\\site-packages\\sklearn\\decomposition\\_pca.py\u001b[0m in \u001b[0;36m_fit_truncated\u001b[1;34m(self, X, n_components, svd_solver)\u001b[0m\n\u001b[0;32m    539\u001b[0m         \u001b[1;32melif\u001b[0m \u001b[0msvd_solver\u001b[0m \u001b[1;33m==\u001b[0m \u001b[1;34m'randomized'\u001b[0m\u001b[1;33m:\u001b[0m\u001b[1;33m\u001b[0m\u001b[1;33m\u001b[0m\u001b[0m\n\u001b[0;32m    540\u001b[0m             \u001b[1;31m# sign flipping is done inside\u001b[0m\u001b[1;33m\u001b[0m\u001b[1;33m\u001b[0m\u001b[1;33m\u001b[0m\u001b[0m\n\u001b[1;32m--> 541\u001b[1;33m             U, S, Vt = randomized_svd(X, n_components=n_components,\n\u001b[0m\u001b[0;32m    542\u001b[0m                                       \u001b[0mn_iter\u001b[0m\u001b[1;33m=\u001b[0m\u001b[0mself\u001b[0m\u001b[1;33m.\u001b[0m\u001b[0miterated_power\u001b[0m\u001b[1;33m,\u001b[0m\u001b[1;33m\u001b[0m\u001b[1;33m\u001b[0m\u001b[0m\n\u001b[0;32m    543\u001b[0m                                       \u001b[0mflip_sign\u001b[0m\u001b[1;33m=\u001b[0m\u001b[1;32mTrue\u001b[0m\u001b[1;33m,\u001b[0m\u001b[1;33m\u001b[0m\u001b[1;33m\u001b[0m\u001b[0m\n",
      "\u001b[1;32mc:\\users\\alina\\appdata\\local\\programs\\python\\python39\\lib\\site-packages\\sklearn\\utils\\validation.py\u001b[0m in \u001b[0;36minner_f\u001b[1;34m(*args, **kwargs)\u001b[0m\n\u001b[0;32m     61\u001b[0m             \u001b[0mextra_args\u001b[0m \u001b[1;33m=\u001b[0m \u001b[0mlen\u001b[0m\u001b[1;33m(\u001b[0m\u001b[0margs\u001b[0m\u001b[1;33m)\u001b[0m \u001b[1;33m-\u001b[0m \u001b[0mlen\u001b[0m\u001b[1;33m(\u001b[0m\u001b[0mall_args\u001b[0m\u001b[1;33m)\u001b[0m\u001b[1;33m\u001b[0m\u001b[1;33m\u001b[0m\u001b[0m\n\u001b[0;32m     62\u001b[0m             \u001b[1;32mif\u001b[0m \u001b[0mextra_args\u001b[0m \u001b[1;33m<=\u001b[0m \u001b[1;36m0\u001b[0m\u001b[1;33m:\u001b[0m\u001b[1;33m\u001b[0m\u001b[1;33m\u001b[0m\u001b[0m\n\u001b[1;32m---> 63\u001b[1;33m                 \u001b[1;32mreturn\u001b[0m \u001b[0mf\u001b[0m\u001b[1;33m(\u001b[0m\u001b[1;33m*\u001b[0m\u001b[0margs\u001b[0m\u001b[1;33m,\u001b[0m \u001b[1;33m**\u001b[0m\u001b[0mkwargs\u001b[0m\u001b[1;33m)\u001b[0m\u001b[1;33m\u001b[0m\u001b[1;33m\u001b[0m\u001b[0m\n\u001b[0m\u001b[0;32m     64\u001b[0m \u001b[1;33m\u001b[0m\u001b[0m\n\u001b[0;32m     65\u001b[0m             \u001b[1;31m# extra_args > 0\u001b[0m\u001b[1;33m\u001b[0m\u001b[1;33m\u001b[0m\u001b[1;33m\u001b[0m\u001b[0m\n",
      "\u001b[1;32mc:\\users\\alina\\appdata\\local\\programs\\python\\python39\\lib\\site-packages\\sklearn\\utils\\extmath.py\u001b[0m in \u001b[0;36mrandomized_svd\u001b[1;34m(M, n_components, n_oversamples, n_iter, power_iteration_normalizer, transpose, flip_sign, random_state)\u001b[0m\n\u001b[0;32m    346\u001b[0m         \u001b[0mM\u001b[0m \u001b[1;33m=\u001b[0m \u001b[0mM\u001b[0m\u001b[1;33m.\u001b[0m\u001b[0mT\u001b[0m\u001b[1;33m\u001b[0m\u001b[1;33m\u001b[0m\u001b[0m\n\u001b[0;32m    347\u001b[0m \u001b[1;33m\u001b[0m\u001b[0m\n\u001b[1;32m--> 348\u001b[1;33m     Q = randomized_range_finder(\n\u001b[0m\u001b[0;32m    349\u001b[0m         \u001b[0mM\u001b[0m\u001b[1;33m,\u001b[0m \u001b[0msize\u001b[0m\u001b[1;33m=\u001b[0m\u001b[0mn_random\u001b[0m\u001b[1;33m,\u001b[0m \u001b[0mn_iter\u001b[0m\u001b[1;33m=\u001b[0m\u001b[0mn_iter\u001b[0m\u001b[1;33m,\u001b[0m\u001b[1;33m\u001b[0m\u001b[1;33m\u001b[0m\u001b[0m\n\u001b[0;32m    350\u001b[0m         \u001b[0mpower_iteration_normalizer\u001b[0m\u001b[1;33m=\u001b[0m\u001b[0mpower_iteration_normalizer\u001b[0m\u001b[1;33m,\u001b[0m\u001b[1;33m\u001b[0m\u001b[1;33m\u001b[0m\u001b[0m\n",
      "\u001b[1;32mc:\\users\\alina\\appdata\\local\\programs\\python\\python39\\lib\\site-packages\\sklearn\\utils\\validation.py\u001b[0m in \u001b[0;36minner_f\u001b[1;34m(*args, **kwargs)\u001b[0m\n\u001b[0;32m     61\u001b[0m             \u001b[0mextra_args\u001b[0m \u001b[1;33m=\u001b[0m \u001b[0mlen\u001b[0m\u001b[1;33m(\u001b[0m\u001b[0margs\u001b[0m\u001b[1;33m)\u001b[0m \u001b[1;33m-\u001b[0m \u001b[0mlen\u001b[0m\u001b[1;33m(\u001b[0m\u001b[0mall_args\u001b[0m\u001b[1;33m)\u001b[0m\u001b[1;33m\u001b[0m\u001b[1;33m\u001b[0m\u001b[0m\n\u001b[0;32m     62\u001b[0m             \u001b[1;32mif\u001b[0m \u001b[0mextra_args\u001b[0m \u001b[1;33m<=\u001b[0m \u001b[1;36m0\u001b[0m\u001b[1;33m:\u001b[0m\u001b[1;33m\u001b[0m\u001b[1;33m\u001b[0m\u001b[0m\n\u001b[1;32m---> 63\u001b[1;33m                 \u001b[1;32mreturn\u001b[0m \u001b[0mf\u001b[0m\u001b[1;33m(\u001b[0m\u001b[1;33m*\u001b[0m\u001b[0margs\u001b[0m\u001b[1;33m,\u001b[0m \u001b[1;33m**\u001b[0m\u001b[0mkwargs\u001b[0m\u001b[1;33m)\u001b[0m\u001b[1;33m\u001b[0m\u001b[1;33m\u001b[0m\u001b[0m\n\u001b[0m\u001b[0;32m     64\u001b[0m \u001b[1;33m\u001b[0m\u001b[0m\n\u001b[0;32m     65\u001b[0m             \u001b[1;31m# extra_args > 0\u001b[0m\u001b[1;33m\u001b[0m\u001b[1;33m\u001b[0m\u001b[1;33m\u001b[0m\u001b[0m\n",
      "\u001b[1;32mc:\\users\\alina\\appdata\\local\\programs\\python\\python39\\lib\\site-packages\\sklearn\\utils\\extmath.py\u001b[0m in \u001b[0;36mrandomized_range_finder\u001b[1;34m(A, size, n_iter, power_iteration_normalizer, random_state)\u001b[0m\n\u001b[0;32m    232\u001b[0m         \u001b[1;32melif\u001b[0m \u001b[0mpower_iteration_normalizer\u001b[0m \u001b[1;33m==\u001b[0m \u001b[1;34m'LU'\u001b[0m\u001b[1;33m:\u001b[0m\u001b[1;33m\u001b[0m\u001b[1;33m\u001b[0m\u001b[0m\n\u001b[0;32m    233\u001b[0m             \u001b[0mQ\u001b[0m\u001b[1;33m,\u001b[0m \u001b[0m_\u001b[0m \u001b[1;33m=\u001b[0m \u001b[0mlinalg\u001b[0m\u001b[1;33m.\u001b[0m\u001b[0mlu\u001b[0m\u001b[1;33m(\u001b[0m\u001b[0msafe_sparse_dot\u001b[0m\u001b[1;33m(\u001b[0m\u001b[0mA\u001b[0m\u001b[1;33m,\u001b[0m \u001b[0mQ\u001b[0m\u001b[1;33m)\u001b[0m\u001b[1;33m,\u001b[0m \u001b[0mpermute_l\u001b[0m\u001b[1;33m=\u001b[0m\u001b[1;32mTrue\u001b[0m\u001b[1;33m)\u001b[0m\u001b[1;33m\u001b[0m\u001b[1;33m\u001b[0m\u001b[0m\n\u001b[1;32m--> 234\u001b[1;33m             \u001b[0mQ\u001b[0m\u001b[1;33m,\u001b[0m \u001b[0m_\u001b[0m \u001b[1;33m=\u001b[0m \u001b[0mlinalg\u001b[0m\u001b[1;33m.\u001b[0m\u001b[0mlu\u001b[0m\u001b[1;33m(\u001b[0m\u001b[0msafe_sparse_dot\u001b[0m\u001b[1;33m(\u001b[0m\u001b[0mA\u001b[0m\u001b[1;33m.\u001b[0m\u001b[0mT\u001b[0m\u001b[1;33m,\u001b[0m \u001b[0mQ\u001b[0m\u001b[1;33m)\u001b[0m\u001b[1;33m,\u001b[0m \u001b[0mpermute_l\u001b[0m\u001b[1;33m=\u001b[0m\u001b[1;32mTrue\u001b[0m\u001b[1;33m)\u001b[0m\u001b[1;33m\u001b[0m\u001b[1;33m\u001b[0m\u001b[0m\n\u001b[0m\u001b[0;32m    235\u001b[0m         \u001b[1;32melif\u001b[0m \u001b[0mpower_iteration_normalizer\u001b[0m \u001b[1;33m==\u001b[0m \u001b[1;34m'QR'\u001b[0m\u001b[1;33m:\u001b[0m\u001b[1;33m\u001b[0m\u001b[1;33m\u001b[0m\u001b[0m\n\u001b[0;32m    236\u001b[0m             \u001b[0mQ\u001b[0m\u001b[1;33m,\u001b[0m \u001b[0m_\u001b[0m \u001b[1;33m=\u001b[0m \u001b[0mlinalg\u001b[0m\u001b[1;33m.\u001b[0m\u001b[0mqr\u001b[0m\u001b[1;33m(\u001b[0m\u001b[0msafe_sparse_dot\u001b[0m\u001b[1;33m(\u001b[0m\u001b[0mA\u001b[0m\u001b[1;33m,\u001b[0m \u001b[0mQ\u001b[0m\u001b[1;33m)\u001b[0m\u001b[1;33m,\u001b[0m \u001b[0mmode\u001b[0m\u001b[1;33m=\u001b[0m\u001b[1;34m'economic'\u001b[0m\u001b[1;33m)\u001b[0m\u001b[1;33m\u001b[0m\u001b[1;33m\u001b[0m\u001b[0m\n",
      "\u001b[1;32mc:\\users\\alina\\appdata\\local\\programs\\python\\python39\\lib\\site-packages\\sklearn\\utils\\validation.py\u001b[0m in \u001b[0;36minner_f\u001b[1;34m(*args, **kwargs)\u001b[0m\n\u001b[0;32m     61\u001b[0m             \u001b[0mextra_args\u001b[0m \u001b[1;33m=\u001b[0m \u001b[0mlen\u001b[0m\u001b[1;33m(\u001b[0m\u001b[0margs\u001b[0m\u001b[1;33m)\u001b[0m \u001b[1;33m-\u001b[0m \u001b[0mlen\u001b[0m\u001b[1;33m(\u001b[0m\u001b[0mall_args\u001b[0m\u001b[1;33m)\u001b[0m\u001b[1;33m\u001b[0m\u001b[1;33m\u001b[0m\u001b[0m\n\u001b[0;32m     62\u001b[0m             \u001b[1;32mif\u001b[0m \u001b[0mextra_args\u001b[0m \u001b[1;33m<=\u001b[0m \u001b[1;36m0\u001b[0m\u001b[1;33m:\u001b[0m\u001b[1;33m\u001b[0m\u001b[1;33m\u001b[0m\u001b[0m\n\u001b[1;32m---> 63\u001b[1;33m                 \u001b[1;32mreturn\u001b[0m \u001b[0mf\u001b[0m\u001b[1;33m(\u001b[0m\u001b[1;33m*\u001b[0m\u001b[0margs\u001b[0m\u001b[1;33m,\u001b[0m \u001b[1;33m**\u001b[0m\u001b[0mkwargs\u001b[0m\u001b[1;33m)\u001b[0m\u001b[1;33m\u001b[0m\u001b[1;33m\u001b[0m\u001b[0m\n\u001b[0m\u001b[0;32m     64\u001b[0m \u001b[1;33m\u001b[0m\u001b[0m\n\u001b[0;32m     65\u001b[0m             \u001b[1;31m# extra_args > 0\u001b[0m\u001b[1;33m\u001b[0m\u001b[1;33m\u001b[0m\u001b[1;33m\u001b[0m\u001b[0m\n",
      "\u001b[1;32mc:\\users\\alina\\appdata\\local\\programs\\python\\python39\\lib\\site-packages\\sklearn\\utils\\extmath.py\u001b[0m in \u001b[0;36msafe_sparse_dot\u001b[1;34m(a, b, dense_output)\u001b[0m\n\u001b[0;32m    150\u001b[0m             \u001b[0mret\u001b[0m \u001b[1;33m=\u001b[0m \u001b[0mnp\u001b[0m\u001b[1;33m.\u001b[0m\u001b[0mdot\u001b[0m\u001b[1;33m(\u001b[0m\u001b[0ma\u001b[0m\u001b[1;33m,\u001b[0m \u001b[0mb\u001b[0m\u001b[1;33m)\u001b[0m\u001b[1;33m\u001b[0m\u001b[1;33m\u001b[0m\u001b[0m\n\u001b[0;32m    151\u001b[0m     \u001b[1;32melse\u001b[0m\u001b[1;33m:\u001b[0m\u001b[1;33m\u001b[0m\u001b[1;33m\u001b[0m\u001b[0m\n\u001b[1;32m--> 152\u001b[1;33m         \u001b[0mret\u001b[0m \u001b[1;33m=\u001b[0m \u001b[0ma\u001b[0m \u001b[1;33m@\u001b[0m \u001b[0mb\u001b[0m\u001b[1;33m\u001b[0m\u001b[1;33m\u001b[0m\u001b[0m\n\u001b[0m\u001b[0;32m    153\u001b[0m \u001b[1;33m\u001b[0m\u001b[0m\n\u001b[0;32m    154\u001b[0m     if (sparse.issparse(a) and sparse.issparse(b)\n",
      "\u001b[1;31mKeyboardInterrupt\u001b[0m: "
     ]
    }
   ],
   "source": [
    "df_nmis_100, df_cas_100 = compute_everything(path_nmis, path_cas, model_name, stl10_colors_classes, compute=True, dataset='STL10')"
   ]
  },
  {
   "cell_type": "code",
   "execution_count": null,
   "id": "minor-compression",
   "metadata": {},
   "outputs": [],
   "source": []
  },
  {
   "cell_type": "code",
   "execution_count": 55,
   "id": "unusual-germany",
   "metadata": {},
   "outputs": [],
   "source": [
    "path_nmis_dec = 'trained_models/SimCLR/STL10/nmis_idec.csv'\n",
    "path_cas_dec = 'trained_models/SimCLR/STL10/cas_idec.csv'"
   ]
  },
  {
   "cell_type": "markdown",
   "id": "heavy-deadline",
   "metadata": {},
   "source": [
    "Uncomment this part to generate new NMI and cluster accuracies"
   ]
  },
  {
   "cell_type": "code",
   "execution_count": 58,
   "id": "educational-penetration",
   "metadata": {},
   "outputs": [
    {
     "name": "stdout",
     "output_type": "stream",
     "text": [
      "SimCLR\\STL10\\IDEC_SimCLR_0.pth\n",
      "Run: 0\n",
      "SimCLR\\STL10\\IDEC_SimCLR_0.pth:\n",
      "NMI:0.3869628444149622\n",
      "CA:0.40940020161290325\n",
      "\n",
      "Run: 1\n",
      "SimCLR\\STL10\\IDEC_SimCLR_0.pth:\n",
      "NMI:0.3879816584306516\n",
      "CA:0.4592993951612903\n",
      "\n",
      "Run: 2\n",
      "SimCLR\\STL10\\IDEC_SimCLR_0.pth:\n",
      "NMI:0.38804349746831\n",
      "CA:0.45955141129032256\n",
      "\n",
      "Run: 3\n",
      "SimCLR\\STL10\\IDEC_SimCLR_0.pth:\n",
      "NMI:0.38824743891354596\n",
      "CA:0.4609375\n",
      "\n",
      "Run: 4\n",
      "SimCLR\\STL10\\IDEC_SimCLR_0.pth:\n",
      "NMI:0.38797855102524814\n",
      "CA:0.45904737903225806\n",
      "\n",
      "Run: 5\n",
      "SimCLR\\STL10\\IDEC_SimCLR_0.pth:\n",
      "NMI:0.389371483921124\n",
      "CA:0.46018145161290325\n",
      "\n",
      "Run: 6\n",
      "SimCLR\\STL10\\IDEC_SimCLR_0.pth:\n",
      "NMI:0.38789969893711596\n",
      "CA:0.46118951612903225\n",
      "\n",
      "Run: 7\n",
      "SimCLR\\STL10\\IDEC_SimCLR_0.pth:\n",
      "NMI:0.38762481632268164\n",
      "CA:0.4598034274193548\n",
      "\n",
      "Run: 8\n",
      "SimCLR\\STL10\\IDEC_SimCLR_0.pth:\n",
      "NMI:0.3885151264576402\n",
      "CA:0.4604334677419355\n",
      "\n"
     ]
    },
    {
     "ename": "KeyboardInterrupt",
     "evalue": "",
     "output_type": "error",
     "traceback": [
      "\u001b[1;31m---------------------------------------------------------------------------\u001b[0m",
      "\u001b[1;31mKeyboardInterrupt\u001b[0m                         Traceback (most recent call last)",
      "\u001b[1;32m<ipython-input-58-299018755cd3>\u001b[0m in \u001b[0;36m<module>\u001b[1;34m\u001b[0m\n\u001b[1;32m----> 1\u001b[1;33m \u001b[0msimclr_nmis_stl10_idec\u001b[0m\u001b[1;33m,\u001b[0m \u001b[0msimclr_cas_stl10_idec\u001b[0m \u001b[1;33m=\u001b[0m \u001b[0mget_nmis_and_cas_10_runs\u001b[0m\u001b[1;33m(\u001b[0m\u001b[1;34m'SimCLR\\STL10\\IDEC_SimCLR'\u001b[0m\u001b[1;33m,\u001b[0m \u001b[0mstl10_colors_classes\u001b[0m\u001b[1;33m,\u001b[0m \u001b[0mdevice\u001b[0m\u001b[1;33m,\u001b[0m \u001b[0mdataset\u001b[0m\u001b[1;33m=\u001b[0m\u001b[1;34m'STL10'\u001b[0m\u001b[1;33m)\u001b[0m\u001b[1;33m\u001b[0m\u001b[1;33m\u001b[0m\u001b[0m\n\u001b[0m",
      "\u001b[1;32m<ipython-input-31-3ddf412d2dde>\u001b[0m in \u001b[0;36mget_nmis_and_cas_10_runs\u001b[1;34m(model_name, colors_classes, device, dataset)\u001b[0m\n\u001b[0;32m     14\u001b[0m \u001b[1;33m\u001b[0m\u001b[0m\n\u001b[0;32m     15\u001b[0m         \u001b[1;32mfor\u001b[0m \u001b[0mk\u001b[0m \u001b[1;32min\u001b[0m \u001b[0mrange\u001b[0m\u001b[1;33m(\u001b[0m\u001b[1;36m10\u001b[0m\u001b[1;33m)\u001b[0m\u001b[1;33m:\u001b[0m\u001b[1;33m\u001b[0m\u001b[1;33m\u001b[0m\u001b[0m\n\u001b[1;32m---> 16\u001b[1;33m             \u001b[0mlabels\u001b[0m\u001b[1;33m,\u001b[0m \u001b[0mkmeans\u001b[0m\u001b[1;33m,\u001b[0m \u001b[0mnmi\u001b[0m\u001b[1;33m,\u001b[0m \u001b[0m_\u001b[0m\u001b[1;33m,\u001b[0m \u001b[0m_\u001b[0m \u001b[1;33m=\u001b[0m \u001b[0mcompute_nmi_and_pca\u001b[0m\u001b[1;33m(\u001b[0m\u001b[0mmodel\u001b[0m\u001b[1;33m,\u001b[0m \u001b[0mname\u001b[0m\u001b[1;33m,\u001b[0m \u001b[0mcolors_classes\u001b[0m\u001b[1;33m,\u001b[0m \u001b[0mdevice\u001b[0m\u001b[1;33m,\u001b[0m \u001b[0mtestloader\u001b[0m\u001b[1;33m)\u001b[0m\u001b[1;33m\u001b[0m\u001b[1;33m\u001b[0m\u001b[0m\n\u001b[0m\u001b[0;32m     17\u001b[0m             \u001b[0mnmis\u001b[0m\u001b[1;33m[\u001b[0m\u001b[0mi\u001b[0m\u001b[1;33m]\u001b[0m\u001b[1;33m.\u001b[0m\u001b[0mappend\u001b[0m\u001b[1;33m(\u001b[0m\u001b[0mnmi\u001b[0m\u001b[1;33m)\u001b[0m\u001b[1;33m\u001b[0m\u001b[1;33m\u001b[0m\u001b[0m\n\u001b[0;32m     18\u001b[0m \u001b[1;33m\u001b[0m\u001b[0m\n",
      "\u001b[1;32mD:\\everything\\Studium\\WS2020\\Bachelor\\dcl_b\\util\\util.py\u001b[0m in \u001b[0;36mcompute_nmi_and_pca\u001b[1;34m(model, name, colors_classes, device, testloader, flatten, layer)\u001b[0m\n\u001b[0;32m    134\u001b[0m         \u001b[0membedded_data\u001b[0m\u001b[1;33m,\u001b[0m \u001b[0mlabels\u001b[0m \u001b[1;33m=\u001b[0m \u001b[0mdecoder\u001b[0m\u001b[1;33m.\u001b[0m\u001b[0mforward_batch\u001b[0m\u001b[1;33m(\u001b[0m\u001b[0mtestloader\u001b[0m\u001b[1;33m,\u001b[0m \u001b[0mdevice\u001b[0m\u001b[1;33m=\u001b[0m\u001b[0mdevice\u001b[0m\u001b[1;33m,\u001b[0m \u001b[0mflatten\u001b[0m\u001b[1;33m=\u001b[0m\u001b[0mflatten\u001b[0m\u001b[1;33m,\u001b[0m \u001b[0mlayer\u001b[0m\u001b[1;33m=\u001b[0m\u001b[0mlayer\u001b[0m\u001b[1;33m)\u001b[0m\u001b[1;33m\u001b[0m\u001b[1;33m\u001b[0m\u001b[0m\n\u001b[0;32m    135\u001b[0m     \u001b[1;32melse\u001b[0m\u001b[1;33m:\u001b[0m\u001b[1;33m\u001b[0m\u001b[1;33m\u001b[0m\u001b[0m\n\u001b[1;32m--> 136\u001b[1;33m         \u001b[0membedded_data\u001b[0m\u001b[1;33m,\u001b[0m \u001b[0mlabels\u001b[0m \u001b[1;33m=\u001b[0m \u001b[0mdecoder\u001b[0m\u001b[1;33m.\u001b[0m\u001b[0mforward_batch\u001b[0m\u001b[1;33m(\u001b[0m\u001b[0mtestloader\u001b[0m\u001b[1;33m,\u001b[0m \u001b[0mdevice\u001b[0m\u001b[1;33m)\u001b[0m\u001b[1;33m\u001b[0m\u001b[1;33m\u001b[0m\u001b[0m\n\u001b[0m\u001b[0;32m    137\u001b[0m     \u001b[0mlable_classes\u001b[0m \u001b[1;33m=\u001b[0m \u001b[1;33m[\u001b[0m\u001b[0mcolors_classes\u001b[0m\u001b[1;33m[\u001b[0m\u001b[0ml\u001b[0m\u001b[1;33m]\u001b[0m \u001b[1;32mfor\u001b[0m \u001b[0ml\u001b[0m \u001b[1;32min\u001b[0m \u001b[0mlabels\u001b[0m\u001b[1;33m]\u001b[0m\u001b[1;33m\u001b[0m\u001b[1;33m\u001b[0m\u001b[0m\n\u001b[0;32m    138\u001b[0m \u001b[1;33m\u001b[0m\u001b[0m\n",
      "\u001b[1;32mD:\\everything\\Studium\\WS2020\\Bachelor\\dcl_b\\models\\simclr\\simclr.py\u001b[0m in \u001b[0;36mforward_batch\u001b[1;34m(self, data_loader, device, flatten)\u001b[0m\n\u001b[0;32m     47\u001b[0m             \u001b[0mbatch_data\u001b[0m \u001b[1;33m=\u001b[0m \u001b[0mbatch\u001b[0m\u001b[1;33m.\u001b[0m\u001b[0mto\u001b[0m\u001b[1;33m(\u001b[0m\u001b[0mdevice\u001b[0m\u001b[1;33m)\u001b[0m\u001b[1;33m\u001b[0m\u001b[1;33m\u001b[0m\u001b[0m\n\u001b[0;32m     48\u001b[0m             \u001b[0mfeats\u001b[0m\u001b[1;33m,\u001b[0m \u001b[0m_\u001b[0m \u001b[1;33m=\u001b[0m \u001b[0mself\u001b[0m\u001b[1;33m(\u001b[0m\u001b[0mbatch_data\u001b[0m\u001b[1;33m)\u001b[0m\u001b[1;33m\u001b[0m\u001b[1;33m\u001b[0m\u001b[0m\n\u001b[1;32m---> 49\u001b[1;33m             \u001b[0membeddings\u001b[0m\u001b[1;33m.\u001b[0m\u001b[0mappend\u001b[0m\u001b[1;33m(\u001b[0m\u001b[0mfeats\u001b[0m\u001b[1;33m.\u001b[0m\u001b[0mdetach\u001b[0m\u001b[1;33m(\u001b[0m\u001b[1;33m)\u001b[0m\u001b[1;33m.\u001b[0m\u001b[0mcpu\u001b[0m\u001b[1;33m(\u001b[0m\u001b[1;33m)\u001b[0m\u001b[1;33m)\u001b[0m\u001b[1;33m\u001b[0m\u001b[1;33m\u001b[0m\u001b[0m\n\u001b[0m\u001b[0;32m     50\u001b[0m             \u001b[0mlabels\u001b[0m \u001b[1;33m=\u001b[0m \u001b[0mlabels\u001b[0m \u001b[1;33m+\u001b[0m \u001b[0mbatch_labels\u001b[0m\u001b[1;33m.\u001b[0m\u001b[0mtolist\u001b[0m\u001b[1;33m(\u001b[0m\u001b[1;33m)\u001b[0m\u001b[1;33m\u001b[0m\u001b[1;33m\u001b[0m\u001b[0m\n\u001b[0;32m     51\u001b[0m         \u001b[1;32mreturn\u001b[0m \u001b[0mtorch\u001b[0m\u001b[1;33m.\u001b[0m\u001b[0mcat\u001b[0m\u001b[1;33m(\u001b[0m\u001b[0membeddings\u001b[0m\u001b[1;33m,\u001b[0m \u001b[0mdim\u001b[0m\u001b[1;33m=\u001b[0m\u001b[1;36m0\u001b[0m\u001b[1;33m)\u001b[0m\u001b[1;33m.\u001b[0m\u001b[0mnumpy\u001b[0m\u001b[1;33m(\u001b[0m\u001b[1;33m)\u001b[0m\u001b[1;33m,\u001b[0m \u001b[0mnp\u001b[0m\u001b[1;33m.\u001b[0m\u001b[0marray\u001b[0m\u001b[1;33m(\u001b[0m\u001b[0mlabels\u001b[0m\u001b[1;33m)\u001b[0m\u001b[1;33m\u001b[0m\u001b[1;33m\u001b[0m\u001b[0m\n",
      "\u001b[1;31mKeyboardInterrupt\u001b[0m: "
     ]
    }
   ],
   "source": [
    "simclr_nmis_stl10_idec, simclr_cas_stl10_idec = get_nmis_and_cas_10_runs('SimCLR\\STL10\\IDEC_SimCLR', stl10_colors_classes, device, dataset='STL10')"
   ]
  },
  {
   "cell_type": "code",
   "execution_count": null,
   "id": "pressed-reservation",
   "metadata": {},
   "outputs": [],
   "source": [
    "df_simclr_nmis_stl10_idec = pd.DataFrame(simclr_nmis_stl10_idec)\n",
    "df_simclr_cas_stl10_idec = pd.DataFrame(simclr_cas_stl10_idec)"
   ]
  },
  {
   "cell_type": "code",
   "execution_count": null,
   "id": "short-appearance",
   "metadata": {},
   "outputs": [],
   "source": [
    "df_simclr_nmis_stl10_idec.to_csv(path_nmis)\n",
    "df_simclr_cas_stl10_idec.to_csv(path_cas)"
   ]
  },
  {
   "cell_type": "code",
   "execution_count": null,
   "id": "satisfactory-stations",
   "metadata": {},
   "outputs": [],
   "source": [
    "df_simclr_nmis_stl10_idec = pd.read_csv(path_nmis, index_col=0)\n",
    "df_simclr_cas_stl10_idec = pd.read_csv(path_cas, index_col=0)"
   ]
  },
  {
   "cell_type": "code",
   "execution_count": null,
   "id": "arabic-silver",
   "metadata": {},
   "outputs": [],
   "source": [
    "print_total_mean_and_var('NMI', df_simclr_nmis_stl10_idec)"
   ]
  },
  {
   "cell_type": "code",
   "execution_count": null,
   "id": "infinite-certificate",
   "metadata": {},
   "outputs": [],
   "source": [
    "print_total_mean_and_var('Cluser accuracy', df_simclr_cas_stl10_idec)"
   ]
  },
  {
   "cell_type": "code",
   "execution_count": null,
   "id": "suffering-trick",
   "metadata": {},
   "outputs": [],
   "source": []
  }
 ],
 "metadata": {
  "kernelspec": {
   "display_name": "Python 3",
   "language": "python",
   "name": "python3"
  },
  "language_info": {
   "codemirror_mode": {
    "name": "ipython",
    "version": 3
   },
   "file_extension": ".py",
   "mimetype": "text/x-python",
   "name": "python",
   "nbconvert_exporter": "python",
   "pygments_lexer": "ipython3",
   "version": "3.9.1"
  }
 },
 "nbformat": 4,
 "nbformat_minor": 5
}
